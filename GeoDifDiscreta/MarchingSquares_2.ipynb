{
 "cells": [
  {
   "attachments": {},
   "cell_type": "markdown",
   "metadata": {},
   "source": [
    "## Marching Squares"
   ]
  },
  {
   "cell_type": "code",
   "execution_count": 8,
   "metadata": {},
   "outputs": [],
   "source": [
    "import numpy as np\n",
    "import plotly.graph_objects as go"
   ]
  },
  {
   "cell_type": "code",
   "execution_count": 79,
   "metadata": {},
   "outputs": [],
   "source": [
    "def marching_squares(func, canvas: np.ndarray, num_div: float = 4, isovalue: float = 1, cell_width: int = 50, color = 'rgb(0, 0, 255)', thickness: int = 2) -> None:\n",
    "\n",
    "    width = canvas.shape[1]//cell_width\n",
    "    height = canvas.shape[0]//cell_width\n",
    "\n",
    "    grid = np.zeros((width, height))\n",
    "\n",
    "    fig = go.Figure()\n",
    "\n",
    "    for i in range(width):\n",
    "        for j in range(height):\n",
    "            grid[i][j] = func(1/num_div * (i - width//2), 1/num_div * (j - height//2))\n",
    "            # width//2 y height//2 es para centrar la figura\n",
    "\n",
    "    def linear_interpolation(a: float, b: float) -> float:\n",
    "        return abs((isovalue - a)/(a - b))\n",
    "\n",
    "    def draw(p1: tuple, p2: tuple):\n",
    "        fig.add_trace(go.Scatter(x=[p1[0], p2[0]], y=[p1[1], p2[1]], mode='lines', line=dict(color=color), showlegend=False))\n",
    "        \n",
    "    for w in range(width - 1):\n",
    "        for h in range(height - 1):\n",
    "            cell = [0, 0, 0, 0]\n",
    "            \n",
    "            c0 = grid[w][h]\n",
    "            c1 = grid[w + 1][h]\n",
    "            c2 = grid[w + 1][h + 1]\n",
    "            c3 = grid[w][h + 1]\n",
    "\n",
    "            if c0 > isovalue: cell[0] = 1\n",
    "            if c1 > isovalue: cell[1] = 1\n",
    "            if c2 > isovalue: cell[2] = 1\n",
    "            if c3 > isovalue: cell[3] = 1\n",
    "\n",
    "            if cell == [0, 0, 0, 0] or cell == [1, 1, 1, 1]:\n",
    "                pass\n",
    "            elif cell == [0, 0, 0, 1]:\n",
    "                    d1 = linear_interpolation(c3, c2)\n",
    "                    d2 = linear_interpolation(c0, c3)\n",
    "                    draw((w + d1, h + 1), (w, h + d2))\n",
    "            elif cell == [0, 0, 1, 0]:\n",
    "                    d1 = linear_interpolation(c3, c2)\n",
    "                    d2 = linear_interpolation(c1, c2)\n",
    "                    draw((w + d1, h + 1), (w + 1, h + d2))\n",
    "            elif cell == [0, 0, 1, 1] or cell == [1, 1, 0, 0]:\n",
    "                    d1 = linear_interpolation(c0, c3)\n",
    "                    d2 = linear_interpolation(c1, c2)\n",
    "                    draw((w, h + d1), (w + 1, h + d2))\n",
    "            elif cell == [0, 1, 0, 0] or cell == [1, 0, 1, 1]:\n",
    "                    d1 = linear_interpolation(c0, c1)\n",
    "                    d2 = linear_interpolation(c1, c2)\n",
    "                    draw((w + d1, h), (w + 1, h + d2))\n",
    "            elif cell == [0, 1, 0, 1]:\n",
    "                    d1 = linear_interpolation(c0, c1)\n",
    "                    d2 = linear_interpolation(c1, c2)\n",
    "                    d3 = linear_interpolation(c3, c2)\n",
    "                    d4 = linear_interpolation(c0, c3)\n",
    "                    draw((w, h + d4), (w + d1, h))\n",
    "                    draw((w + d3, h + 1), (w + 1, h + d2))\n",
    "            elif cell == [0, 1, 1, 0] or cell == [1, 0, 0, 1]:\n",
    "                    d1 = linear_interpolation(c0, c1)\n",
    "                    d2 = linear_interpolation(c3, c2)\n",
    "                    draw((w + d1, h), (w + d2, h + 1))\n",
    "            elif cell == [0, 1, 1, 1] or cell == [1, 0, 0, 0]:\n",
    "                    d1 = linear_interpolation(c0, c1)\n",
    "                    d2 = linear_interpolation(c0, c3)\n",
    "                    draw((w, h + d2), (w + d1, h))\n",
    "            elif cell == [1, 0, 1, 0]:\n",
    "                    d1 = linear_interpolation(c0, c1)\n",
    "                    d2 = linear_interpolation(c1, c2)\n",
    "                    d3 = linear_interpolation(c3, c2)\n",
    "                    d4 = linear_interpolation(c0, c3)\n",
    "                    draw((w + d1, h), (w + 1, h + d2))\n",
    "                    draw((w, h + d4), (w + d3, h + 1))\n",
    "            elif cell == [1, 1, 0, 1]:\n",
    "                    d1 = linear_interpolation(c1, c2)\n",
    "                    d2 = linear_interpolation(c3, c2)\n",
    "                    draw((w + d2, h + 1), (w + 1, h + d1))\n",
    "            elif cell == [1, 1, 1, 0]:\n",
    "                    d1 = linear_interpolation(c0, c3)\n",
    "                    d2 = linear_interpolation(c3, c2)\n",
    "                    draw((w, h + d1), (w + d2, h + 1))\n",
    "    fig.update_layout(\n",
    "        margin=dict(l=25, r=25, t=25, b=25),\n",
    "        paper_bgcolor=\"LightSteelBlue\", width=500, height=500)\n",
    "    fig.update_xaxes(dtick=1, showticklabels=False)\n",
    "    fig.update_yaxes(dtick=1, showticklabels=False)\n",
    "    fig.show()"
   ]
  },
  {
   "cell_type": "code",
   "execution_count": 80,
   "metadata": {},
   "outputs": [
    {
     "data": {
      "application/vnd.plotly.v1+json": {
       "config": {
        "plotlyServerURL": "https://plot.ly"
       },
       "data": [
        {
         "line": {
          "color": "rgb(0, 0, 255)"
         },
         "mode": "lines",
         "showlegend": false,
         "type": "scatter",
         "x": [
          1,
          1
         ],
         "y": [
          5,
          5
         ]
        },
        {
         "line": {
          "color": "rgb(0, 0, 255)"
         },
         "mode": "lines",
         "showlegend": false,
         "type": "scatter",
         "x": [
          1,
          1
         ],
         "y": [
          5,
          5
         ]
        },
        {
         "line": {
          "color": "rgb(0, 0, 255)"
         },
         "mode": "lines",
         "showlegend": false,
         "type": "scatter",
         "x": [
          1.5714285714285714,
          2
         ],
         "y": [
          3,
          2.4
         ]
        },
        {
         "line": {
          "color": "rgb(0, 0, 255)"
         },
         "mode": "lines",
         "showlegend": false,
         "type": "scatter",
         "x": [
          1.5714285714285714,
          1.1428571428571428
         ],
         "y": [
          3,
          4
         ]
        },
        {
         "line": {
          "color": "rgb(0, 0, 255)"
         },
         "mode": "lines",
         "showlegend": false,
         "type": "scatter",
         "x": [
          1,
          1.1428571428571428
         ],
         "y": [
          5,
          4
         ]
        },
        {
         "line": {
          "color": "rgb(0, 0, 255)"
         },
         "mode": "lines",
         "showlegend": false,
         "type": "scatter",
         "x": [
          1.1428571428571428,
          1
         ],
         "y": [
          6,
          5
         ]
        },
        {
         "line": {
          "color": "rgb(0, 0, 255)"
         },
         "mode": "lines",
         "showlegend": false,
         "type": "scatter",
         "x": [
          1.1428571428571428,
          1.5714285714285714
         ],
         "y": [
          6,
          7
         ]
        },
        {
         "line": {
          "color": "rgb(0, 0, 255)"
         },
         "mode": "lines",
         "showlegend": false,
         "type": "scatter",
         "x": [
          1.5714285714285714,
          2
         ],
         "y": [
          7,
          7.6
         ]
        },
        {
         "line": {
          "color": "rgb(0, 0, 255)"
         },
         "mode": "lines",
         "showlegend": false,
         "type": "scatter",
         "x": [
          2.4,
          3
         ],
         "y": [
          2,
          1.5714285714285714
         ]
        },
        {
         "line": {
          "color": "rgb(0, 0, 255)"
         },
         "mode": "lines",
         "showlegend": false,
         "type": "scatter",
         "x": [
          2,
          2.4
         ],
         "y": [
          2.4,
          2
         ]
        },
        {
         "line": {
          "color": "rgb(0, 0, 255)"
         },
         "mode": "lines",
         "showlegend": false,
         "type": "scatter",
         "x": [
          2.4,
          2
         ],
         "y": [
          8,
          7.6
         ]
        },
        {
         "line": {
          "color": "rgb(0, 0, 255)"
         },
         "mode": "lines",
         "showlegend": false,
         "type": "scatter",
         "x": [
          2.4,
          3
         ],
         "y": [
          8,
          8.428571428571429
         ]
        },
        {
         "line": {
          "color": "rgb(0, 0, 255)"
         },
         "mode": "lines",
         "showlegend": false,
         "type": "scatter",
         "x": [
          3,
          4
         ],
         "y": [
          1.5714285714285714,
          1.1428571428571428
         ]
        },
        {
         "line": {
          "color": "rgb(0, 0, 255)"
         },
         "mode": "lines",
         "showlegend": false,
         "type": "scatter",
         "x": [
          3,
          4
         ],
         "y": [
          8.428571428571429,
          8.857142857142858
         ]
        },
        {
         "line": {
          "color": "rgb(0, 0, 255)"
         },
         "mode": "lines",
         "showlegend": false,
         "type": "scatter",
         "x": [
          5,
          5
         ],
         "y": [
          1,
          1
         ]
        },
        {
         "line": {
          "color": "rgb(0, 0, 255)"
         },
         "mode": "lines",
         "showlegend": false,
         "type": "scatter",
         "x": [
          4,
          5
         ],
         "y": [
          1.1428571428571428,
          1
         ]
        },
        {
         "line": {
          "color": "rgb(0, 0, 255)"
         },
         "mode": "lines",
         "showlegend": false,
         "type": "scatter",
         "x": [
          5,
          4
         ],
         "y": [
          9,
          8.857142857142858
         ]
        },
        {
         "line": {
          "color": "rgb(0, 0, 255)"
         },
         "mode": "lines",
         "showlegend": false,
         "type": "scatter",
         "x": [
          5,
          5
         ],
         "y": [
          1,
          1
         ]
        },
        {
         "line": {
          "color": "rgb(0, 0, 255)"
         },
         "mode": "lines",
         "showlegend": false,
         "type": "scatter",
         "x": [
          5,
          6
         ],
         "y": [
          1,
          1.1428571428571428
         ]
        },
        {
         "line": {
          "color": "rgb(0, 0, 255)"
         },
         "mode": "lines",
         "showlegend": false,
         "type": "scatter",
         "x": [
          5,
          6
         ],
         "y": [
          9,
          8.857142857142858
         ]
        },
        {
         "line": {
          "color": "rgb(0, 0, 255)"
         },
         "mode": "lines",
         "showlegend": false,
         "type": "scatter",
         "x": [
          6,
          7
         ],
         "y": [
          1.1428571428571428,
          1.5714285714285714
         ]
        },
        {
         "line": {
          "color": "rgb(0, 0, 255)"
         },
         "mode": "lines",
         "showlegend": false,
         "type": "scatter",
         "x": [
          6,
          7
         ],
         "y": [
          8.857142857142858,
          8.428571428571429
         ]
        },
        {
         "line": {
          "color": "rgb(0, 0, 255)"
         },
         "mode": "lines",
         "showlegend": false,
         "type": "scatter",
         "x": [
          7,
          7.6
         ],
         "y": [
          1.5714285714285714,
          2
         ]
        },
        {
         "line": {
          "color": "rgb(0, 0, 255)"
         },
         "mode": "lines",
         "showlegend": false,
         "type": "scatter",
         "x": [
          7.6,
          8
         ],
         "y": [
          2,
          2.4
         ]
        },
        {
         "line": {
          "color": "rgb(0, 0, 255)"
         },
         "mode": "lines",
         "showlegend": false,
         "type": "scatter",
         "x": [
          7.6,
          8
         ],
         "y": [
          8,
          7.6
         ]
        },
        {
         "line": {
          "color": "rgb(0, 0, 255)"
         },
         "mode": "lines",
         "showlegend": false,
         "type": "scatter",
         "x": [
          7,
          7.6
         ],
         "y": [
          8.428571428571429,
          8
         ]
        },
        {
         "line": {
          "color": "rgb(0, 0, 255)"
         },
         "mode": "lines",
         "showlegend": false,
         "type": "scatter",
         "x": [
          8,
          8.428571428571429
         ],
         "y": [
          2.4,
          3
         ]
        },
        {
         "line": {
          "color": "rgb(0, 0, 255)"
         },
         "mode": "lines",
         "showlegend": false,
         "type": "scatter",
         "x": [
          8.428571428571429,
          8.857142857142858
         ],
         "y": [
          3,
          4
         ]
        },
        {
         "line": {
          "color": "rgb(0, 0, 255)"
         },
         "mode": "lines",
         "showlegend": false,
         "type": "scatter",
         "x": [
          8.857142857142858,
          9
         ],
         "y": [
          4,
          5
         ]
        },
        {
         "line": {
          "color": "rgb(0, 0, 255)"
         },
         "mode": "lines",
         "showlegend": false,
         "type": "scatter",
         "x": [
          8.857142857142858,
          9
         ],
         "y": [
          6,
          5
         ]
        },
        {
         "line": {
          "color": "rgb(0, 0, 255)"
         },
         "mode": "lines",
         "showlegend": false,
         "type": "scatter",
         "x": [
          8.857142857142858,
          8.428571428571429
         ],
         "y": [
          6,
          7
         ]
        },
        {
         "line": {
          "color": "rgb(0, 0, 255)"
         },
         "mode": "lines",
         "showlegend": false,
         "type": "scatter",
         "x": [
          8,
          8.428571428571429
         ],
         "y": [
          7.6,
          7
         ]
        }
       ],
       "layout": {
        "height": 500,
        "margin": {
         "b": 25,
         "l": 25,
         "r": 25,
         "t": 25
        },
        "paper_bgcolor": "LightSteelBlue",
        "template": {
         "data": {
          "bar": [
           {
            "error_x": {
             "color": "#2a3f5f"
            },
            "error_y": {
             "color": "#2a3f5f"
            },
            "marker": {
             "line": {
              "color": "#E5ECF6",
              "width": 0.5
             },
             "pattern": {
              "fillmode": "overlay",
              "size": 10,
              "solidity": 0.2
             }
            },
            "type": "bar"
           }
          ],
          "barpolar": [
           {
            "marker": {
             "line": {
              "color": "#E5ECF6",
              "width": 0.5
             },
             "pattern": {
              "fillmode": "overlay",
              "size": 10,
              "solidity": 0.2
             }
            },
            "type": "barpolar"
           }
          ],
          "carpet": [
           {
            "aaxis": {
             "endlinecolor": "#2a3f5f",
             "gridcolor": "white",
             "linecolor": "white",
             "minorgridcolor": "white",
             "startlinecolor": "#2a3f5f"
            },
            "baxis": {
             "endlinecolor": "#2a3f5f",
             "gridcolor": "white",
             "linecolor": "white",
             "minorgridcolor": "white",
             "startlinecolor": "#2a3f5f"
            },
            "type": "carpet"
           }
          ],
          "choropleth": [
           {
            "colorbar": {
             "outlinewidth": 0,
             "ticks": ""
            },
            "type": "choropleth"
           }
          ],
          "contour": [
           {
            "colorbar": {
             "outlinewidth": 0,
             "ticks": ""
            },
            "colorscale": [
             [
              0,
              "#0d0887"
             ],
             [
              0.1111111111111111,
              "#46039f"
             ],
             [
              0.2222222222222222,
              "#7201a8"
             ],
             [
              0.3333333333333333,
              "#9c179e"
             ],
             [
              0.4444444444444444,
              "#bd3786"
             ],
             [
              0.5555555555555556,
              "#d8576b"
             ],
             [
              0.6666666666666666,
              "#ed7953"
             ],
             [
              0.7777777777777778,
              "#fb9f3a"
             ],
             [
              0.8888888888888888,
              "#fdca26"
             ],
             [
              1,
              "#f0f921"
             ]
            ],
            "type": "contour"
           }
          ],
          "contourcarpet": [
           {
            "colorbar": {
             "outlinewidth": 0,
             "ticks": ""
            },
            "type": "contourcarpet"
           }
          ],
          "heatmap": [
           {
            "colorbar": {
             "outlinewidth": 0,
             "ticks": ""
            },
            "colorscale": [
             [
              0,
              "#0d0887"
             ],
             [
              0.1111111111111111,
              "#46039f"
             ],
             [
              0.2222222222222222,
              "#7201a8"
             ],
             [
              0.3333333333333333,
              "#9c179e"
             ],
             [
              0.4444444444444444,
              "#bd3786"
             ],
             [
              0.5555555555555556,
              "#d8576b"
             ],
             [
              0.6666666666666666,
              "#ed7953"
             ],
             [
              0.7777777777777778,
              "#fb9f3a"
             ],
             [
              0.8888888888888888,
              "#fdca26"
             ],
             [
              1,
              "#f0f921"
             ]
            ],
            "type": "heatmap"
           }
          ],
          "heatmapgl": [
           {
            "colorbar": {
             "outlinewidth": 0,
             "ticks": ""
            },
            "colorscale": [
             [
              0,
              "#0d0887"
             ],
             [
              0.1111111111111111,
              "#46039f"
             ],
             [
              0.2222222222222222,
              "#7201a8"
             ],
             [
              0.3333333333333333,
              "#9c179e"
             ],
             [
              0.4444444444444444,
              "#bd3786"
             ],
             [
              0.5555555555555556,
              "#d8576b"
             ],
             [
              0.6666666666666666,
              "#ed7953"
             ],
             [
              0.7777777777777778,
              "#fb9f3a"
             ],
             [
              0.8888888888888888,
              "#fdca26"
             ],
             [
              1,
              "#f0f921"
             ]
            ],
            "type": "heatmapgl"
           }
          ],
          "histogram": [
           {
            "marker": {
             "pattern": {
              "fillmode": "overlay",
              "size": 10,
              "solidity": 0.2
             }
            },
            "type": "histogram"
           }
          ],
          "histogram2d": [
           {
            "colorbar": {
             "outlinewidth": 0,
             "ticks": ""
            },
            "colorscale": [
             [
              0,
              "#0d0887"
             ],
             [
              0.1111111111111111,
              "#46039f"
             ],
             [
              0.2222222222222222,
              "#7201a8"
             ],
             [
              0.3333333333333333,
              "#9c179e"
             ],
             [
              0.4444444444444444,
              "#bd3786"
             ],
             [
              0.5555555555555556,
              "#d8576b"
             ],
             [
              0.6666666666666666,
              "#ed7953"
             ],
             [
              0.7777777777777778,
              "#fb9f3a"
             ],
             [
              0.8888888888888888,
              "#fdca26"
             ],
             [
              1,
              "#f0f921"
             ]
            ],
            "type": "histogram2d"
           }
          ],
          "histogram2dcontour": [
           {
            "colorbar": {
             "outlinewidth": 0,
             "ticks": ""
            },
            "colorscale": [
             [
              0,
              "#0d0887"
             ],
             [
              0.1111111111111111,
              "#46039f"
             ],
             [
              0.2222222222222222,
              "#7201a8"
             ],
             [
              0.3333333333333333,
              "#9c179e"
             ],
             [
              0.4444444444444444,
              "#bd3786"
             ],
             [
              0.5555555555555556,
              "#d8576b"
             ],
             [
              0.6666666666666666,
              "#ed7953"
             ],
             [
              0.7777777777777778,
              "#fb9f3a"
             ],
             [
              0.8888888888888888,
              "#fdca26"
             ],
             [
              1,
              "#f0f921"
             ]
            ],
            "type": "histogram2dcontour"
           }
          ],
          "mesh3d": [
           {
            "colorbar": {
             "outlinewidth": 0,
             "ticks": ""
            },
            "type": "mesh3d"
           }
          ],
          "parcoords": [
           {
            "line": {
             "colorbar": {
              "outlinewidth": 0,
              "ticks": ""
             }
            },
            "type": "parcoords"
           }
          ],
          "pie": [
           {
            "automargin": true,
            "type": "pie"
           }
          ],
          "scatter": [
           {
            "fillpattern": {
             "fillmode": "overlay",
             "size": 10,
             "solidity": 0.2
            },
            "type": "scatter"
           }
          ],
          "scatter3d": [
           {
            "line": {
             "colorbar": {
              "outlinewidth": 0,
              "ticks": ""
             }
            },
            "marker": {
             "colorbar": {
              "outlinewidth": 0,
              "ticks": ""
             }
            },
            "type": "scatter3d"
           }
          ],
          "scattercarpet": [
           {
            "marker": {
             "colorbar": {
              "outlinewidth": 0,
              "ticks": ""
             }
            },
            "type": "scattercarpet"
           }
          ],
          "scattergeo": [
           {
            "marker": {
             "colorbar": {
              "outlinewidth": 0,
              "ticks": ""
             }
            },
            "type": "scattergeo"
           }
          ],
          "scattergl": [
           {
            "marker": {
             "colorbar": {
              "outlinewidth": 0,
              "ticks": ""
             }
            },
            "type": "scattergl"
           }
          ],
          "scattermapbox": [
           {
            "marker": {
             "colorbar": {
              "outlinewidth": 0,
              "ticks": ""
             }
            },
            "type": "scattermapbox"
           }
          ],
          "scatterpolar": [
           {
            "marker": {
             "colorbar": {
              "outlinewidth": 0,
              "ticks": ""
             }
            },
            "type": "scatterpolar"
           }
          ],
          "scatterpolargl": [
           {
            "marker": {
             "colorbar": {
              "outlinewidth": 0,
              "ticks": ""
             }
            },
            "type": "scatterpolargl"
           }
          ],
          "scatterternary": [
           {
            "marker": {
             "colorbar": {
              "outlinewidth": 0,
              "ticks": ""
             }
            },
            "type": "scatterternary"
           }
          ],
          "surface": [
           {
            "colorbar": {
             "outlinewidth": 0,
             "ticks": ""
            },
            "colorscale": [
             [
              0,
              "#0d0887"
             ],
             [
              0.1111111111111111,
              "#46039f"
             ],
             [
              0.2222222222222222,
              "#7201a8"
             ],
             [
              0.3333333333333333,
              "#9c179e"
             ],
             [
              0.4444444444444444,
              "#bd3786"
             ],
             [
              0.5555555555555556,
              "#d8576b"
             ],
             [
              0.6666666666666666,
              "#ed7953"
             ],
             [
              0.7777777777777778,
              "#fb9f3a"
             ],
             [
              0.8888888888888888,
              "#fdca26"
             ],
             [
              1,
              "#f0f921"
             ]
            ],
            "type": "surface"
           }
          ],
          "table": [
           {
            "cells": {
             "fill": {
              "color": "#EBF0F8"
             },
             "line": {
              "color": "white"
             }
            },
            "header": {
             "fill": {
              "color": "#C8D4E3"
             },
             "line": {
              "color": "white"
             }
            },
            "type": "table"
           }
          ]
         },
         "layout": {
          "annotationdefaults": {
           "arrowcolor": "#2a3f5f",
           "arrowhead": 0,
           "arrowwidth": 1
          },
          "autotypenumbers": "strict",
          "coloraxis": {
           "colorbar": {
            "outlinewidth": 0,
            "ticks": ""
           }
          },
          "colorscale": {
           "diverging": [
            [
             0,
             "#8e0152"
            ],
            [
             0.1,
             "#c51b7d"
            ],
            [
             0.2,
             "#de77ae"
            ],
            [
             0.3,
             "#f1b6da"
            ],
            [
             0.4,
             "#fde0ef"
            ],
            [
             0.5,
             "#f7f7f7"
            ],
            [
             0.6,
             "#e6f5d0"
            ],
            [
             0.7,
             "#b8e186"
            ],
            [
             0.8,
             "#7fbc41"
            ],
            [
             0.9,
             "#4d9221"
            ],
            [
             1,
             "#276419"
            ]
           ],
           "sequential": [
            [
             0,
             "#0d0887"
            ],
            [
             0.1111111111111111,
             "#46039f"
            ],
            [
             0.2222222222222222,
             "#7201a8"
            ],
            [
             0.3333333333333333,
             "#9c179e"
            ],
            [
             0.4444444444444444,
             "#bd3786"
            ],
            [
             0.5555555555555556,
             "#d8576b"
            ],
            [
             0.6666666666666666,
             "#ed7953"
            ],
            [
             0.7777777777777778,
             "#fb9f3a"
            ],
            [
             0.8888888888888888,
             "#fdca26"
            ],
            [
             1,
             "#f0f921"
            ]
           ],
           "sequentialminus": [
            [
             0,
             "#0d0887"
            ],
            [
             0.1111111111111111,
             "#46039f"
            ],
            [
             0.2222222222222222,
             "#7201a8"
            ],
            [
             0.3333333333333333,
             "#9c179e"
            ],
            [
             0.4444444444444444,
             "#bd3786"
            ],
            [
             0.5555555555555556,
             "#d8576b"
            ],
            [
             0.6666666666666666,
             "#ed7953"
            ],
            [
             0.7777777777777778,
             "#fb9f3a"
            ],
            [
             0.8888888888888888,
             "#fdca26"
            ],
            [
             1,
             "#f0f921"
            ]
           ]
          },
          "colorway": [
           "#636efa",
           "#EF553B",
           "#00cc96",
           "#ab63fa",
           "#FFA15A",
           "#19d3f3",
           "#FF6692",
           "#B6E880",
           "#FF97FF",
           "#FECB52"
          ],
          "font": {
           "color": "#2a3f5f"
          },
          "geo": {
           "bgcolor": "white",
           "lakecolor": "white",
           "landcolor": "#E5ECF6",
           "showlakes": true,
           "showland": true,
           "subunitcolor": "white"
          },
          "hoverlabel": {
           "align": "left"
          },
          "hovermode": "closest",
          "mapbox": {
           "style": "light"
          },
          "paper_bgcolor": "white",
          "plot_bgcolor": "#E5ECF6",
          "polar": {
           "angularaxis": {
            "gridcolor": "white",
            "linecolor": "white",
            "ticks": ""
           },
           "bgcolor": "#E5ECF6",
           "radialaxis": {
            "gridcolor": "white",
            "linecolor": "white",
            "ticks": ""
           }
          },
          "scene": {
           "xaxis": {
            "backgroundcolor": "#E5ECF6",
            "gridcolor": "white",
            "gridwidth": 2,
            "linecolor": "white",
            "showbackground": true,
            "ticks": "",
            "zerolinecolor": "white"
           },
           "yaxis": {
            "backgroundcolor": "#E5ECF6",
            "gridcolor": "white",
            "gridwidth": 2,
            "linecolor": "white",
            "showbackground": true,
            "ticks": "",
            "zerolinecolor": "white"
           },
           "zaxis": {
            "backgroundcolor": "#E5ECF6",
            "gridcolor": "white",
            "gridwidth": 2,
            "linecolor": "white",
            "showbackground": true,
            "ticks": "",
            "zerolinecolor": "white"
           }
          },
          "shapedefaults": {
           "line": {
            "color": "#2a3f5f"
           }
          },
          "ternary": {
           "aaxis": {
            "gridcolor": "white",
            "linecolor": "white",
            "ticks": ""
           },
           "baxis": {
            "gridcolor": "white",
            "linecolor": "white",
            "ticks": ""
           },
           "bgcolor": "#E5ECF6",
           "caxis": {
            "gridcolor": "white",
            "linecolor": "white",
            "ticks": ""
           }
          },
          "title": {
           "x": 0.05
          },
          "xaxis": {
           "automargin": true,
           "gridcolor": "white",
           "linecolor": "white",
           "ticks": "",
           "title": {
            "standoff": 15
           },
           "zerolinecolor": "white",
           "zerolinewidth": 2
          },
          "yaxis": {
           "automargin": true,
           "gridcolor": "white",
           "linecolor": "white",
           "ticks": "",
           "title": {
            "standoff": 15
           },
           "zerolinecolor": "white",
           "zerolinewidth": 2
          }
         }
        },
        "width": 500,
        "xaxis": {
         "dtick": 1,
         "showticklabels": false
        },
        "yaxis": {
         "dtick": 1,
         "showticklabels": false
        }
       }
      }
     },
     "metadata": {},
     "output_type": "display_data"
    }
   ],
   "source": [
    "blank = np.zeros((500, 500), dtype='uint8')\n",
    "\n",
    "marching_squares(lambda x, y: x**2 + y**2, blank, 4, 1)\n"
   ]
  },
  {
   "attachments": {},
   "cell_type": "markdown",
   "metadata": {},
   "source": [
    "## Marching Tethra"
   ]
  },
  {
   "cell_type": "code",
   "execution_count": 99,
   "metadata": {},
   "outputs": [],
   "source": [
    "import matplotlib.pyplot as plt\n",
    "from mpl_toolkits.mplot3d.art3d import Poly3DCollection\n",
    "\n",
    "def marching_tethra(func, canvas: np.ndarray, num_div: float = 4, cell_width: int = 50, isovalue: float = 1, color = [0, 0, 255], thickness: int = 2) -> None:\n",
    "\n",
    "    height = canvas.shape[0]//cell_width\n",
    "    width = canvas.shape[1]//cell_width\n",
    "    deep = canvas.shape[2]//cell_width\n",
    "\n",
    "    fig = plt.figure()\n",
    "    ax = fig.add_subplot(projection='3d')\n",
    "    triangulos = []\n",
    "    cuadrados = []\n",
    "\n",
    "\n",
    "    grid = np.zeros((width, height, deep))\n",
    "\n",
    "    fig = go.Figure()\n",
    "\n",
    "    for i in range(width):\n",
    "        for j in range(height):\n",
    "            for k in range(height):\n",
    "                grid[i][j][k] = func(1/num_div * (i - width//2), 1/num_div * (j - height//2), 1/num_div * (k - deep//2))\n",
    "            # width//2 y height//2 es para centrar la figura\n",
    "    \n",
    "    def t_tetra(tetra):\n",
    "        if(tetra == 0):\n",
    "                return np.array([1,0,0])\n",
    "        if(tetra == 1):\n",
    "                return np.array([0,0,0])\n",
    "        if(tetra == 2):\n",
    "                return np.array([0,1,0])\n",
    "        if(tetra == 3):\n",
    "                return np.array([1,1,0])\n",
    "        if(tetra == 4):\n",
    "                return np.array([1,0,1])\n",
    "        if(tetra == 5):\n",
    "                return np.array([0,0,1])\n",
    "        if(tetra == 6):\n",
    "                return np.array([0,1,1])\n",
    "        if(tetra == 7):\n",
    "                return np.array([1,1,1])\n",
    "\n",
    "    def move_point(p_inicial, p_objetivo, d):\n",
    "            # Calcula el vector entre el punto inicial y el punto objetivo\n",
    "            vec_dir = p_objetivo - p_inicial\n",
    "            # Normaliza el vector de dirección (lo convierte en un vector unitario)\n",
    "            vec_uni = vec_dir / np.linalg.norm(vec_dir)\n",
    "            # Calcula el vector de desplazamiento multiplicando la dirección por la distancia \"d\"\n",
    "            vec_desplazamiento = d * vec_uni\n",
    "            # Calcula las coordenadas del nuevo punto sumando el vector de desplazamiento al punto inicial\n",
    "            nuevo_punto = p_inicial + vec_desplazamiento\n",
    "\n",
    "            return nuevo_punto\n",
    "\n",
    "    def move(i, j, dist):\n",
    "            p_0 = np.array([w,h,d])\n",
    "            p_inicial = p_0 + t_tetra(i)\n",
    "            p_objetivo = p_0 + t_tetra(j)\n",
    "\n",
    "            return move_point(p_inicial, p_objetivo, dist)\n",
    "\n",
    "\n",
    "    def linear_interpolation(a: float, b: float) -> float:\n",
    "        if(a != b):\n",
    "            return abs((isovalue - a)/(a - b))\n",
    "        else:\n",
    "            print(a,b)\n",
    "            return (a + b)/2\n",
    "    def linear(a: float, b: float) -> float:\n",
    "        return (a + b)/2\n",
    "        \n",
    "    def draw_tethra(p0, p1, p2, p3):\n",
    "        draw(p0, p1, p2, 0.2)\n",
    "        draw(p3, p1, p0, 0.2)\n",
    "        draw(p0, p2, p3, 0.2)\n",
    "        draw(p1, p2, p3, 0.2)\n",
    "\n",
    "\n",
    "    def draw(p1, p2, p3, o=1):\n",
    "        colors = 'rgb('+str(color[0])+','+str(color[1])+','+str(color[2])+')'\n",
    "        # Define las coordenadas de los vértices del triángulo\n",
    "        #x = [p1[0], p2[0], p3[0]]\n",
    "        #y = [p1[1], p2[1], p3[1]]\n",
    "        #z = [p1[2], p2[2], p3[2]]\n",
    "        triangulos.append([p1, p2, p3])\n",
    "\n",
    "        # Dibuja el triángulo como un objeto go.Mesh3d\n",
    "        #fig.add_trace(go.Mesh3d(x=x, y=y, z=z, opacity=o, color=colors))\n",
    "        \n",
    "    def draw_s(p1, p2, p3, p4):\n",
    "        colors = 'rgb('+str(color[0])+','+str(color[1])+','+str(color[2])+')'\n",
    "        # Define las coordenadas de los vértices del triángulo\n",
    "        #x = [p1[0], p2[0], p3[0], p4[0]]\n",
    "        #y = [p1[1], p2[1], p3[1], p4[1]]\n",
    "        #z = [p1[2], p2[2], p3[2], p4[2]]\n",
    "\n",
    "        cuadrados.append([p1, p2, p3, p4])\n",
    "        # Dibuja el triángulo como un objeto go.Mesh3d\n",
    "        #fig.add_trace(go.Mesh3d(x=x, y=y, z=z, opacity=1, color=colors))\n",
    "\n",
    "    # Aristas del cubo que forman tethraedros que \n",
    "    cube = [[0,1,3,4],[1,2,3,6],[4,5,6,1],[4,7,6,3],[4,6,1,3]]\n",
    "\n",
    "    for w in range(width - 1):\n",
    "        for h in range(height - 1):\n",
    "            for d in range(deep - 1):\n",
    "                color[0]=color[0]+0.5\n",
    "                # Aristas del cubo\n",
    "                c = [\n",
    "                     grid[w + 1][h][d],         #(1,0,0)\n",
    "                     grid[w][h][d],             #(0,0,0)\n",
    "                     grid[w][h + 1][d],         #(0,1,0)\n",
    "                     grid[w + 1][h + 1][d],     #(1,1,0)\n",
    "                     grid[w + 1][h][d + 1],     #(1,0,1)\n",
    "                     grid[w][h][d + 1],         #(0,0,1)\n",
    "                     grid[w][h + 1][d + 1],     #(0,1,1)\n",
    "                     grid[w + 1][h + 1][d + 1]  #(1,1,1)\n",
    "                    ]\n",
    "\n",
    "                for tetra in cube:\n",
    "                    cell = [0, 0, 0, 0]\n",
    "                    c0 = c[tetra[0]]\n",
    "                    c1 = c[tetra[1]]\n",
    "                    c2 = c[tetra[2]]\n",
    "                    c3 = c[tetra[3]]\n",
    "\n",
    "\n",
    "                    if c0 > isovalue: cell[0] = 1\n",
    "                    if c1 > isovalue: cell[1] = 1\n",
    "                    if c2 > isovalue: cell[2] = 1\n",
    "                    if c3 > isovalue: cell[3] = 1\n",
    "                    \n",
    "                    color = [255,0,255]\n",
    "                    if cell == [0, 0, 0, 0] or cell == [1, 1, 1, 1]:\n",
    "                        pass\n",
    "                    else:\n",
    "                        color = [0,0,0]\n",
    "                        p_0 = np.array([w,h,d])\n",
    "                        \n",
    "                    \n",
    "                    if cell == [1, 0, 0, 0] or cell == [0, 1, 1, 1]:\n",
    "                        d1 = linear(c0, c1)\n",
    "                        d2 = linear(c0, c2)\n",
    "                        d3 = linear(c0, c3)\n",
    "                        draw(move(tetra[0], tetra[1], d1), move(tetra[0], tetra[2], d2), move(tetra[0], tetra[3], d3))\n",
    "                    if cell == [0, 1, 0, 0] or cell == [1, 0, 1, 1]:\n",
    "                        d1 = linear(c1, c0)\n",
    "                        d2 = linear(c1, c2)\n",
    "                        d3 = linear(c1, c3)\n",
    "                        draw(move(tetra[1], tetra[0], d1), move(tetra[1], tetra[2], d2), move(tetra[1], tetra[3], d3))\n",
    "                    if cell == [0, 0, 1, 0] or cell == [1, 1, 0, 1]:\n",
    "                        d1 = linear(c2, c0)\n",
    "                        d2 = linear(c2, c1)\n",
    "                        d3 = linear(c2, c3)\n",
    "                        draw(move(tetra[2], tetra[0], d1), move(tetra[2], tetra[1], d2), move(tetra[2], tetra[3], d3))\n",
    "                    if cell == [0, 0, 0, 1] or cell == [1, 1, 1, 0]:\n",
    "                        d1 = linear(c3, c0)\n",
    "                        d2 = linear(c3, c1)\n",
    "                        d3 = linear(c3, c2)\n",
    "                        draw(move(tetra[3], tetra[0], d1), move(tetra[3], tetra[1], d2), move(tetra[3], tetra[2], d3))\n",
    "                    \n",
    "                    if cell == [1, 1, 0, 0] or cell == [0, 0, 1, 1]:\n",
    "                        d1 = linear(c0, c2)\n",
    "                        d2 = linear(c0, c3)\n",
    "                        d3 = linear(c1, c2)\n",
    "                        d4 = linear(c1, c3)\n",
    "                        color = [0,0,255]\n",
    "                        draw_s(move(tetra[0], tetra[2], d1), move(tetra[0], tetra[3], d2), move(tetra[1], tetra[2], d3), move(tetra[1], tetra[3], d4))\n",
    "                  \n",
    "                    if cell == [1, 0, 1, 0] or cell == [0, 1, 0, 1]:\n",
    "                        d1 = linear(c0, c1)\n",
    "                        d2 = linear(c0, c3)\n",
    "                        d3 = linear(c2, c1)\n",
    "                        d4 = linear(c2, c3)\n",
    "                        color = [0, 255,0]\n",
    "                        draw_s(move(tetra[0], tetra[1], d1), move(tetra[0], tetra[3], d2), move(tetra[2], tetra[1], d3), move(tetra[2], tetra[3], d4))\n",
    "                    \n",
    "                    if cell == [1, 0, 0, 1] or cell == [0, 1, 1, 0]:\n",
    "                        d1 = linear(c0, c2)\n",
    "                        d2 = linear(c0, c1)\n",
    "                        d3 = linear(c3, c2)\n",
    "                        d4 = linear(c3, c1)\n",
    "                        color = [255,0,0]\n",
    "                        draw_s(move(tetra[0], tetra[2], d1), move(tetra[0], tetra[1], d2), move(tetra[3], tetra[2], d3), move(tetra[3], tetra[1], d4))\n",
    "\n",
    "    ax.add_collection3d(Poly3DCollection(triangulos, facecolors='cyan', edgecolors='b', linewidths=1, alpha=0.7))\n",
    "    ax.add_collection3d(Poly3DCollection(cuadrados, facecolors='red', edgecolors='b', linewidths=1, alpha=0.7))\n",
    "    ax.set_xlim(0, 20)\n",
    "    ax.set_ylim(0, 20)\n",
    "    ax.set_zlim(0, 20)\n",
    "    \n",
    "    #fig.show()\n",
    "    plt.show()"
   ]
  },
  {
   "cell_type": "code",
   "execution_count": 100,
   "metadata": {},
   "outputs": [
    {
     "data": {
      "image/png": "[encoded data removed]",
      "text/plain": [
       "<Figure size 640x480 with 1 Axes>"
      ]
     },
     "metadata": {},
     "output_type": "display_data"
    }
   ],
   "source": [
    "blank = np.zeros((1500, 1500, 1500), dtype='uint8')\n",
    "\n",
    "marching_tethra(lambda x, y, z: np.sqrt(x**2 + y**2 + z**2), blank, 8)\n"
   ]
  },
  {
   "cell_type": "code",
   "execution_count": 63,
   "metadata": {},
   "outputs": [
    {
     "data": {
      "application/vnd.plotly.v1+json": {
       "config": {
        "plotlyServerURL": "https://plot.ly"
       },
       "data": [
        {
         "color": "blue",
         "opacity": 0.5,
         "type": "mesh3d",
         "x": [
          1,
          0,
          1
         ],
         "y": [
          0,
          0,
          1
         ],
         "z": [
          0,
          0,
          0
         ]
        },
        {
         "color": "blue",
         "opacity": 0.5,
         "type": "mesh3d",
         "x": [
          1,
          0,
          1
         ],
         "y": [
          0,
          0,
          0
         ],
         "z": [
          1,
          0,
          0
         ]
        },
        {
         "color": "blue",
         "opacity": 0.5,
         "type": "mesh3d",
         "x": [
          1,
          1,
          1
         ],
         "y": [
          0,
          1,
          0
         ],
         "z": [
          0,
          0,
          1
         ]
        },
        {
         "color": "blue",
         "opacity": 0.5,
         "type": "mesh3d",
         "x": [
          0,
          1,
          1
         ],
         "y": [
          0,
          1,
          0
         ],
         "z": [
          0,
          0,
          1
         ]
        },
        {
         "color": "red",
         "opacity": 0.5,
         "type": "mesh3d",
         "x": [
          0,
          0,
          1
         ],
         "y": [
          0,
          1,
          1
         ],
         "z": [
          0,
          0,
          0
         ]
        },
        {
         "color": "red",
         "opacity": 0.5,
         "type": "mesh3d",
         "x": [
          0,
          0,
          0
         ],
         "y": [
          1,
          1,
          0
         ],
         "z": [
          1,
          0,
          0
         ]
        },
        {
         "color": "red",
         "opacity": 0.5,
         "type": "mesh3d",
         "x": [
          0,
          1,
          0
         ],
         "y": [
          0,
          1,
          1
         ],
         "z": [
          0,
          0,
          1
         ]
        },
        {
         "color": "red",
         "opacity": 0.5,
         "type": "mesh3d",
         "x": [
          0,
          1,
          0
         ],
         "y": [
          1,
          1,
          1
         ],
         "z": [
          0,
          0,
          1
         ]
        },
        {
         "color": "pink",
         "opacity": 0.5,
         "type": "mesh3d",
         "x": [
          1,
          0,
          1
         ],
         "y": [
          0,
          1,
          1
         ],
         "z": [
          1,
          1,
          1
         ]
        },
        {
         "color": "pink",
         "opacity": 0.5,
         "type": "mesh3d",
         "x": [
          1,
          0,
          1
         ],
         "y": [
          1,
          1,
          0
         ],
         "z": [
          0,
          1,
          1
         ]
        },
        {
         "color": "pink",
         "opacity": 0.5,
         "type": "mesh3d",
         "x": [
          1,
          1,
          1
         ],
         "y": [
          0,
          1,
          1
         ],
         "z": [
          1,
          1,
          0
         ]
        },
        {
         "color": "pink",
         "opacity": 0.5,
         "type": "mesh3d",
         "x": [
          0,
          1,
          1
         ],
         "y": [
          1,
          1,
          1
         ],
         "z": [
          1,
          1,
          0
         ]
        },
        {
         "color": "green",
         "opacity": 0.5,
         "type": "mesh3d",
         "x": [
          1,
          0,
          0
         ],
         "y": [
          0,
          1,
          0
         ],
         "z": [
          1,
          1,
          1
         ]
        },
        {
         "color": "green",
         "opacity": 0.5,
         "type": "mesh3d",
         "x": [
          0,
          0,
          1
         ],
         "y": [
          0,
          1,
          0
         ],
         "z": [
          0,
          1,
          1
         ]
        },
        {
         "color": "green",
         "opacity": 0.5,
         "type": "mesh3d",
         "x": [
          1,
          0,
          0
         ],
         "y": [
          0,
          0,
          0
         ],
         "z": [
          1,
          1,
          0
         ]
        },
        {
         "color": "green",
         "opacity": 0.5,
         "type": "mesh3d",
         "x": [
          0,
          0,
          0
         ],
         "y": [
          1,
          0,
          0
         ],
         "z": [
          1,
          1,
          0
         ]
        }
       ],
       "layout": {
        "template": {
         "data": {
          "bar": [
           {
            "error_x": {
             "color": "#2a3f5f"
            },
            "error_y": {
             "color": "#2a3f5f"
            },
            "marker": {
             "line": {
              "color": "#E5ECF6",
              "width": 0.5
             },
             "pattern": {
              "fillmode": "overlay",
              "size": 10,
              "solidity": 0.2
             }
            },
            "type": "bar"
           }
          ],
          "barpolar": [
           {
            "marker": {
             "line": {
              "color": "#E5ECF6",
              "width": 0.5
             },
             "pattern": {
              "fillmode": "overlay",
              "size": 10,
              "solidity": 0.2
             }
            },
            "type": "barpolar"
           }
          ],
          "carpet": [
           {
            "aaxis": {
             "endlinecolor": "#2a3f5f",
             "gridcolor": "white",
             "linecolor": "white",
             "minorgridcolor": "white",
             "startlinecolor": "#2a3f5f"
            },
            "baxis": {
             "endlinecolor": "#2a3f5f",
             "gridcolor": "white",
             "linecolor": "white",
             "minorgridcolor": "white",
             "startlinecolor": "#2a3f5f"
            },
            "type": "carpet"
           }
          ],
          "choropleth": [
           {
            "colorbar": {
             "outlinewidth": 0,
             "ticks": ""
            },
            "type": "choropleth"
           }
          ],
          "contour": [
           {
            "colorbar": {
             "outlinewidth": 0,
             "ticks": ""
            },
            "colorscale": [
             [
              0,
              "#0d0887"
             ],
             [
              0.1111111111111111,
              "#46039f"
             ],
             [
              0.2222222222222222,
              "#7201a8"
             ],
             [
              0.3333333333333333,
              "#9c179e"
             ],
             [
              0.4444444444444444,
              "#bd3786"
             ],
             [
              0.5555555555555556,
              "#d8576b"
             ],
             [
              0.6666666666666666,
              "#ed7953"
             ],
             [
              0.7777777777777778,
              "#fb9f3a"
             ],
             [
              0.8888888888888888,
              "#fdca26"
             ],
             [
              1,
              "#f0f921"
             ]
            ],
            "type": "contour"
           }
          ],
          "contourcarpet": [
           {
            "colorbar": {
             "outlinewidth": 0,
             "ticks": ""
            },
            "type": "contourcarpet"
           }
          ],
          "heatmap": [
           {
            "colorbar": {
             "outlinewidth": 0,
             "ticks": ""
            },
            "colorscale": [
             [
              0,
              "#0d0887"
             ],
             [
              0.1111111111111111,
              "#46039f"
             ],
             [
              0.2222222222222222,
              "#7201a8"
             ],
             [
              0.3333333333333333,
              "#9c179e"
             ],
             [
              0.4444444444444444,
              "#bd3786"
             ],
             [
              0.5555555555555556,
              "#d8576b"
             ],
             [
              0.6666666666666666,
              "#ed7953"
             ],
             [
              0.7777777777777778,
              "#fb9f3a"
             ],
             [
              0.8888888888888888,
              "#fdca26"
             ],
             [
              1,
              "#f0f921"
             ]
            ],
            "type": "heatmap"
           }
          ],
          "heatmapgl": [
           {
            "colorbar": {
             "outlinewidth": 0,
             "ticks": ""
            },
            "colorscale": [
             [
              0,
              "#0d0887"
             ],
             [
              0.1111111111111111,
              "#46039f"
             ],
             [
              0.2222222222222222,
              "#7201a8"
             ],
             [
              0.3333333333333333,
              "#9c179e"
             ],
             [
              0.4444444444444444,
              "#bd3786"
             ],
             [
              0.5555555555555556,
              "#d8576b"
             ],
             [
              0.6666666666666666,
              "#ed7953"
             ],
             [
              0.7777777777777778,
              "#fb9f3a"
             ],
             [
              0.8888888888888888,
              "#fdca26"
             ],
             [
              1,
              "#f0f921"
             ]
            ],
            "type": "heatmapgl"
           }
          ],
          "histogram": [
           {
            "marker": {
             "pattern": {
              "fillmode": "overlay",
              "size": 10,
              "solidity": 0.2
             }
            },
            "type": "histogram"
           }
          ],
          "histogram2d": [
           {
            "colorbar": {
             "outlinewidth": 0,
             "ticks": ""
            },
            "colorscale": [
             [
              0,
              "#0d0887"
             ],
             [
              0.1111111111111111,
              "#46039f"
             ],
             [
              0.2222222222222222,
              "#7201a8"
             ],
             [
              0.3333333333333333,
              "#9c179e"
             ],
             [
              0.4444444444444444,
              "#bd3786"
             ],
             [
              0.5555555555555556,
              "#d8576b"
             ],
             [
              0.6666666666666666,
              "#ed7953"
             ],
             [
              0.7777777777777778,
              "#fb9f3a"
             ],
             [
              0.8888888888888888,
              "#fdca26"
             ],
             [
              1,
              "#f0f921"
             ]
            ],
            "type": "histogram2d"
           }
          ],
          "histogram2dcontour": [
           {
            "colorbar": {
             "outlinewidth": 0,
             "ticks": ""
            },
            "colorscale": [
             [
              0,
              "#0d0887"
             ],
             [
              0.1111111111111111,
              "#46039f"
             ],
             [
              0.2222222222222222,
              "#7201a8"
             ],
             [
              0.3333333333333333,
              "#9c179e"
             ],
             [
              0.4444444444444444,
              "#bd3786"
             ],
             [
              0.5555555555555556,
              "#d8576b"
             ],
             [
              0.6666666666666666,
              "#ed7953"
             ],
             [
              0.7777777777777778,
              "#fb9f3a"
             ],
             [
              0.8888888888888888,
              "#fdca26"
             ],
             [
              1,
              "#f0f921"
             ]
            ],
            "type": "histogram2dcontour"
           }
          ],
          "mesh3d": [
           {
            "colorbar": {
             "outlinewidth": 0,
             "ticks": ""
            },
            "type": "mesh3d"
           }
          ],
          "parcoords": [
           {
            "line": {
             "colorbar": {
              "outlinewidth": 0,
              "ticks": ""
             }
            },
            "type": "parcoords"
           }
          ],
          "pie": [
           {
            "automargin": true,
            "type": "pie"
           }
          ],
          "scatter": [
           {
            "fillpattern": {
             "fillmode": "overlay",
             "size": 10,
             "solidity": 0.2
            },
            "type": "scatter"
           }
          ],
          "scatter3d": [
           {
            "line": {
             "colorbar": {
              "outlinewidth": 0,
              "ticks": ""
             }
            },
            "marker": {
             "colorbar": {
              "outlinewidth": 0,
              "ticks": ""
             }
            },
            "type": "scatter3d"
           }
          ],
          "scattercarpet": [
           {
            "marker": {
             "colorbar": {
              "outlinewidth": 0,
              "ticks": ""
             }
            },
            "type": "scattercarpet"
           }
          ],
          "scattergeo": [
           {
            "marker": {
             "colorbar": {
              "outlinewidth": 0,
              "ticks": ""
             }
            },
            "type": "scattergeo"
           }
          ],
          "scattergl": [
           {
            "marker": {
             "colorbar": {
              "outlinewidth": 0,
              "ticks": ""
             }
            },
            "type": "scattergl"
           }
          ],
          "scattermapbox": [
           {
            "marker": {
             "colorbar": {
              "outlinewidth": 0,
              "ticks": ""
             }
            },
            "type": "scattermapbox"
           }
          ],
          "scatterpolar": [
           {
            "marker": {
             "colorbar": {
              "outlinewidth": 0,
              "ticks": ""
             }
            },
            "type": "scatterpolar"
           }
          ],
          "scatterpolargl": [
           {
            "marker": {
             "colorbar": {
              "outlinewidth": 0,
              "ticks": ""
             }
            },
            "type": "scatterpolargl"
           }
          ],
          "scatterternary": [
           {
            "marker": {
             "colorbar": {
              "outlinewidth": 0,
              "ticks": ""
             }
            },
            "type": "scatterternary"
           }
          ],
          "surface": [
           {
            "colorbar": {
             "outlinewidth": 0,
             "ticks": ""
            },
            "colorscale": [
             [
              0,
              "#0d0887"
             ],
             [
              0.1111111111111111,
              "#46039f"
             ],
             [
              0.2222222222222222,
              "#7201a8"
             ],
             [
              0.3333333333333333,
              "#9c179e"
             ],
             [
              0.4444444444444444,
              "#bd3786"
             ],
             [
              0.5555555555555556,
              "#d8576b"
             ],
             [
              0.6666666666666666,
              "#ed7953"
             ],
             [
              0.7777777777777778,
              "#fb9f3a"
             ],
             [
              0.8888888888888888,
              "#fdca26"
             ],
             [
              1,
              "#f0f921"
             ]
            ],
            "type": "surface"
           }
          ],
          "table": [
           {
            "cells": {
             "fill": {
              "color": "#EBF0F8"
             },
             "line": {
              "color": "white"
             }
            },
            "header": {
             "fill": {
              "color": "#C8D4E3"
             },
             "line": {
              "color": "white"
             }
            },
            "type": "table"
           }
          ]
         },
         "layout": {
          "annotationdefaults": {
           "arrowcolor": "#2a3f5f",
           "arrowhead": 0,
           "arrowwidth": 1
          },
          "autotypenumbers": "strict",
          "coloraxis": {
           "colorbar": {
            "outlinewidth": 0,
            "ticks": ""
           }
          },
          "colorscale": {
           "diverging": [
            [
             0,
             "#8e0152"
            ],
            [
             0.1,
             "#c51b7d"
            ],
            [
             0.2,
             "#de77ae"
            ],
            [
             0.3,
             "#f1b6da"
            ],
            [
             0.4,
             "#fde0ef"
            ],
            [
             0.5,
             "#f7f7f7"
            ],
            [
             0.6,
             "#e6f5d0"
            ],
            [
             0.7,
             "#b8e186"
            ],
            [
             0.8,
             "#7fbc41"
            ],
            [
             0.9,
             "#4d9221"
            ],
            [
             1,
             "#276419"
            ]
           ],
           "sequential": [
            [
             0,
             "#0d0887"
            ],
            [
             0.1111111111111111,
             "#46039f"
            ],
            [
             0.2222222222222222,
             "#7201a8"
            ],
            [
             0.3333333333333333,
             "#9c179e"
            ],
            [
             0.4444444444444444,
             "#bd3786"
            ],
            [
             0.5555555555555556,
             "#d8576b"
            ],
            [
             0.6666666666666666,
             "#ed7953"
            ],
            [
             0.7777777777777778,
             "#fb9f3a"
            ],
            [
             0.8888888888888888,
             "#fdca26"
            ],
            [
             1,
             "#f0f921"
            ]
           ],
           "sequentialminus": [
            [
             0,
             "#0d0887"
            ],
            [
             0.1111111111111111,
             "#46039f"
            ],
            [
             0.2222222222222222,
             "#7201a8"
            ],
            [
             0.3333333333333333,
             "#9c179e"
            ],
            [
             0.4444444444444444,
             "#bd3786"
            ],
            [
             0.5555555555555556,
             "#d8576b"
            ],
            [
             0.6666666666666666,
             "#ed7953"
            ],
            [
             0.7777777777777778,
             "#fb9f3a"
            ],
            [
             0.8888888888888888,
             "#fdca26"
            ],
            [
             1,
             "#f0f921"
            ]
           ]
          },
          "colorway": [
           "#636efa",
           "#EF553B",
           "#00cc96",
           "#ab63fa",
           "#FFA15A",
           "#19d3f3",
           "#FF6692",
           "#B6E880",
           "#FF97FF",
           "#FECB52"
          ],
          "font": {
           "color": "#2a3f5f"
          },
          "geo": {
           "bgcolor": "white",
           "lakecolor": "white",
           "landcolor": "#E5ECF6",
           "showlakes": true,
           "showland": true,
           "subunitcolor": "white"
          },
          "hoverlabel": {
           "align": "left"
          },
          "hovermode": "closest",
          "mapbox": {
           "style": "light"
          },
          "paper_bgcolor": "white",
          "plot_bgcolor": "#E5ECF6",
          "polar": {
           "angularaxis": {
            "gridcolor": "white",
            "linecolor": "white",
            "ticks": ""
           },
           "bgcolor": "#E5ECF6",
           "radialaxis": {
            "gridcolor": "white",
            "linecolor": "white",
            "ticks": ""
           }
          },
          "scene": {
           "xaxis": {
            "backgroundcolor": "#E5ECF6",
            "gridcolor": "white",
            "gridwidth": 2,
            "linecolor": "white",
            "showbackground": true,
            "ticks": "",
            "zerolinecolor": "white"
           },
           "yaxis": {
            "backgroundcolor": "#E5ECF6",
            "gridcolor": "white",
            "gridwidth": 2,
            "linecolor": "white",
            "showbackground": true,
            "ticks": "",
            "zerolinecolor": "white"
           },
           "zaxis": {
            "backgroundcolor": "#E5ECF6",
            "gridcolor": "white",
            "gridwidth": 2,
            "linecolor": "white",
            "showbackground": true,
            "ticks": "",
            "zerolinecolor": "white"
           }
          },
          "shapedefaults": {
           "line": {
            "color": "#2a3f5f"
           }
          },
          "ternary": {
           "aaxis": {
            "gridcolor": "white",
            "linecolor": "white",
            "ticks": ""
           },
           "baxis": {
            "gridcolor": "white",
            "linecolor": "white",
            "ticks": ""
           },
           "bgcolor": "#E5ECF6",
           "caxis": {
            "gridcolor": "white",
            "linecolor": "white",
            "ticks": ""
           }
          },
          "title": {
           "x": 0.05
          },
          "xaxis": {
           "automargin": true,
           "gridcolor": "white",
           "linecolor": "white",
           "ticks": "",
           "title": {
            "standoff": 15
           },
           "zerolinecolor": "white",
           "zerolinewidth": 2
          },
          "yaxis": {
           "automargin": true,
           "gridcolor": "white",
           "linecolor": "white",
           "ticks": "",
           "title": {
            "standoff": 15
           },
           "zerolinecolor": "white",
           "zerolinewidth": 2
          }
         }
        }
       }
      }
     },
     "metadata": {},
     "output_type": "display_data"
    }
   ],
   "source": [
    "fig = go.Figure()\n",
    "\n",
    "def draw_triangle(p1, p2, p3, color):\n",
    "    # Define las coordenadas de los vértices del triángulo\n",
    "    x = [p1[0], p2[0], p3[0]]\n",
    "    y = [p1[1], p2[1], p3[1]]\n",
    "    z = [p1[2], p2[2], p3[2]]\n",
    "\n",
    "    # Dibuja el triángulo como un objeto go.Mesh3d\n",
    "    fig.add_trace(go.Mesh3d(x=x, y=y, z=z, opacity=0.5, color=color))\n",
    "\n",
    "def draw_tethra(p0, p1, p2, p3, color):\n",
    "    draw_triangle(p0, p1, p2, color)\n",
    "    draw_triangle(p3, p1, p0, color)\n",
    "    draw_triangle(p0, p2, p3, color)\n",
    "    draw_triangle(p1, p2, p3, color)\n",
    "\n",
    "def draw_s(p1, p2, p3, p4, color):\n",
    "        # Define las coordenadas de los vértices del triángulo\n",
    "        x = [p1[0], p2[0], p3[0], p4[0]]\n",
    "        y = [p1[1], p2[1], p3[1], p4[1]]\n",
    "        z = [p1[2], p2[2], p3[2], p4[2]]\n",
    "\n",
    "        # Dibuja el triángulo como un objeto go.Mesh3d\n",
    "        fig.add_trace(go.Mesh3d(x=x, y=y, z=z, opacity=0.5, color=color))\n",
    "\n",
    "p0 = np.array([1,0,0])\n",
    "p1 = np.array([0,0,0])\n",
    "p2 = np.array([0,1,0])\n",
    "p3 = np.array([1,1,0])\n",
    "p4 = np.array([1,0,1])\n",
    "p5 = np.array([0,0,1])\n",
    "p6 = np.array([0,1,1])\n",
    "p7 = np.array([1,1,1])\n",
    "\n",
    "draw_tethra(p0, p1, p3, p4, 'blue')\n",
    "draw_tethra(p1, p2, p3, p6, 'red')\n",
    "draw_tethra(p4, p6, p7, p3, 'pink')\n",
    "draw_tethra(p4, p6, p5, p1, 'green')\n",
    "\n",
    "\n",
    "#fig.update_layout(scene=dict(xaxis_range=[-1, 2], yaxis_range=[-1, 2], zaxis_range=[-1, 2]))\n",
    "\n",
    "fig.show()"
   ]
  },
  {
   "cell_type": "code",
   "execution_count": 85,
   "metadata": {},
   "outputs": [
    {
     "data": {
      "image/png": "[encoded data removed]",
      "text/plain": [
       "<Figure size 640x480 with 1 Axes>"
      ]
     },
     "metadata": {},
     "output_type": "display_data"
    }
   ],
   "source": [
    "import matplotlib.pyplot as plt\n",
    "from mpl_toolkits.mplot3d.art3d import Poly3DCollection\n",
    "import numpy as np\n",
    "\n",
    "# Definir los vértices del cuadrado en coordenadas (x, y, z)\n",
    "x = [1, 2, 2, 1]\n",
    "y = [1, 1, 2, 2]\n",
    "z = [1, 1, 1, 1]\n",
    "\n",
    "# Crear una figura 3D y un subplot 3D\n",
    "fig = plt.figure()\n",
    "ax = fig.add_subplot(111, projection='3d')\n",
    "\n",
    "# Crear el cuadrado\n",
    "cuadrado = [[x[0], y[0], z[0]],\n",
    "            [x[1], y[1], z[1]],\n",
    "            [x[2], y[2], z[2]],\n",
    "            [x[3], y[3], z[3]]]\n",
    "\n",
    "# Crear una colección de cuadrados (un solo cuadrado en este caso)\n",
    "cuadrados = [cuadrado]\n",
    "\n",
    "# Agregar la colección de cuadrados a la figura\n",
    "ax.add_collection3d(Poly3DCollection(cuadrados, facecolors='cyan', edgecolors='r', linewidths=1, alpha=0.7))\n",
    "\n",
    "# Ampliar la vista (ajustar los límites de los ejes)\n",
    "ax.set_xlim(min(x) - 1, max(x) + 1)\n",
    "ax.set_ylim(min(y) - 1, max(y) + 1)\n",
    "ax.set_zlim(min(z) - 1, max(z) + 1)\n",
    "\n",
    "# Mostrar el gráfico\n",
    "plt.show()\n",
    "\n"
   ]
  }
 ],
 "metadata": {
  "kernelspec": {
   "display_name": "Python 3",
   "language": "python",
   "name": "python3"
  },
  "language_info": {
   "codemirror_mode": {
    "name": "ipython",
    "version": 3
   },
   "file_extension": ".py",
   "mimetype": "text/x-python",
   "name": "python",
   "nbconvert_exporter": "python",
   "pygments_lexer": "ipython3",
   "version": "3.9.13"
  },
  "orig_nbformat": 4
 },
 "nbformat": 4,
 "nbformat_minor": 2
}
