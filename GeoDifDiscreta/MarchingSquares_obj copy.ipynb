{
 "cells": [
  {
   "attachments": {},
   "cell_type": "markdown",
   "metadata": {},
   "source": [
    "## Marching Squares"
   ]
  },
  {
   "cell_type": "code",
   "execution_count": 3,
   "metadata": {},
   "outputs": [],
   "source": [
    "import numpy as np\n",
    "import plotly.graph_objects as go"
   ]
  },
  {
   "cell_type": "code",
   "execution_count": 2,
   "metadata": {},
   "outputs": [],
   "source": [
    "fig = go.Figure()\n",
    "def marching_squares(func, canvas: tuple, num_div: float = 4, isovalue: float = 0, color = 'rgb(0, 0, 255)') -> None:\n",
    "\n",
    "    width = canvas[1]\n",
    "    height = canvas[0]\n",
    "\n",
    "    grid = np.zeros((width, height))\n",
    "\n",
    "    for i in range(width):\n",
    "        for j in range(height):\n",
    "            grid[i][j] = func(1/num_div*(i - width//2), 1/num_div*(j - height//2))\n",
    "            # width//2 y height//2 es para centrar la figura\n",
    "\n",
    "    def lin_inter(a: float, b: float) -> float:\n",
    "        return abs((isovalue - a)/(a - b))\n",
    "\n",
    "    def draw(p1: tuple, p2: tuple):\n",
    "        fig.add_trace(go.Scatter(x=[(p1[0] - width//2)/num_div, (p2[0]- width//2)/num_div], y=[(p1[1]- height//2)/num_div, (p2[1]- height//2)/num_div], mode='lines', line=dict(color=color), showlegend=False))\n",
    "        \n",
    "    for w in range(width - 1):\n",
    "        for h in range(height - 1):\n",
    "            cell = [0, 0, 0, 0]\n",
    "            \n",
    "            c0 = grid[w][h]\n",
    "            c1 = grid[w + 1][h]\n",
    "            c2 = grid[w + 1][h + 1]\n",
    "            c3 = grid[w][h + 1]\n",
    "\n",
    "            if c0 >= isovalue: cell[0] = 1\n",
    "            if c1 >= isovalue: cell[1] = 1\n",
    "            if c2 >= isovalue: cell[2] = 1\n",
    "            if c3 >= isovalue: cell[3] = 1\n",
    "\n",
    "            if cell == [0, 0, 0, 0] or cell == [1, 1, 1, 1]:\n",
    "                pass\n",
    "            elif cell == [0, 0, 0, 1]:\n",
    "                    d1 = lin_inter(c3, c2)\n",
    "                    d2 = lin_inter(c0, c3)\n",
    "                    draw((w + d1, h + 1), (w, h + d2))\n",
    "            elif cell == [0, 0, 1, 0]:\n",
    "                    d1 = lin_inter(c3, c2)\n",
    "                    d2 = lin_inter(c1, c2)\n",
    "                    draw((w + d1, h + 1), (w + 1, h + d2))\n",
    "            elif cell == [0, 0, 1, 1] or cell == [1, 1, 0, 0]:\n",
    "                    d1 = lin_inter(c0, c3)\n",
    "                    d2 = lin_inter(c1, c2)\n",
    "                    draw((w, h + d1), (w + 1, h + d2))\n",
    "            elif cell == [0, 1, 0, 0] or cell == [1, 0, 1, 1]:\n",
    "                    d1 = lin_inter(c0, c1)\n",
    "                    d2 = lin_inter(c1, c2)\n",
    "                    draw((w + d1, h), (w + 1, h + d2))\n",
    "            elif cell == [0, 1, 0, 1]:\n",
    "                    d1 = lin_inter(c0, c1)\n",
    "                    d2 = lin_inter(c1, c2)\n",
    "                    d3 = lin_inter(c3, c2)\n",
    "                    d4 = lin_inter(c0, c3)\n",
    "                    draw((w, h + d4), (w + d1, h))\n",
    "                    draw((w + d3, h + 1), (w + 1, h + d2))\n",
    "            elif cell == [0, 1, 1, 0] or cell == [1, 0, 0, 1]:\n",
    "                    d1 = lin_inter(c0, c1)\n",
    "                    d2 = lin_inter(c3, c2)\n",
    "                    draw((w + d1, h), (w + d2, h + 1))\n",
    "            elif cell == [0, 1, 1, 1] or cell == [1, 0, 0, 0]:\n",
    "                    d1 = lin_inter(c0, c1)\n",
    "                    d2 = lin_inter(c0, c3)\n",
    "                    draw((w, h + d2), (w + d1, h))\n",
    "            elif cell == [1, 0, 1, 0]:\n",
    "                    d1 = lin_inter(c0, c1)\n",
    "                    d2 = lin_inter(c1, c2)\n",
    "                    d3 = lin_inter(c3, c2)\n",
    "                    d4 = lin_inter(c0, c3)\n",
    "                    draw((w + d1, h), (w + 1, h + d2))\n",
    "                    draw((w, h + d4), (w + d3, h + 1))\n",
    "            elif cell == [1, 1, 0, 1]:\n",
    "                    d1 = lin_inter(c1, c2)\n",
    "                    d2 = lin_inter(c3, c2)\n",
    "                    draw((w + d2, h + 1), (w + 1, h + d1))\n",
    "            elif cell == [1, 1, 1, 0]:\n",
    "                    d1 = lin_inter(c0, c3)\n",
    "                    d2 = lin_inter(c3, c2)\n",
    "                    draw((w, h + d1), (w + d2, h + 1))"
   ]
  },
  {
   "cell_type": "code",
   "execution_count": 4,
   "metadata": {},
   "outputs": [
    {
     "data": {
      "application/vnd.plotly.v1+json": {
       "config": {
        "plotlyServerURL": "https://plot.ly"
       },
       "data": [
        {
         "line": {
          "color": "rgb(0, 0, 255)"
         },
         "mode": "lines",
         "showlegend": false,
         "type": "scatter",
         "x": [
          -1,
          -1
         ],
         "y": [
          0,
          0
         ]
        },
        {
         "line": {
          "color": "rgb(0, 0, 255)"
         },
         "mode": "lines",
         "showlegend": false,
         "type": "scatter",
         "x": [
          -1,
          -1
         ],
         "y": [
          0,
          0
         ]
        },
        {
         "line": {
          "color": "rgb(0, 0, 255)"
         },
         "mode": "lines",
         "showlegend": false,
         "type": "scatter",
         "x": [
          -0.8637940509020421,
          -0.75
         ],
         "y": [
          -0.5,
          -0.6547854654777376
         ]
        },
        {
         "line": {
          "color": "rgb(0, 0, 255)"
         },
         "mode": "lines",
         "showlegend": false,
         "type": "scatter",
         "x": [
          -0.8637940509020421,
          -0.9679688690263877
         ],
         "y": [
          -0.5,
          -0.25
         ]
        },
        {
         "line": {
          "color": "rgb(0, 0, 255)"
         },
         "mode": "lines",
         "showlegend": false,
         "type": "scatter",
         "x": [
          -1,
          -0.9679688690263877
         ],
         "y": [
          0,
          -0.25
         ]
        },
        {
         "line": {
          "color": "rgb(0, 0, 255)"
         },
         "mode": "lines",
         "showlegend": false,
         "type": "scatter",
         "x": [
          -1,
          -0.9679688690263877
         ],
         "y": [
          0,
          0.25
         ]
        },
        {
         "line": {
          "color": "rgb(0, 0, 255)"
         },
         "mode": "lines",
         "showlegend": false,
         "type": "scatter",
         "x": [
          -0.9679688690263877,
          -0.8637940509020421
         ],
         "y": [
          0.25,
          0.5
         ]
        },
        {
         "line": {
          "color": "rgb(0, 0, 255)"
         },
         "mode": "lines",
         "showlegend": false,
         "type": "scatter",
         "x": [
          -0.8637940509020421,
          -0.75
         ],
         "y": [
          0.5,
          0.6547854654777376
         ]
        },
        {
         "line": {
          "color": "rgb(0, 0, 255)"
         },
         "mode": "lines",
         "showlegend": false,
         "type": "scatter",
         "x": [
          -0.6547854654777376,
          -0.5
         ],
         "y": [
          -0.75,
          -0.8637940509020421
         ]
        },
        {
         "line": {
          "color": "rgb(0, 0, 255)"
         },
         "mode": "lines",
         "showlegend": false,
         "type": "scatter",
         "x": [
          -0.75,
          -0.6547854654777376
         ],
         "y": [
          -0.6547854654777376,
          -0.75
         ]
        },
        {
         "line": {
          "color": "rgb(0, 0, 255)"
         },
         "mode": "lines",
         "showlegend": false,
         "type": "scatter",
         "x": [
          -0.75,
          -0.6547854654777376
         ],
         "y": [
          0.6547854654777376,
          0.75
         ]
        },
        {
         "line": {
          "color": "rgb(0, 0, 255)"
         },
         "mode": "lines",
         "showlegend": false,
         "type": "scatter",
         "x": [
          -0.6547854654777376,
          -0.5
         ],
         "y": [
          0.75,
          0.8637940509020421
         ]
        },
        {
         "line": {
          "color": "rgb(0, 0, 255)"
         },
         "mode": "lines",
         "showlegend": false,
         "type": "scatter",
         "x": [
          -0.5,
          -0.25
         ],
         "y": [
          -0.8637940509020421,
          -0.9679688690263877
         ]
        },
        {
         "line": {
          "color": "rgb(0, 0, 255)"
         },
         "mode": "lines",
         "showlegend": false,
         "type": "scatter",
         "x": [
          -0.5,
          -0.25
         ],
         "y": [
          0.8637940509020421,
          0.9679688690263877
         ]
        },
        {
         "line": {
          "color": "rgb(0, 0, 255)"
         },
         "mode": "lines",
         "showlegend": false,
         "type": "scatter",
         "x": [
          0,
          0
         ],
         "y": [
          -1,
          -1
         ]
        },
        {
         "line": {
          "color": "rgb(0, 0, 255)"
         },
         "mode": "lines",
         "showlegend": false,
         "type": "scatter",
         "x": [
          -0.25,
          0
         ],
         "y": [
          -0.9679688690263877,
          -1
         ]
        },
        {
         "line": {
          "color": "rgb(0, 0, 255)"
         },
         "mode": "lines",
         "showlegend": false,
         "type": "scatter",
         "x": [
          -0.25,
          0
         ],
         "y": [
          0.9679688690263877,
          1
         ]
        },
        {
         "line": {
          "color": "rgb(0, 0, 255)"
         },
         "mode": "lines",
         "showlegend": false,
         "type": "scatter",
         "x": [
          0,
          0
         ],
         "y": [
          1,
          1
         ]
        },
        {
         "line": {
          "color": "rgb(0, 0, 255)"
         },
         "mode": "lines",
         "showlegend": false,
         "type": "scatter",
         "x": [
          0,
          0
         ],
         "y": [
          -1,
          -1
         ]
        },
        {
         "line": {
          "color": "rgb(0, 0, 255)"
         },
         "mode": "lines",
         "showlegend": false,
         "type": "scatter",
         "x": [
          0,
          0.25
         ],
         "y": [
          -1,
          -0.9679688690263877
         ]
        },
        {
         "line": {
          "color": "rgb(0, 0, 255)"
         },
         "mode": "lines",
         "showlegend": false,
         "type": "scatter",
         "x": [
          0,
          0.25
         ],
         "y": [
          1,
          0.9679688690263877
         ]
        },
        {
         "line": {
          "color": "rgb(0, 0, 255)"
         },
         "mode": "lines",
         "showlegend": false,
         "type": "scatter",
         "x": [
          0,
          0
         ],
         "y": [
          1,
          1
         ]
        },
        {
         "line": {
          "color": "rgb(0, 0, 255)"
         },
         "mode": "lines",
         "showlegend": false,
         "type": "scatter",
         "x": [
          0.25,
          0.5
         ],
         "y": [
          -0.9679688690263877,
          -0.8637940509020421
         ]
        },
        {
         "line": {
          "color": "rgb(0, 0, 255)"
         },
         "mode": "lines",
         "showlegend": false,
         "type": "scatter",
         "x": [
          0.25,
          0.5
         ],
         "y": [
          0.9679688690263877,
          0.8637940509020421
         ]
        },
        {
         "line": {
          "color": "rgb(0, 0, 255)"
         },
         "mode": "lines",
         "showlegend": false,
         "type": "scatter",
         "x": [
          0.6547854654777376,
          0.5
         ],
         "y": [
          -0.75,
          -0.8637940509020421
         ]
        },
        {
         "line": {
          "color": "rgb(0, 0, 255)"
         },
         "mode": "lines",
         "showlegend": false,
         "type": "scatter",
         "x": [
          0.6547854654777376,
          0.75
         ],
         "y": [
          -0.75,
          -0.6547854654777376
         ]
        },
        {
         "line": {
          "color": "rgb(0, 0, 255)"
         },
         "mode": "lines",
         "showlegend": false,
         "type": "scatter",
         "x": [
          0.6547854654777376,
          0.75
         ],
         "y": [
          0.75,
          0.6547854654777376
         ]
        },
        {
         "line": {
          "color": "rgb(0, 0, 255)"
         },
         "mode": "lines",
         "showlegend": false,
         "type": "scatter",
         "x": [
          0.5,
          0.6547854654777376
         ],
         "y": [
          0.8637940509020421,
          0.75
         ]
        },
        {
         "line": {
          "color": "rgb(0, 0, 255)"
         },
         "mode": "lines",
         "showlegend": false,
         "type": "scatter",
         "x": [
          0.8637940509020421,
          0.75
         ],
         "y": [
          -0.5,
          -0.6547854654777376
         ]
        },
        {
         "line": {
          "color": "rgb(0, 0, 255)"
         },
         "mode": "lines",
         "showlegend": false,
         "type": "scatter",
         "x": [
          0.8637940509020421,
          0.9679688690263877
         ],
         "y": [
          -0.5,
          -0.25
         ]
        },
        {
         "line": {
          "color": "rgb(0, 0, 255)"
         },
         "mode": "lines",
         "showlegend": false,
         "type": "scatter",
         "x": [
          0.9679688690263877,
          1
         ],
         "y": [
          -0.25,
          0
         ]
        },
        {
         "line": {
          "color": "rgb(0, 0, 255)"
         },
         "mode": "lines",
         "showlegend": false,
         "type": "scatter",
         "x": [
          0.9679688690263877,
          1
         ],
         "y": [
          0.25,
          0
         ]
        },
        {
         "line": {
          "color": "rgb(0, 0, 255)"
         },
         "mode": "lines",
         "showlegend": false,
         "type": "scatter",
         "x": [
          0.9679688690263877,
          0.8637940509020421
         ],
         "y": [
          0.25,
          0.5
         ]
        },
        {
         "line": {
          "color": "rgb(0, 0, 255)"
         },
         "mode": "lines",
         "showlegend": false,
         "type": "scatter",
         "x": [
          0.75,
          0.8637940509020421
         ],
         "y": [
          0.6547854654777376,
          0.5
         ]
        },
        {
         "line": {
          "color": "rgb(0, 0, 255)"
         },
         "mode": "lines",
         "showlegend": false,
         "type": "scatter",
         "x": [
          1,
          1
         ],
         "y": [
          0,
          0
         ]
        },
        {
         "line": {
          "color": "rgb(0, 0, 255)"
         },
         "mode": "lines",
         "showlegend": false,
         "type": "scatter",
         "x": [
          1,
          1
         ],
         "y": [
          0,
          0
         ]
        }
       ],
       "layout": {
        "height": 500,
        "margin": {
         "b": 25,
         "l": 25,
         "r": 25,
         "t": 25
        },
        "paper_bgcolor": "LightSteelBlue",
        "template": {
         "data": {
          "bar": [
           {
            "error_x": {
             "color": "#2a3f5f"
            },
            "error_y": {
             "color": "#2a3f5f"
            },
            "marker": {
             "line": {
              "color": "#E5ECF6",
              "width": 0.5
             },
             "pattern": {
              "fillmode": "overlay",
              "size": 10,
              "solidity": 0.2
             }
            },
            "type": "bar"
           }
          ],
          "barpolar": [
           {
            "marker": {
             "line": {
              "color": "#E5ECF6",
              "width": 0.5
             },
             "pattern": {
              "fillmode": "overlay",
              "size": 10,
              "solidity": 0.2
             }
            },
            "type": "barpolar"
           }
          ],
          "carpet": [
           {
            "aaxis": {
             "endlinecolor": "#2a3f5f",
             "gridcolor": "white",
             "linecolor": "white",
             "minorgridcolor": "white",
             "startlinecolor": "#2a3f5f"
            },
            "baxis": {
             "endlinecolor": "#2a3f5f",
             "gridcolor": "white",
             "linecolor": "white",
             "minorgridcolor": "white",
             "startlinecolor": "#2a3f5f"
            },
            "type": "carpet"
           }
          ],
          "choropleth": [
           {
            "colorbar": {
             "outlinewidth": 0,
             "ticks": ""
            },
            "type": "choropleth"
           }
          ],
          "contour": [
           {
            "colorbar": {
             "outlinewidth": 0,
             "ticks": ""
            },
            "colorscale": [
             [
              0,
              "#0d0887"
             ],
             [
              0.1111111111111111,
              "#46039f"
             ],
             [
              0.2222222222222222,
              "#7201a8"
             ],
             [
              0.3333333333333333,
              "#9c179e"
             ],
             [
              0.4444444444444444,
              "#bd3786"
             ],
             [
              0.5555555555555556,
              "#d8576b"
             ],
             [
              0.6666666666666666,
              "#ed7953"
             ],
             [
              0.7777777777777778,
              "#fb9f3a"
             ],
             [
              0.8888888888888888,
              "#fdca26"
             ],
             [
              1,
              "#f0f921"
             ]
            ],
            "type": "contour"
           }
          ],
          "contourcarpet": [
           {
            "colorbar": {
             "outlinewidth": 0,
             "ticks": ""
            },
            "type": "contourcarpet"
           }
          ],
          "heatmap": [
           {
            "colorbar": {
             "outlinewidth": 0,
             "ticks": ""
            },
            "colorscale": [
             [
              0,
              "#0d0887"
             ],
             [
              0.1111111111111111,
              "#46039f"
             ],
             [
              0.2222222222222222,
              "#7201a8"
             ],
             [
              0.3333333333333333,
              "#9c179e"
             ],
             [
              0.4444444444444444,
              "#bd3786"
             ],
             [
              0.5555555555555556,
              "#d8576b"
             ],
             [
              0.6666666666666666,
              "#ed7953"
             ],
             [
              0.7777777777777778,
              "#fb9f3a"
             ],
             [
              0.8888888888888888,
              "#fdca26"
             ],
             [
              1,
              "#f0f921"
             ]
            ],
            "type": "heatmap"
           }
          ],
          "heatmapgl": [
           {
            "colorbar": {
             "outlinewidth": 0,
             "ticks": ""
            },
            "colorscale": [
             [
              0,
              "#0d0887"
             ],
             [
              0.1111111111111111,
              "#46039f"
             ],
             [
              0.2222222222222222,
              "#7201a8"
             ],
             [
              0.3333333333333333,
              "#9c179e"
             ],
             [
              0.4444444444444444,
              "#bd3786"
             ],
             [
              0.5555555555555556,
              "#d8576b"
             ],
             [
              0.6666666666666666,
              "#ed7953"
             ],
             [
              0.7777777777777778,
              "#fb9f3a"
             ],
             [
              0.8888888888888888,
              "#fdca26"
             ],
             [
              1,
              "#f0f921"
             ]
            ],
            "type": "heatmapgl"
           }
          ],
          "histogram": [
           {
            "marker": {
             "pattern": {
              "fillmode": "overlay",
              "size": 10,
              "solidity": 0.2
             }
            },
            "type": "histogram"
           }
          ],
          "histogram2d": [
           {
            "colorbar": {
             "outlinewidth": 0,
             "ticks": ""
            },
            "colorscale": [
             [
              0,
              "#0d0887"
             ],
             [
              0.1111111111111111,
              "#46039f"
             ],
             [
              0.2222222222222222,
              "#7201a8"
             ],
             [
              0.3333333333333333,
              "#9c179e"
             ],
             [
              0.4444444444444444,
              "#bd3786"
             ],
             [
              0.5555555555555556,
              "#d8576b"
             ],
             [
              0.6666666666666666,
              "#ed7953"
             ],
             [
              0.7777777777777778,
              "#fb9f3a"
             ],
             [
              0.8888888888888888,
              "#fdca26"
             ],
             [
              1,
              "#f0f921"
             ]
            ],
            "type": "histogram2d"
           }
          ],
          "histogram2dcontour": [
           {
            "colorbar": {
             "outlinewidth": 0,
             "ticks": ""
            },
            "colorscale": [
             [
              0,
              "#0d0887"
             ],
             [
              0.1111111111111111,
              "#46039f"
             ],
             [
              0.2222222222222222,
              "#7201a8"
             ],
             [
              0.3333333333333333,
              "#9c179e"
             ],
             [
              0.4444444444444444,
              "#bd3786"
             ],
             [
              0.5555555555555556,
              "#d8576b"
             ],
             [
              0.6666666666666666,
              "#ed7953"
             ],
             [
              0.7777777777777778,
              "#fb9f3a"
             ],
             [
              0.8888888888888888,
              "#fdca26"
             ],
             [
              1,
              "#f0f921"
             ]
            ],
            "type": "histogram2dcontour"
           }
          ],
          "mesh3d": [
           {
            "colorbar": {
             "outlinewidth": 0,
             "ticks": ""
            },
            "type": "mesh3d"
           }
          ],
          "parcoords": [
           {
            "line": {
             "colorbar": {
              "outlinewidth": 0,
              "ticks": ""
             }
            },
            "type": "parcoords"
           }
          ],
          "pie": [
           {
            "automargin": true,
            "type": "pie"
           }
          ],
          "scatter": [
           {
            "fillpattern": {
             "fillmode": "overlay",
             "size": 10,
             "solidity": 0.2
            },
            "type": "scatter"
           }
          ],
          "scatter3d": [
           {
            "line": {
             "colorbar": {
              "outlinewidth": 0,
              "ticks": ""
             }
            },
            "marker": {
             "colorbar": {
              "outlinewidth": 0,
              "ticks": ""
             }
            },
            "type": "scatter3d"
           }
          ],
          "scattercarpet": [
           {
            "marker": {
             "colorbar": {
              "outlinewidth": 0,
              "ticks": ""
             }
            },
            "type": "scattercarpet"
           }
          ],
          "scattergeo": [
           {
            "marker": {
             "colorbar": {
              "outlinewidth": 0,
              "ticks": ""
             }
            },
            "type": "scattergeo"
           }
          ],
          "scattergl": [
           {
            "marker": {
             "colorbar": {
              "outlinewidth": 0,
              "ticks": ""
             }
            },
            "type": "scattergl"
           }
          ],
          "scattermapbox": [
           {
            "marker": {
             "colorbar": {
              "outlinewidth": 0,
              "ticks": ""
             }
            },
            "type": "scattermapbox"
           }
          ],
          "scatterpolar": [
           {
            "marker": {
             "colorbar": {
              "outlinewidth": 0,
              "ticks": ""
             }
            },
            "type": "scatterpolar"
           }
          ],
          "scatterpolargl": [
           {
            "marker": {
             "colorbar": {
              "outlinewidth": 0,
              "ticks": ""
             }
            },
            "type": "scatterpolargl"
           }
          ],
          "scatterternary": [
           {
            "marker": {
             "colorbar": {
              "outlinewidth": 0,
              "ticks": ""
             }
            },
            "type": "scatterternary"
           }
          ],
          "surface": [
           {
            "colorbar": {
             "outlinewidth": 0,
             "ticks": ""
            },
            "colorscale": [
             [
              0,
              "#0d0887"
             ],
             [
              0.1111111111111111,
              "#46039f"
             ],
             [
              0.2222222222222222,
              "#7201a8"
             ],
             [
              0.3333333333333333,
              "#9c179e"
             ],
             [
              0.4444444444444444,
              "#bd3786"
             ],
             [
              0.5555555555555556,
              "#d8576b"
             ],
             [
              0.6666666666666666,
              "#ed7953"
             ],
             [
              0.7777777777777778,
              "#fb9f3a"
             ],
             [
              0.8888888888888888,
              "#fdca26"
             ],
             [
              1,
              "#f0f921"
             ]
            ],
            "type": "surface"
           }
          ],
          "table": [
           {
            "cells": {
             "fill": {
              "color": "#EBF0F8"
             },
             "line": {
              "color": "white"
             }
            },
            "header": {
             "fill": {
              "color": "#C8D4E3"
             },
             "line": {
              "color": "white"
             }
            },
            "type": "table"
           }
          ]
         },
         "layout": {
          "annotationdefaults": {
           "arrowcolor": "#2a3f5f",
           "arrowhead": 0,
           "arrowwidth": 1
          },
          "autotypenumbers": "strict",
          "coloraxis": {
           "colorbar": {
            "outlinewidth": 0,
            "ticks": ""
           }
          },
          "colorscale": {
           "diverging": [
            [
             0,
             "#8e0152"
            ],
            [
             0.1,
             "#c51b7d"
            ],
            [
             0.2,
             "#de77ae"
            ],
            [
             0.3,
             "#f1b6da"
            ],
            [
             0.4,
             "#fde0ef"
            ],
            [
             0.5,
             "#f7f7f7"
            ],
            [
             0.6,
             "#e6f5d0"
            ],
            [
             0.7,
             "#b8e186"
            ],
            [
             0.8,
             "#7fbc41"
            ],
            [
             0.9,
             "#4d9221"
            ],
            [
             1,
             "#276419"
            ]
           ],
           "sequential": [
            [
             0,
             "#0d0887"
            ],
            [
             0.1111111111111111,
             "#46039f"
            ],
            [
             0.2222222222222222,
             "#7201a8"
            ],
            [
             0.3333333333333333,
             "#9c179e"
            ],
            [
             0.4444444444444444,
             "#bd3786"
            ],
            [
             0.5555555555555556,
             "#d8576b"
            ],
            [
             0.6666666666666666,
             "#ed7953"
            ],
            [
             0.7777777777777778,
             "#fb9f3a"
            ],
            [
             0.8888888888888888,
             "#fdca26"
            ],
            [
             1,
             "#f0f921"
            ]
           ],
           "sequentialminus": [
            [
             0,
             "#0d0887"
            ],
            [
             0.1111111111111111,
             "#46039f"
            ],
            [
             0.2222222222222222,
             "#7201a8"
            ],
            [
             0.3333333333333333,
             "#9c179e"
            ],
            [
             0.4444444444444444,
             "#bd3786"
            ],
            [
             0.5555555555555556,
             "#d8576b"
            ],
            [
             0.6666666666666666,
             "#ed7953"
            ],
            [
             0.7777777777777778,
             "#fb9f3a"
            ],
            [
             0.8888888888888888,
             "#fdca26"
            ],
            [
             1,
             "#f0f921"
            ]
           ]
          },
          "colorway": [
           "#636efa",
           "#EF553B",
           "#00cc96",
           "#ab63fa",
           "#FFA15A",
           "#19d3f3",
           "#FF6692",
           "#B6E880",
           "#FF97FF",
           "#FECB52"
          ],
          "font": {
           "color": "#2a3f5f"
          },
          "geo": {
           "bgcolor": "white",
           "lakecolor": "white",
           "landcolor": "#E5ECF6",
           "showlakes": true,
           "showland": true,
           "subunitcolor": "white"
          },
          "hoverlabel": {
           "align": "left"
          },
          "hovermode": "closest",
          "mapbox": {
           "style": "light"
          },
          "paper_bgcolor": "white",
          "plot_bgcolor": "#E5ECF6",
          "polar": {
           "angularaxis": {
            "gridcolor": "white",
            "linecolor": "white",
            "ticks": ""
           },
           "bgcolor": "#E5ECF6",
           "radialaxis": {
            "gridcolor": "white",
            "linecolor": "white",
            "ticks": ""
           }
          },
          "scene": {
           "xaxis": {
            "backgroundcolor": "#E5ECF6",
            "gridcolor": "white",
            "gridwidth": 2,
            "linecolor": "white",
            "showbackground": true,
            "ticks": "",
            "zerolinecolor": "white"
           },
           "yaxis": {
            "backgroundcolor": "#E5ECF6",
            "gridcolor": "white",
            "gridwidth": 2,
            "linecolor": "white",
            "showbackground": true,
            "ticks": "",
            "zerolinecolor": "white"
           },
           "zaxis": {
            "backgroundcolor": "#E5ECF6",
            "gridcolor": "white",
            "gridwidth": 2,
            "linecolor": "white",
            "showbackground": true,
            "ticks": "",
            "zerolinecolor": "white"
           }
          },
          "shapedefaults": {
           "line": {
            "color": "#2a3f5f"
           }
          },
          "ternary": {
           "aaxis": {
            "gridcolor": "white",
            "linecolor": "white",
            "ticks": ""
           },
           "baxis": {
            "gridcolor": "white",
            "linecolor": "white",
            "ticks": ""
           },
           "bgcolor": "#E5ECF6",
           "caxis": {
            "gridcolor": "white",
            "linecolor": "white",
            "ticks": ""
           }
          },
          "title": {
           "x": 0.05
          },
          "xaxis": {
           "automargin": true,
           "gridcolor": "white",
           "linecolor": "white",
           "ticks": "",
           "title": {
            "standoff": 15
           },
           "zerolinecolor": "white",
           "zerolinewidth": 2
          },
          "yaxis": {
           "automargin": true,
           "gridcolor": "white",
           "linecolor": "white",
           "ticks": "",
           "title": {
            "standoff": 15
           },
           "zerolinecolor": "white",
           "zerolinewidth": 2
          }
         }
        },
        "width": 500,
        "xaxis": {
         "dtick": 1,
         "showticklabels": false
        },
        "yaxis": {
         "dtick": 1,
         "showticklabels": false
        }
       }
      }
     },
     "metadata": {},
     "output_type": "display_data"
    }
   ],
   "source": [
    "def circulo(x,y,r=1):#r^2 = x^2+y^2\n",
    "\treturn (r-np.sqrt(x**2+y**2))\n",
    "\n",
    "fig = go.Figure()\n",
    "blank = (50, 50)\n",
    "marching_squares(circulo, blank)\n",
    "\n",
    "fig.update_layout(\n",
    "        margin=dict(l=25, r=25, t=25, b=25),\n",
    "        paper_bgcolor=\"LightSteelBlue\", width=500, height=500)\n",
    "fig.update_xaxes(dtick=1, showticklabels=False)\n",
    "fig.update_yaxes(dtick=1, showticklabels=False)\n",
    "fig.show()\n"
   ]
  },
  {
   "cell_type": "code",
   "execution_count": 5,
   "metadata": {},
   "outputs": [],
   "source": [
    "from shapely.geometry import Point, Polygon\n",
    "from shapely.ops import nearest_points\n",
    "\n",
    "n=300\n",
    "K=[10,20,30,40,50]\n",
    "\n",
    "poligono= Polygon([(0.61, 1.9), (2, 0), (0.61, -1.9), (-1.61,-1.17),(-1.61,1.17)])\n",
    "\n",
    "c=1\n",
    "def distanciaAPoligono(x, y):\n",
    "\tpoint = Point(x, y)\n",
    "\tnearest = nearest_points(point, poligono)\n",
    "\tdistance = nearest[0].distance(nearest[1])\n",
    "\treturn distance - c"
   ]
  },
  {
   "cell_type": "code",
   "execution_count": 6,
   "metadata": {},
   "outputs": [
    {
     "data": {
      "application/vnd.plotly.v1+json": {
       "config": {
        "plotlyServerURL": "https://plot.ly"
       },
       "data": [
        {
         "mode": "lines",
         "showlegend": false,
         "type": "scatter",
         "x": [
          0.61,
          2,
          0.61,
          -1.61,
          -1.61,
          0.61
         ],
         "y": [
          1.9,
          0,
          -1.9,
          -1.17,
          1.17,
          1.9
         ]
        },
        {
         "line": {
          "color": "rgb(0, 0, 255)"
         },
         "mode": "lines",
         "showlegend": false,
         "type": "scatter",
         "x": [
          -2.553442196188918,
          -2.5
         ],
         "y": [
          -1.5,
          -1.6122688482810847
         ]
        },
        {
         "line": {
          "color": "rgb(0, 0, 255)"
         },
         "mode": "lines",
         "showlegend": false,
         "type": "scatter",
         "x": [
          -2.553442196188918,
          -2.606746785544414
         ],
         "y": [
          -1.5,
          -1.25
         ]
        },
        {
         "line": {
          "color": "rgb(0, 0, 255)"
         },
         "mode": "lines",
         "showlegend": false,
         "type": "scatter",
         "x": [
          -2.606746785544414,
          -2.6100000000000003
         ],
         "y": [
          -1.25,
          -1
         ]
        },
        {
         "line": {
          "color": "rgb(0, 0, 255)"
         },
         "mode": "lines",
         "showlegend": false,
         "type": "scatter",
         "x": [
          -2.6100000000000003,
          -2.6100000000000003
         ],
         "y": [
          -1,
          -0.75
         ]
        },
        {
         "line": {
          "color": "rgb(0, 0, 255)"
         },
         "mode": "lines",
         "showlegend": false,
         "type": "scatter",
         "x": [
          -2.6100000000000003,
          -2.6100000000000003
         ],
         "y": [
          -0.75,
          -0.5
         ]
        },
        {
         "line": {
          "color": "rgb(0, 0, 255)"
         },
         "mode": "lines",
         "showlegend": false,
         "type": "scatter",
         "x": [
          -2.6100000000000003,
          -2.6100000000000003
         ],
         "y": [
          -0.5,
          -0.25
         ]
        },
        {
         "line": {
          "color": "rgb(0, 0, 255)"
         },
         "mode": "lines",
         "showlegend": false,
         "type": "scatter",
         "x": [
          -2.6100000000000003,
          -2.6100000000000003
         ],
         "y": [
          -0.25,
          0
         ]
        },
        {
         "line": {
          "color": "rgb(0, 0, 255)"
         },
         "mode": "lines",
         "showlegend": false,
         "type": "scatter",
         "x": [
          -2.6100000000000003,
          -2.6100000000000003
         ],
         "y": [
          0,
          0.25
         ]
        },
        {
         "line": {
          "color": "rgb(0, 0, 255)"
         },
         "mode": "lines",
         "showlegend": false,
         "type": "scatter",
         "x": [
          -2.6100000000000003,
          -2.6100000000000003
         ],
         "y": [
          0.25,
          0.5
         ]
        },
        {
         "line": {
          "color": "rgb(0, 0, 255)"
         },
         "mode": "lines",
         "showlegend": false,
         "type": "scatter",
         "x": [
          -2.6100000000000003,
          -2.6100000000000003
         ],
         "y": [
          0.5,
          0.75
         ]
        },
        {
         "line": {
          "color": "rgb(0, 0, 255)"
         },
         "mode": "lines",
         "showlegend": false,
         "type": "scatter",
         "x": [
          -2.6100000000000003,
          -2.6100000000000003
         ],
         "y": [
          0.75,
          1
         ]
        },
        {
         "line": {
          "color": "rgb(0, 0, 255)"
         },
         "mode": "lines",
         "showlegend": false,
         "type": "scatter",
         "x": [
          -2.6100000000000003,
          -2.606746785544414
         ],
         "y": [
          1,
          1.25
         ]
        },
        {
         "line": {
          "color": "rgb(0, 0, 255)"
         },
         "mode": "lines",
         "showlegend": false,
         "type": "scatter",
         "x": [
          -2.606746785544414,
          -2.553442196188918
         ],
         "y": [
          1.25,
          1.5
         ]
        },
        {
         "line": {
          "color": "rgb(0, 0, 255)"
         },
         "mode": "lines",
         "showlegend": false,
         "type": "scatter",
         "x": [
          -2.553442196188918,
          -2.5
         ],
         "y": [
          1.5,
          1.6122688482810847
         ]
        },
        {
         "line": {
          "color": "rgb(0, 0, 255)"
         },
         "mode": "lines",
         "showlegend": false,
         "type": "scatter",
         "x": [
          -2.421563323900308,
          -2.25
         ],
         "y": [
          -1.75,
          -1.9347904424833953
         ]
        },
        {
         "line": {
          "color": "rgb(0, 0, 255)"
         },
         "mode": "lines",
         "showlegend": false,
         "type": "scatter",
         "x": [
          -2.5,
          -2.421563323900308
         ],
         "y": [
          -1.6122688482810847,
          -1.75
         ]
        },
        {
         "line": {
          "color": "rgb(0, 0, 255)"
         },
         "mode": "lines",
         "showlegend": false,
         "type": "scatter",
         "x": [
          -2.421563323900308,
          -2.5
         ],
         "y": [
          1.75,
          1.6122688482810847
         ]
        },
        {
         "line": {
          "color": "rgb(0, 0, 255)"
         },
         "mode": "lines",
         "showlegend": false,
         "type": "scatter",
         "x": [
          -2.421563323900308,
          -2.25
         ],
         "y": [
          1.75,
          1.9347904424833953
         ]
        },
        {
         "line": {
          "color": "rgb(0, 0, 255)"
         },
         "mode": "lines",
         "showlegend": false,
         "type": "scatter",
         "x": [
          -2.1582416023450497,
          -2
         ],
         "y": [
          -2,
          -2.089684068051267
         ]
        },
        {
         "line": {
          "color": "rgb(0, 0, 255)"
         },
         "mode": "lines",
         "showlegend": false,
         "type": "scatter",
         "x": [
          -2.25,
          -2.1582416023450497
         ],
         "y": [
          -1.9347904424833953,
          -2
         ]
        },
        {
         "line": {
          "color": "rgb(0, 0, 255)"
         },
         "mode": "lines",
         "showlegend": false,
         "type": "scatter",
         "x": [
          -2.1582416023450497,
          -2.25
         ],
         "y": [
          2,
          1.9347904424833953
         ]
        },
        {
         "line": {
          "color": "rgb(0, 0, 255)"
         },
         "mode": "lines",
         "showlegend": false,
         "type": "scatter",
         "x": [
          -2.1582416023450497,
          -2
         ],
         "y": [
          2,
          2.089684068051268
         ]
        },
        {
         "line": {
          "color": "rgb(0, 0, 255)"
         },
         "mode": "lines",
         "showlegend": false,
         "type": "scatter",
         "x": [
          -2,
          -1.75
         ],
         "y": [
          -2.089684068051267,
          -2.176640741834997
         ]
        },
        {
         "line": {
          "color": "rgb(0, 0, 255)"
         },
         "mode": "lines",
         "showlegend": false,
         "type": "scatter",
         "x": [
          -2,
          -1.75
         ],
         "y": [
          2.089684068051268,
          2.176640741834996
         ]
        },
        {
         "line": {
          "color": "rgb(0, 0, 255)"
         },
         "mode": "lines",
         "showlegend": false,
         "type": "scatter",
         "x": [
          -1.5269074614708114,
          -1.5
         ],
         "y": [
          -2.25,
          -2.2588479490422038
         ]
        },
        {
         "line": {
          "color": "rgb(0, 0, 255)"
         },
         "mode": "lines",
         "showlegend": false,
         "type": "scatter",
         "x": [
          -1.75,
          -1.5269074614708114
         ],
         "y": [
          -2.176640741834997,
          -2.25
         ]
        },
        {
         "line": {
          "color": "rgb(0, 0, 255)"
         },
         "mode": "lines",
         "showlegend": false,
         "type": "scatter",
         "x": [
          -1.5269074614708114,
          -1.75
         ],
         "y": [
          2.25,
          2.176640741834996
         ]
        },
        {
         "line": {
          "color": "rgb(0, 0, 255)"
         },
         "mode": "lines",
         "showlegend": false,
         "type": "scatter",
         "x": [
          -1.5269074614708114,
          -1.5
         ],
         "y": [
          2.25,
          2.258847949042204
         ]
        },
        {
         "line": {
          "color": "rgb(0, 0, 255)"
         },
         "mode": "lines",
         "showlegend": false,
         "type": "scatter",
         "x": [
          -1.5,
          -1.25
         ],
         "y": [
          -2.2588479490422038,
          -2.341055156249411
         ]
        },
        {
         "line": {
          "color": "rgb(0, 0, 255)"
         },
         "mode": "lines",
         "showlegend": false,
         "type": "scatter",
         "x": [
          -1.5,
          -1.25
         ],
         "y": [
          2.258847949042204,
          2.3410551562494106
         ]
        },
        {
         "line": {
          "color": "rgb(0, 0, 255)"
         },
         "mode": "lines",
         "showlegend": false,
         "type": "scatter",
         "x": [
          -1.25,
          -1
         ],
         "y": [
          -2.341055156249411,
          -2.423262363456618
         ]
        },
        {
         "line": {
          "color": "rgb(0, 0, 255)"
         },
         "mode": "lines",
         "showlegend": false,
         "type": "scatter",
         "x": [
          -1.25,
          -1
         ],
         "y": [
          2.3410551562494106,
          2.423262363456619
         ]
        },
        {
         "line": {
          "color": "rgb(0, 0, 255)"
         },
         "mode": "lines",
         "showlegend": false,
         "type": "scatter",
         "x": [
          -0.7666334888680719,
          -0.75
         ],
         "y": [
          -2.5,
          -2.5054695706638253
         ]
        },
        {
         "line": {
          "color": "rgb(0, 0, 255)"
         },
         "mode": "lines",
         "showlegend": false,
         "type": "scatter",
         "x": [
          -1,
          -0.7666334888680719
         ],
         "y": [
          -2.423262363456618,
          -2.5
         ]
        },
        {
         "line": {
          "color": "rgb(0, 0, 255)"
         },
         "mode": "lines",
         "showlegend": false,
         "type": "scatter",
         "x": [
          -0.766633488868071,
          -1
         ],
         "y": [
          2.5,
          2.423262363456619
         ]
        },
        {
         "line": {
          "color": "rgb(0, 0, 255)"
         },
         "mode": "lines",
         "showlegend": false,
         "type": "scatter",
         "x": [
          -0.766633488868071,
          -0.75
         ],
         "y": [
          2.5,
          2.5054695706638253
         ]
        },
        {
         "line": {
          "color": "rgb(0, 0, 255)"
         },
         "mode": "lines",
         "showlegend": false,
         "type": "scatter",
         "x": [
          -0.75,
          -0.5
         ],
         "y": [
          -2.5054695706638253,
          -2.5876767778710326
         ]
        },
        {
         "line": {
          "color": "rgb(0, 0, 255)"
         },
         "mode": "lines",
         "showlegend": false,
         "type": "scatter",
         "x": [
          -0.75,
          -0.5
         ],
         "y": [
          2.5054695706638253,
          2.5876767778710317
         ]
        },
        {
         "line": {
          "color": "rgb(0, 0, 255)"
         },
         "mode": "lines",
         "showlegend": false,
         "type": "scatter",
         "x": [
          -0.5,
          -0.25
         ],
         "y": [
          -2.5876767778710326,
          -2.6698839850782394
         ]
        },
        {
         "line": {
          "color": "rgb(0, 0, 255)"
         },
         "mode": "lines",
         "showlegend": false,
         "type": "scatter",
         "x": [
          -0.5,
          -0.25
         ],
         "y": [
          2.5876767778710317,
          2.66988398507824
         ]
        },
        {
         "line": {
          "color": "rgb(0, 0, 255)"
         },
         "mode": "lines",
         "showlegend": false,
         "type": "scatter",
         "x": [
          -0.0063595162653315995,
          0
         ],
         "y": [
          -2.75,
          -2.7520911922854467
         ]
        },
        {
         "line": {
          "color": "rgb(0, 0, 255)"
         },
         "mode": "lines",
         "showlegend": false,
         "type": "scatter",
         "x": [
          -0.25,
          -0.0063595162653315995
         ],
         "y": [
          -2.6698839850782394,
          -2.75
         ]
        },
        {
         "line": {
          "color": "rgb(0, 0, 255)"
         },
         "mode": "lines",
         "showlegend": false,
         "type": "scatter",
         "x": [
          -0.0063595162653315995,
          -0.25
         ],
         "y": [
          2.75,
          2.66988398507824
         ]
        },
        {
         "line": {
          "color": "rgb(0, 0, 255)"
         },
         "mode": "lines",
         "showlegend": false,
         "type": "scatter",
         "x": [
          -0.0063595162653315995,
          0
         ],
         "y": [
          2.75,
          2.7520911922854463
         ]
        },
        {
         "line": {
          "color": "rgb(0, 0, 255)"
         },
         "mode": "lines",
         "showlegend": false,
         "type": "scatter",
         "x": [
          0,
          0.25
         ],
         "y": [
          -2.7520911922854467,
          -2.8342979940531308
         ]
        },
        {
         "line": {
          "color": "rgb(0, 0, 255)"
         },
         "mode": "lines",
         "showlegend": false,
         "type": "scatter",
         "x": [
          0,
          0.25
         ],
         "y": [
          2.7520911922854463,
          2.8342979940531308
         ]
        },
        {
         "line": {
          "color": "rgb(0, 0, 255)"
         },
         "mode": "lines",
         "showlegend": false,
         "type": "scatter",
         "x": [
          0.25,
          0.5
         ],
         "y": [
          -2.8342979940531308,
          -2.8938334619807415
         ]
        },
        {
         "line": {
          "color": "rgb(0, 0, 255)"
         },
         "mode": "lines",
         "showlegend": false,
         "type": "scatter",
         "x": [
          0.25,
          0.5
         ],
         "y": [
          2.8342979940531308,
          2.8938334619807424
         ]
        },
        {
         "line": {
          "color": "rgb(0, 0, 255)"
         },
         "mode": "lines",
         "showlegend": false,
         "type": "scatter",
         "x": [
          0.5,
          0.75
         ],
         "y": [
          -2.8938334619807415,
          -2.8899918716456496
         ]
        },
        {
         "line": {
          "color": "rgb(0, 0, 255)"
         },
         "mode": "lines",
         "showlegend": false,
         "type": "scatter",
         "x": [
          0.5,
          0.75
         ],
         "y": [
          2.8938334619807424,
          2.88999187164565
         ]
        },
        {
         "line": {
          "color": "rgb(0, 0, 255)"
         },
         "mode": "lines",
         "showlegend": false,
         "type": "scatter",
         "x": [
          0.75,
          1
         ],
         "y": [
          -2.8899918716456496,
          -2.8198601908257137
         ]
        },
        {
         "line": {
          "color": "rgb(0, 0, 255)"
         },
         "mode": "lines",
         "showlegend": false,
         "type": "scatter",
         "x": [
          0.75,
          1
         ],
         "y": [
          2.88999187164565,
          2.819860190825713
         ]
        },
        {
         "line": {
          "color": "rgb(0, 0, 255)"
         },
         "mode": "lines",
         "showlegend": false,
         "type": "scatter",
         "x": [
          1,
          1.125774066946465
         ],
         "y": [
          -2.8198601908257137,
          -2.75
         ]
        },
        {
         "line": {
          "color": "rgb(0, 0, 255)"
         },
         "mode": "lines",
         "showlegend": false,
         "type": "scatter",
         "x": [
          1.125774066946465,
          1.25
         ],
         "y": [
          -2.75,
          -2.6643138258396593
         ]
        },
        {
         "line": {
          "color": "rgb(0, 0, 255)"
         },
         "mode": "lines",
         "showlegend": false,
         "type": "scatter",
         "x": [
          1.125774066946465,
          1.25
         ],
         "y": [
          2.75,
          2.6643138258396597
         ]
        },
        {
         "line": {
          "color": "rgb(0, 0, 255)"
         },
         "mode": "lines",
         "showlegend": false,
         "type": "scatter",
         "x": [
          1,
          1.125774066946465
         ],
         "y": [
          2.819860190825713,
          2.75
         ]
        },
        {
         "line": {
          "color": "rgb(0, 0, 255)"
         },
         "mode": "lines",
         "showlegend": false,
         "type": "scatter",
         "x": [
          1.25,
          1.4071080385831731
         ],
         "y": [
          -2.6643138258396593,
          -2.5
         ]
        },
        {
         "line": {
          "color": "rgb(0, 0, 255)"
         },
         "mode": "lines",
         "showlegend": false,
         "type": "scatter",
         "x": [
          1.4071080385831731,
          1.5
         ],
         "y": [
          -2.5,
          -2.3770982152331195
         ]
        },
        {
         "line": {
          "color": "rgb(0, 0, 255)"
         },
         "mode": "lines",
         "showlegend": false,
         "type": "scatter",
         "x": [
          1.4071080385831731,
          1.5
         ],
         "y": [
          2.5,
          2.3770982152331204
         ]
        },
        {
         "line": {
          "color": "rgb(0, 0, 255)"
         },
         "mode": "lines",
         "showlegend": false,
         "type": "scatter",
         "x": [
          1.25,
          1.4071080385831731
         ],
         "y": [
          2.6643138258396597,
          2.5
         ]
        },
        {
         "line": {
          "color": "rgb(0, 0, 255)"
         },
         "mode": "lines",
         "showlegend": false,
         "type": "scatter",
         "x": [
          1.5,
          1.5929823785126507
         ],
         "y": [
          -2.3770982152331195,
          -2.25
         ]
        },
        {
         "line": {
          "color": "rgb(0, 0, 255)"
         },
         "mode": "lines",
         "showlegend": false,
         "type": "scatter",
         "x": [
          1.5929823785126507,
          1.75
         ],
         "y": [
          -2.25,
          -2.0353715965280843
         ]
        },
        {
         "line": {
          "color": "rgb(0, 0, 255)"
         },
         "mode": "lines",
         "showlegend": false,
         "type": "scatter",
         "x": [
          1.5929823785126507,
          1.75
         ],
         "y": [
          2.25,
          2.0353715965280834
         ]
        },
        {
         "line": {
          "color": "rgb(0, 0, 255)"
         },
         "mode": "lines",
         "showlegend": false,
         "type": "scatter",
         "x": [
          1.5,
          1.5929823785126507
         ],
         "y": [
          2.3770982152331204,
          2.25
         ]
        },
        {
         "line": {
          "color": "rgb(0, 0, 255)"
         },
         "mode": "lines",
         "showlegend": false,
         "type": "scatter",
         "x": [
          1.75,
          1.7758771153547563
         ],
         "y": [
          -2.0353715965280843,
          -2
         ]
        },
        {
         "line": {
          "color": "rgb(0, 0, 255)"
         },
         "mode": "lines",
         "showlegend": false,
         "type": "scatter",
         "x": [
          1.7758771153547563,
          1.9587718521968611
         ],
         "y": [
          -2,
          -1.75
         ]
        },
        {
         "line": {
          "color": "rgb(0, 0, 255)"
         },
         "mode": "lines",
         "showlegend": false,
         "type": "scatter",
         "x": [
          1.9587718521968611,
          2
         ],
         "y": [
          -1.75,
          -1.6936449778230482
         ]
        },
        {
         "line": {
          "color": "rgb(0, 0, 255)"
         },
         "mode": "lines",
         "showlegend": false,
         "type": "scatter",
         "x": [
          1.9587718521968611,
          2
         ],
         "y": [
          1.75,
          1.6936449778230482
         ]
        },
        {
         "line": {
          "color": "rgb(0, 0, 255)"
         },
         "mode": "lines",
         "showlegend": false,
         "type": "scatter",
         "x": [
          1.9587718521968611,
          1.7758771153547563
         ],
         "y": [
          1.75,
          2
         ]
        },
        {
         "line": {
          "color": "rgb(0, 0, 255)"
         },
         "mode": "lines",
         "showlegend": false,
         "type": "scatter",
         "x": [
          1.75,
          1.7758771153547563
         ],
         "y": [
          2.0353715965280834,
          2
         ]
        },
        {
         "line": {
          "color": "rgb(0, 0, 255)"
         },
         "mode": "lines",
         "showlegend": false,
         "type": "scatter",
         "x": [
          2,
          2.141666589038966
         ],
         "y": [
          -1.6936449778230482,
          -1.5
         ]
        },
        {
         "line": {
          "color": "rgb(0, 0, 255)"
         },
         "mode": "lines",
         "showlegend": false,
         "type": "scatter",
         "x": [
          2.141666589038966,
          2.25
         ],
         "y": [
          -1.5,
          -1.3519183591180122
         ]
        },
        {
         "line": {
          "color": "rgb(0, 0, 255)"
         },
         "mode": "lines",
         "showlegend": false,
         "type": "scatter",
         "x": [
          2.141666589038966,
          2.25
         ],
         "y": [
          1.5,
          1.3519183591180122
         ]
        },
        {
         "line": {
          "color": "rgb(0, 0, 255)"
         },
         "mode": "lines",
         "showlegend": false,
         "type": "scatter",
         "x": [
          2,
          2.141666589038966
         ],
         "y": [
          1.6936449778230482,
          1.5
         ]
        },
        {
         "line": {
          "color": "rgb(0, 0, 255)"
         },
         "mode": "lines",
         "showlegend": false,
         "type": "scatter",
         "x": [
          2.25,
          2.3245613258810724
         ],
         "y": [
          -1.3519183591180122,
          -1.25
         ]
        },
        {
         "line": {
          "color": "rgb(0, 0, 255)"
         },
         "mode": "lines",
         "showlegend": false,
         "type": "scatter",
         "x": [
          2.3245613258810724,
          2.5
         ],
         "y": [
          -1.25,
          -1.010191740412976
         ]
        },
        {
         "line": {
          "color": "rgb(0, 0, 255)"
         },
         "mode": "lines",
         "showlegend": false,
         "type": "scatter",
         "x": [
          2.3245613258810724,
          2.5
         ],
         "y": [
          1.25,
          1.010191740412976
         ]
        },
        {
         "line": {
          "color": "rgb(0, 0, 255)"
         },
         "mode": "lines",
         "showlegend": false,
         "type": "scatter",
         "x": [
          2.25,
          2.3245613258810724
         ],
         "y": [
          1.3519183591180122,
          1.25
         ]
        },
        {
         "line": {
          "color": "rgb(0, 0, 255)"
         },
         "mode": "lines",
         "showlegend": false,
         "type": "scatter",
         "x": [
          2.5,
          2.5074560627231772
         ],
         "y": [
          -1.010191740412976,
          -1
         ]
        },
        {
         "line": {
          "color": "rgb(0, 0, 255)"
         },
         "mode": "lines",
         "showlegend": false,
         "type": "scatter",
         "x": [
          2.5074560627231772,
          2.690350799565282
         ],
         "y": [
          -1,
          -0.75
         ]
        },
        {
         "line": {
          "color": "rgb(0, 0, 255)"
         },
         "mode": "lines",
         "showlegend": false,
         "type": "scatter",
         "x": [
          2.690350799565282,
          2.75
         ],
         "y": [
          -0.75,
          -0.66798909882126
         ]
        },
        {
         "line": {
          "color": "rgb(0, 0, 255)"
         },
         "mode": "lines",
         "showlegend": false,
         "type": "scatter",
         "x": [
          2.690350799565282,
          2.75
         ],
         "y": [
          0.75,
          0.66798909882126
         ]
        },
        {
         "line": {
          "color": "rgb(0, 0, 255)"
         },
         "mode": "lines",
         "showlegend": false,
         "type": "scatter",
         "x": [
          2.690350799565282,
          2.5074560627231772
         ],
         "y": [
          0.75,
          1
         ]
        },
        {
         "line": {
          "color": "rgb(0, 0, 255)"
         },
         "mode": "lines",
         "showlegend": false,
         "type": "scatter",
         "x": [
          2.5,
          2.5074560627231772
         ],
         "y": [
          1.010191740412976,
          1
         ]
        },
        {
         "line": {
          "color": "rgb(0, 0, 255)"
         },
         "mode": "lines",
         "showlegend": false,
         "type": "scatter",
         "x": [
          2.75,
          2.863794050902042
         ],
         "y": [
          -0.66798909882126,
          -0.5
         ]
        },
        {
         "line": {
          "color": "rgb(0, 0, 255)"
         },
         "mode": "lines",
         "showlegend": false,
         "type": "scatter",
         "x": [
          2.863794050902042,
          2.9679688690263877
         ],
         "y": [
          -0.5,
          -0.25
         ]
        },
        {
         "line": {
          "color": "rgb(0, 0, 255)"
         },
         "mode": "lines",
         "showlegend": false,
         "type": "scatter",
         "x": [
          2.9679688690263877,
          3
         ],
         "y": [
          -0.25,
          0
         ]
        },
        {
         "line": {
          "color": "rgb(0, 0, 255)"
         },
         "mode": "lines",
         "showlegend": false,
         "type": "scatter",
         "x": [
          3,
          2.9679688690263877
         ],
         "y": [
          0,
          0.25
         ]
        },
        {
         "line": {
          "color": "rgb(0, 0, 255)"
         },
         "mode": "lines",
         "showlegend": false,
         "type": "scatter",
         "x": [
          2.9679688690263877,
          2.863794050902042
         ],
         "y": [
          0.25,
          0.5
         ]
        },
        {
         "line": {
          "color": "rgb(0, 0, 255)"
         },
         "mode": "lines",
         "showlegend": false,
         "type": "scatter",
         "x": [
          2.75,
          2.863794050902042
         ],
         "y": [
          0.66798909882126,
          0.5
         ]
        },
        {
         "line": {
          "color": "rgb(0, 0, 255)"
         },
         "mode": "lines",
         "showlegend": false,
         "type": "scatter",
         "x": [
          -3.5239447440133227,
          -3.5
         ],
         "y": [
          -1.75,
          -1.8159414947230914
         ]
        },
        {
         "line": {
          "color": "rgb(0, 0, 255)"
         },
         "mode": "lines",
         "showlegend": false,
         "type": "scatter",
         "x": [
          -3.5239447440133227,
          -3.5824953065680063
         ],
         "y": [
          -1.75,
          -1.5
         ]
        },
        {
         "line": {
          "color": "rgb(0, 0, 255)"
         },
         "mode": "lines",
         "showlegend": false,
         "type": "scatter",
         "x": [
          -3.5824953065680063,
          -3.608393292268095
         ],
         "y": [
          -1.5,
          -1.25
         ]
        },
        {
         "line": {
          "color": "rgb(0, 0, 255)"
         },
         "mode": "lines",
         "showlegend": false,
         "type": "scatter",
         "x": [
          -3.608393292268095,
          -3.6100000000000003
         ],
         "y": [
          -1.25,
          -1
         ]
        },
        {
         "line": {
          "color": "rgb(0, 0, 255)"
         },
         "mode": "lines",
         "showlegend": false,
         "type": "scatter",
         "x": [
          -3.6100000000000003,
          -3.6100000000000003
         ],
         "y": [
          -1,
          -0.75
         ]
        },
        {
         "line": {
          "color": "rgb(0, 0, 255)"
         },
         "mode": "lines",
         "showlegend": false,
         "type": "scatter",
         "x": [
          -3.6100000000000003,
          -3.6100000000000003
         ],
         "y": [
          -0.75,
          -0.5
         ]
        },
        {
         "line": {
          "color": "rgb(0, 0, 255)"
         },
         "mode": "lines",
         "showlegend": false,
         "type": "scatter",
         "x": [
          -3.6100000000000003,
          -3.6100000000000003
         ],
         "y": [
          -0.5,
          -0.25
         ]
        },
        {
         "line": {
          "color": "rgb(0, 0, 255)"
         },
         "mode": "lines",
         "showlegend": false,
         "type": "scatter",
         "x": [
          -3.6100000000000003,
          -3.6100000000000003
         ],
         "y": [
          -0.25,
          0
         ]
        },
        {
         "line": {
          "color": "rgb(0, 0, 255)"
         },
         "mode": "lines",
         "showlegend": false,
         "type": "scatter",
         "x": [
          -3.6100000000000003,
          -3.6100000000000003
         ],
         "y": [
          0,
          0.25
         ]
        },
        {
         "line": {
          "color": "rgb(0, 0, 255)"
         },
         "mode": "lines",
         "showlegend": false,
         "type": "scatter",
         "x": [
          -3.6100000000000003,
          -3.6100000000000003
         ],
         "y": [
          0.25,
          0.5
         ]
        },
        {
         "line": {
          "color": "rgb(0, 0, 255)"
         },
         "mode": "lines",
         "showlegend": false,
         "type": "scatter",
         "x": [
          -3.6100000000000003,
          -3.6100000000000003
         ],
         "y": [
          0.5,
          0.75
         ]
        },
        {
         "line": {
          "color": "rgb(0, 0, 255)"
         },
         "mode": "lines",
         "showlegend": false,
         "type": "scatter",
         "x": [
          -3.6100000000000003,
          -3.6100000000000003
         ],
         "y": [
          0.75,
          1
         ]
        },
        {
         "line": {
          "color": "rgb(0, 0, 255)"
         },
         "mode": "lines",
         "showlegend": false,
         "type": "scatter",
         "x": [
          -3.6100000000000003,
          -3.608393292268095
         ],
         "y": [
          1,
          1.25
         ]
        },
        {
         "line": {
          "color": "rgb(0, 0, 255)"
         },
         "mode": "lines",
         "showlegend": false,
         "type": "scatter",
         "x": [
          -3.608393292268095,
          -3.5824953065680063
         ],
         "y": [
          1.25,
          1.5
         ]
        },
        {
         "line": {
          "color": "rgb(0, 0, 255)"
         },
         "mode": "lines",
         "showlegend": false,
         "type": "scatter",
         "x": [
          -3.5824953065680063,
          -3.5239447440133227
         ],
         "y": [
          1.5,
          1.75
         ]
        },
        {
         "line": {
          "color": "rgb(0, 0, 255)"
         },
         "mode": "lines",
         "showlegend": false,
         "type": "scatter",
         "x": [
          -3.5239447440133227,
          -3.5
         ],
         "y": [
          1.75,
          1.8159414947230914
         ]
        },
        {
         "line": {
          "color": "rgb(0, 0, 255)"
         },
         "mode": "lines",
         "showlegend": false,
         "type": "scatter",
         "x": [
          -3.292612885715776,
          -3.25
         ],
         "y": [
          -2.25,
          -2.311432105444379
         ]
        },
        {
         "line": {
          "color": "rgb(0, 0, 255)"
         },
         "mode": "lines",
         "showlegend": false,
         "type": "scatter",
         "x": [
          -3.292612885715776,
          -3.429008216056244
         ],
         "y": [
          -2.25,
          -2
         ]
        },
        {
         "line": {
          "color": "rgb(0, 0, 255)"
         },
         "mode": "lines",
         "showlegend": false,
         "type": "scatter",
         "x": [
          -3.5,
          -3.429008216056244
         ],
         "y": [
          -1.8159414947230914,
          -2
         ]
        },
        {
         "line": {
          "color": "rgb(0, 0, 255)"
         },
         "mode": "lines",
         "showlegend": false,
         "type": "scatter",
         "x": [
          -3.429008216056244,
          -3.5
         ],
         "y": [
          2,
          1.8159414947230914
         ]
        },
        {
         "line": {
          "color": "rgb(0, 0, 255)"
         },
         "mode": "lines",
         "showlegend": false,
         "type": "scatter",
         "x": [
          -3.429008216056244,
          -3.292612885715776
         ],
         "y": [
          2,
          2.25
         ]
        },
        {
         "line": {
          "color": "rgb(0, 0, 255)"
         },
         "mode": "lines",
         "showlegend": false,
         "type": "scatter",
         "x": [
          -3.292612885715776,
          -3.25
         ],
         "y": [
          2.25,
          2.3114321054443785
         ]
        },
        {
         "line": {
          "color": "rgb(0, 0, 255)"
         },
         "mode": "lines",
         "showlegend": false,
         "type": "scatter",
         "x": [
          -3.1014843924527176,
          -3
         ],
         "y": [
          -2.5,
          -2.6054829781199786
         ]
        },
        {
         "line": {
          "color": "rgb(0, 0, 255)"
         },
         "mode": "lines",
         "showlegend": false,
         "type": "scatter",
         "x": [
          -3.25,
          -3.1014843924527176
         ],
         "y": [
          -2.311432105444379,
          -2.5
         ]
        },
        {
         "line": {
          "color": "rgb(0, 0, 255)"
         },
         "mode": "lines",
         "showlegend": false,
         "type": "scatter",
         "x": [
          -3.1014843924527176,
          -3.25
         ],
         "y": [
          2.5,
          2.3114321054443785
         ]
        },
        {
         "line": {
          "color": "rgb(0, 0, 255)"
         },
         "mode": "lines",
         "showlegend": false,
         "type": "scatter",
         "x": [
          -3.1014843924527176,
          -3
         ],
         "y": [
          2.5,
          2.605482978119978
         ]
        },
        {
         "line": {
          "color": "rgb(0, 0, 255)"
         },
         "mode": "lines",
         "showlegend": false,
         "type": "scatter",
         "x": [
          -2.8327644593989167,
          -2.75
         ],
         "y": [
          -2.75,
          -2.8121882921626713
         ]
        },
        {
         "line": {
          "color": "rgb(0, 0, 255)"
         },
         "mode": "lines",
         "showlegend": false,
         "type": "scatter",
         "x": [
          -3,
          -2.8327644593989167
         ],
         "y": [
          -2.6054829781199786,
          -2.75
         ]
        },
        {
         "line": {
          "color": "rgb(0, 0, 255)"
         },
         "mode": "lines",
         "showlegend": false,
         "type": "scatter",
         "x": [
          -2.8327644593989167,
          -3
         ],
         "y": [
          2.75,
          2.605482978119978
         ]
        },
        {
         "line": {
          "color": "rgb(0, 0, 255)"
         },
         "mode": "lines",
         "showlegend": false,
         "type": "scatter",
         "x": [
          -2.8327644593989167,
          -2.75
         ],
         "y": [
          2.75,
          2.8121882921626717
         ]
        },
        {
         "line": {
          "color": "rgb(0, 0, 255)"
         },
         "mode": "lines",
         "showlegend": false,
         "type": "scatter",
         "x": [
          -2.75,
          -2.5
         ],
         "y": [
          -2.8121882921626713,
          -2.9605630231933553
         ]
        },
        {
         "line": {
          "color": "rgb(0, 0, 255)"
         },
         "mode": "lines",
         "showlegend": false,
         "type": "scatter",
         "x": [
          -2.75,
          -2.5
         ],
         "y": [
          2.8121882921626717,
          2.9605630231933553
         ]
        },
        {
         "line": {
          "color": "rgb(0, 0, 255)"
         },
         "mode": "lines",
         "showlegend": false,
         "type": "scatter",
         "x": [
          -2.4092435497132225,
          -2.25
         ],
         "y": [
          -3,
          -3.0646374017473423
         ]
        },
        {
         "line": {
          "color": "rgb(0, 0, 255)"
         },
         "mode": "lines",
         "showlegend": false,
         "type": "scatter",
         "x": [
          -2.5,
          -2.4092435497132225
         ],
         "y": [
          -2.9605630231933553,
          -3
         ]
        },
        {
         "line": {
          "color": "rgb(0, 0, 255)"
         },
         "mode": "lines",
         "showlegend": false,
         "type": "scatter",
         "x": [
          -2.4092435497132225,
          -2.5
         ],
         "y": [
          3,
          2.9605630231933553
         ]
        },
        {
         "line": {
          "color": "rgb(0, 0, 255)"
         },
         "mode": "lines",
         "showlegend": false,
         "type": "scatter",
         "x": [
          -2.4092435497132225,
          -2.25
         ],
         "y": [
          3,
          3.0646374017473423
         ]
        },
        {
         "line": {
          "color": "rgb(0, 0, 255)"
         },
         "mode": "lines",
         "showlegend": false,
         "type": "scatter",
         "x": [
          -2.25,
          -2
         ],
         "y": [
          -3.0646374017473423,
          -3.147110312498822
         ]
        },
        {
         "line": {
          "color": "rgb(0, 0, 255)"
         },
         "mode": "lines",
         "showlegend": false,
         "type": "scatter",
         "x": [
          -2.25,
          -2
         ],
         "y": [
          3.0646374017473423,
          3.147110312498821
         ]
        },
        {
         "line": {
          "color": "rgb(0, 0, 255)"
         },
         "mode": "lines",
         "showlegend": false,
         "type": "scatter",
         "x": [
          -2,
          -1.75
         ],
         "y": [
          -3.147110312498822,
          -3.229317519706029
         ]
        },
        {
         "line": {
          "color": "rgb(0, 0, 255)"
         },
         "mode": "lines",
         "showlegend": false,
         "type": "scatter",
         "x": [
          -2,
          -1.75
         ],
         "y": [
          3.147110312498821,
          3.2293175197060293
         ]
        },
        {
         "line": {
          "color": "rgb(0, 0, 255)"
         },
         "mode": "lines",
         "showlegend": false,
         "type": "scatter",
         "x": [
          -1.6871025941744993,
          -1.5
         ],
         "y": [
          -3.25,
          -3.311524726913236
         ]
        },
        {
         "line": {
          "color": "rgb(0, 0, 255)"
         },
         "mode": "lines",
         "showlegend": false,
         "type": "scatter",
         "x": [
          -1.75,
          -1.6871025941744993
         ],
         "y": [
          -3.229317519706029,
          -3.25
         ]
        },
        {
         "line": {
          "color": "rgb(0, 0, 255)"
         },
         "mode": "lines",
         "showlegend": false,
         "type": "scatter",
         "x": [
          -1.6871025941744993,
          -1.75
         ],
         "y": [
          3.25,
          3.2293175197060293
         ]
        },
        {
         "line": {
          "color": "rgb(0, 0, 255)"
         },
         "mode": "lines",
         "showlegend": false,
         "type": "scatter",
         "x": [
          -1.6871025941744993,
          -1.5
         ],
         "y": [
          3.25,
          3.3115247269132357
         ]
        },
        {
         "line": {
          "color": "rgb(0, 0, 255)"
         },
         "mode": "lines",
         "showlegend": false,
         "type": "scatter",
         "x": [
          -1.5,
          -1.25
         ],
         "y": [
          -3.311524726913236,
          -3.3937319341204435
         ]
        },
        {
         "line": {
          "color": "rgb(0, 0, 255)"
         },
         "mode": "lines",
         "showlegend": false,
         "type": "scatter",
         "x": [
          -1.5,
          -1.25
         ],
         "y": [
          3.3115247269132357,
          3.393731934120444
         ]
        },
        {
         "line": {
          "color": "rgb(0, 0, 255)"
         },
         "mode": "lines",
         "showlegend": false,
         "type": "scatter",
         "x": [
          -1.25,
          -1
         ],
         "y": [
          -3.3937319341204435,
          -3.4759391413276504
         ]
        },
        {
         "line": {
          "color": "rgb(0, 0, 255)"
         },
         "mode": "lines",
         "showlegend": false,
         "type": "scatter",
         "x": [
          -1.25,
          -1
         ],
         "y": [
          3.393731934120444,
          3.4759391413276504
         ]
        },
        {
         "line": {
          "color": "rgb(0, 0, 255)"
         },
         "mode": "lines",
         "showlegend": false,
         "type": "scatter",
         "x": [
          -0.9268286215717589,
          -0.75
         ],
         "y": [
          -3.5,
          -3.5581463485348577
         ]
        },
        {
         "line": {
          "color": "rgb(0, 0, 255)"
         },
         "mode": "lines",
         "showlegend": false,
         "type": "scatter",
         "x": [
          -1,
          -0.9268286215717589
         ],
         "y": [
          -3.4759391413276504,
          -3.5
         ]
        },
        {
         "line": {
          "color": "rgb(0, 0, 255)"
         },
         "mode": "lines",
         "showlegend": false,
         "type": "scatter",
         "x": [
          -0.9268286215717589,
          -1
         ],
         "y": [
          3.5,
          3.4759391413276504
         ]
        },
        {
         "line": {
          "color": "rgb(0, 0, 255)"
         },
         "mode": "lines",
         "showlegend": false,
         "type": "scatter",
         "x": [
          -0.9268286215717589,
          -0.75
         ],
         "y": [
          3.5,
          3.5581463485348586
         ]
        },
        {
         "line": {
          "color": "rgb(0, 0, 255)"
         },
         "mode": "lines",
         "showlegend": false,
         "type": "scatter",
         "x": [
          -0.75,
          -0.5
         ],
         "y": [
          -3.5581463485348577,
          -3.640353555742065
         ]
        },
        {
         "line": {
          "color": "rgb(0, 0, 255)"
         },
         "mode": "lines",
         "showlegend": false,
         "type": "scatter",
         "x": [
          -0.75,
          -0.5
         ],
         "y": [
          3.5581463485348586,
          3.640353555742065
         ]
        },
        {
         "line": {
          "color": "rgb(0, 0, 255)"
         },
         "mode": "lines",
         "showlegend": false,
         "type": "scatter",
         "x": [
          -0.5,
          -0.25
         ],
         "y": [
          -3.640353555742065,
          -3.7225607629492723
         ]
        },
        {
         "line": {
          "color": "rgb(0, 0, 255)"
         },
         "mode": "lines",
         "showlegend": false,
         "type": "scatter",
         "x": [
          -0.5,
          -0.25
         ],
         "y": [
          3.640353555742065,
          3.7225607629492714
         ]
        },
        {
         "line": {
          "color": "rgb(0, 0, 255)"
         },
         "mode": "lines",
         "showlegend": false,
         "type": "scatter",
         "x": [
          -0.1665546489690204,
          0
         ],
         "y": [
          -3.75,
          -3.8044609457838114
         ]
        },
        {
         "line": {
          "color": "rgb(0, 0, 255)"
         },
         "mode": "lines",
         "showlegend": false,
         "type": "scatter",
         "x": [
          -0.25,
          -0.1665546489690204
         ],
         "y": [
          -3.7225607629492723,
          -3.75
         ]
        },
        {
         "line": {
          "color": "rgb(0, 0, 255)"
         },
         "mode": "lines",
         "showlegend": false,
         "type": "scatter",
         "x": [
          -0.1665546489690195,
          -0.25
         ],
         "y": [
          3.75,
          3.7225607629492714
         ]
        },
        {
         "line": {
          "color": "rgb(0, 0, 255)"
         },
         "mode": "lines",
         "showlegend": false,
         "type": "scatter",
         "x": [
          -0.1665546489690195,
          0
         ],
         "y": [
          3.75,
          3.804460945783811
         ]
        },
        {
         "line": {
          "color": "rgb(0, 0, 255)"
         },
         "mode": "lines",
         "showlegend": false,
         "type": "scatter",
         "x": [
          0,
          0.25
         ],
         "y": [
          -3.8044609457838114,
          -3.867205534626966
         ]
        },
        {
         "line": {
          "color": "rgb(0, 0, 255)"
         },
         "mode": "lines",
         "showlegend": false,
         "type": "scatter",
         "x": [
          0,
          0.25
         ],
         "y": [
          3.804460945783811,
          3.867205534626965
         ]
        },
        {
         "line": {
          "color": "rgb(0, 0, 255)"
         },
         "mode": "lines",
         "showlegend": false,
         "type": "scatter",
         "x": [
          0.25,
          0.5
         ],
         "y": [
          -3.867205534626966,
          -3.8969609371175924
         ]
        },
        {
         "line": {
          "color": "rgb(0, 0, 255)"
         },
         "mode": "lines",
         "showlegend": false,
         "type": "scatter",
         "x": [
          0.25,
          0.5
         ],
         "y": [
          3.867205534626965,
          3.8969609371175924
         ]
        },
        {
         "line": {
          "color": "rgb(0, 0, 255)"
         },
         "mode": "lines",
         "showlegend": false,
         "type": "scatter",
         "x": [
          0.5,
          0.75
         ],
         "y": [
          -3.8969609371175924,
          -3.895074833520447
         ]
        },
        {
         "line": {
          "color": "rgb(0, 0, 255)"
         },
         "mode": "lines",
         "showlegend": false,
         "type": "scatter",
         "x": [
          0.5,
          0.75
         ],
         "y": [
          3.8969609371175924,
          3.8950748335204466
         ]
        },
        {
         "line": {
          "color": "rgb(0, 0, 255)"
         },
         "mode": "lines",
         "showlegend": false,
         "type": "scatter",
         "x": [
          0.75,
          1
         ],
         "y": [
          -3.895074833520447,
          -3.8614582109087987
         ]
        },
        {
         "line": {
          "color": "rgb(0, 0, 255)"
         },
         "mode": "lines",
         "showlegend": false,
         "type": "scatter",
         "x": [
          0.75,
          1
         ],
         "y": [
          3.8950748335204466,
          3.8614582109087987
         ]
        },
        {
         "line": {
          "color": "rgb(0, 0, 255)"
         },
         "mode": "lines",
         "showlegend": false,
         "type": "scatter",
         "x": [
          1,
          1.25
         ],
         "y": [
          -3.8614582109087987,
          -3.7946045793959624
         ]
        },
        {
         "line": {
          "color": "rgb(0, 0, 255)"
         },
         "mode": "lines",
         "showlegend": false,
         "type": "scatter",
         "x": [
          1,
          1.25
         ],
         "y": [
          3.8614582109087987,
          3.794604579395962
         ]
        },
        {
         "line": {
          "color": "rgb(0, 0, 255)"
         },
         "mode": "lines",
         "showlegend": false,
         "type": "scatter",
         "x": [
          1.25,
          1.3612067737769626
         ],
         "y": [
          -3.7946045793959624,
          -3.75
         ]
        },
        {
         "line": {
          "color": "rgb(0, 0, 255)"
         },
         "mode": "lines",
         "showlegend": false,
         "type": "scatter",
         "x": [
          1.3612067737769626,
          1.5
         ],
         "y": [
          -3.75,
          -3.6903927720180945
         ]
        },
        {
         "line": {
          "color": "rgb(0, 0, 255)"
         },
         "mode": "lines",
         "showlegend": false,
         "type": "scatter",
         "x": [
          1.3612067737769626,
          1.5
         ],
         "y": [
          3.75,
          3.690392772018095
         ]
        },
        {
         "line": {
          "color": "rgb(0, 0, 255)"
         },
         "mode": "lines",
         "showlegend": false,
         "type": "scatter",
         "x": [
          1.25,
          1.3612067737769626
         ],
         "y": [
          3.794604579395962,
          3.75
         ]
        },
        {
         "line": {
          "color": "rgb(0, 0, 255)"
         },
         "mode": "lines",
         "showlegend": false,
         "type": "scatter",
         "x": [
          1.5,
          1.75
         ],
         "y": [
          -3.6903927720180945,
          -3.542471864925618
         ]
        },
        {
         "line": {
          "color": "rgb(0, 0, 255)"
         },
         "mode": "lines",
         "showlegend": false,
         "type": "scatter",
         "x": [
          1.5,
          1.75
         ],
         "y": [
          3.690392772018095,
          3.542471864925618
         ]
        },
        {
         "line": {
          "color": "rgb(0, 0, 255)"
         },
         "mode": "lines",
         "showlegend": false,
         "type": "scatter",
         "x": [
          1.75,
          1.807166170321958
         ],
         "y": [
          -3.542471864925618,
          -3.5
         ]
        },
        {
         "line": {
          "color": "rgb(0, 0, 255)"
         },
         "mode": "lines",
         "showlegend": false,
         "type": "scatter",
         "x": [
          1.807166170321958,
          2
         ],
         "y": [
          -3.5,
          -3.3357100700357787
         ]
        },
        {
         "line": {
          "color": "rgb(0, 0, 255)"
         },
         "mode": "lines",
         "showlegend": false,
         "type": "scatter",
         "x": [
          1.807166170321958,
          2
         ],
         "y": [
          3.5,
          3.3357100700357787
         ]
        },
        {
         "line": {
          "color": "rgb(0, 0, 255)"
         },
         "mode": "lines",
         "showlegend": false,
         "type": "scatter",
         "x": [
          1.75,
          1.807166170321958
         ],
         "y": [
          3.542471864925618,
          3.5
         ]
        },
        {
         "line": {
          "color": "rgb(0, 0, 255)"
         },
         "mode": "lines",
         "showlegend": false,
         "type": "scatter",
         "x": [
          2,
          2.083544033715979
         ],
         "y": [
          -3.3357100700357787,
          -3.25
         ]
        },
        {
         "line": {
          "color": "rgb(0, 0, 255)"
         },
         "mode": "lines",
         "showlegend": false,
         "type": "scatter",
         "x": [
          2.083544033715979,
          2.25
         ],
         "y": [
          -3.25,
          -3.044519104683473
         ]
        },
        {
         "line": {
          "color": "rgb(0, 0, 255)"
         },
         "mode": "lines",
         "showlegend": false,
         "type": "scatter",
         "x": [
          2.083544033715979,
          2.25
         ],
         "y": [
          3.25,
          3.0445191046834736
         ]
        },
        {
         "line": {
          "color": "rgb(0, 0, 255)"
         },
         "mode": "lines",
         "showlegend": false,
         "type": "scatter",
         "x": [
          2,
          2.083544033715979
         ],
         "y": [
          3.3357100700357787,
          3.25
         ]
        },
        {
         "line": {
          "color": "rgb(0, 0, 255)"
         },
         "mode": "lines",
         "showlegend": false,
         "type": "scatter",
         "x": [
          2.25,
          2.2833331780779336
         ],
         "y": [
          -3.044519104683473,
          -3
         ]
        },
        {
         "line": {
          "color": "rgb(0, 0, 255)"
         },
         "mode": "lines",
         "showlegend": false,
         "type": "scatter",
         "x": [
          2.2833331780779336,
          2.4662279149200383
         ],
         "y": [
          -3,
          -2.75
         ]
        },
        {
         "line": {
          "color": "rgb(0, 0, 255)"
         },
         "mode": "lines",
         "showlegend": false,
         "type": "scatter",
         "x": [
          2.4662279149200383,
          2.5
         ],
         "y": [
          -2.75,
          -2.703836718236024
         ]
        },
        {
         "line": {
          "color": "rgb(0, 0, 255)"
         },
         "mode": "lines",
         "showlegend": false,
         "type": "scatter",
         "x": [
          2.4662279149200383,
          2.5
         ],
         "y": [
          2.75,
          2.7038367182360243
         ]
        },
        {
         "line": {
          "color": "rgb(0, 0, 255)"
         },
         "mode": "lines",
         "showlegend": false,
         "type": "scatter",
         "x": [
          2.4662279149200383,
          2.2833331780779336
         ],
         "y": [
          2.75,
          3
         ]
        },
        {
         "line": {
          "color": "rgb(0, 0, 255)"
         },
         "mode": "lines",
         "showlegend": false,
         "type": "scatter",
         "x": [
          2.25,
          2.2833331780779336
         ],
         "y": [
          3.0445191046834736,
          3
         ]
        },
        {
         "line": {
          "color": "rgb(0, 0, 255)"
         },
         "mode": "lines",
         "showlegend": false,
         "type": "scatter",
         "x": [
          2.5,
          2.649122651762143
         ],
         "y": [
          -2.703836718236024,
          -2.5
         ]
        },
        {
         "line": {
          "color": "rgb(0, 0, 255)"
         },
         "mode": "lines",
         "showlegend": false,
         "type": "scatter",
         "x": [
          2.649122651762143,
          2.75
         ],
         "y": [
          -2.5,
          -2.362110099530988
         ]
        },
        {
         "line": {
          "color": "rgb(0, 0, 255)"
         },
         "mode": "lines",
         "showlegend": false,
         "type": "scatter",
         "x": [
          2.649122651762143,
          2.75
         ],
         "y": [
          2.5,
          2.3621100995309874
         ]
        },
        {
         "line": {
          "color": "rgb(0, 0, 255)"
         },
         "mode": "lines",
         "showlegend": false,
         "type": "scatter",
         "x": [
          2.5,
          2.649122651762143
         ],
         "y": [
          2.7038367182360243,
          2.5
         ]
        },
        {
         "line": {
          "color": "rgb(0, 0, 255)"
         },
         "mode": "lines",
         "showlegend": false,
         "type": "scatter",
         "x": [
          2.75,
          2.8320173886042497
         ],
         "y": [
          -2.362110099530988,
          -2.25
         ]
        },
        {
         "line": {
          "color": "rgb(0, 0, 255)"
         },
         "mode": "lines",
         "showlegend": false,
         "type": "scatter",
         "x": [
          2.8320173886042497,
          3
         ],
         "y": [
          -2.25,
          -2.020383480825952
         ]
        },
        {
         "line": {
          "color": "rgb(0, 0, 255)"
         },
         "mode": "lines",
         "showlegend": false,
         "type": "scatter",
         "x": [
          2.8320173886042497,
          3
         ],
         "y": [
          2.25,
          2.020383480825952
         ]
        },
        {
         "line": {
          "color": "rgb(0, 0, 255)"
         },
         "mode": "lines",
         "showlegend": false,
         "type": "scatter",
         "x": [
          2.75,
          2.8320173886042497
         ],
         "y": [
          2.3621100995309874,
          2.25
         ]
        },
        {
         "line": {
          "color": "rgb(0, 0, 255)"
         },
         "mode": "lines",
         "showlegend": false,
         "type": "scatter",
         "x": [
          3,
          3.0149121254463545
         ],
         "y": [
          -2.020383480825952,
          -2
         ]
        },
        {
         "line": {
          "color": "rgb(0, 0, 255)"
         },
         "mode": "lines",
         "showlegend": false,
         "type": "scatter",
         "x": [
          3.0149121254463545,
          3.1978068622884592
         ],
         "y": [
          -2,
          -1.75
         ]
        },
        {
         "line": {
          "color": "rgb(0, 0, 255)"
         },
         "mode": "lines",
         "showlegend": false,
         "type": "scatter",
         "x": [
          3.1978068622884592,
          3.25
         ],
         "y": [
          -1.75,
          -1.6786568621209161
         ]
        },
        {
         "line": {
          "color": "rgb(0, 0, 255)"
         },
         "mode": "lines",
         "showlegend": false,
         "type": "scatter",
         "x": [
          3.1978068622884592,
          3.25
         ],
         "y": [
          1.75,
          1.6786568621209161
         ]
        },
        {
         "line": {
          "color": "rgb(0, 0, 255)"
         },
         "mode": "lines",
         "showlegend": false,
         "type": "scatter",
         "x": [
          3.1978068622884592,
          3.0149121254463545
         ],
         "y": [
          1.75,
          2
         ]
        },
        {
         "line": {
          "color": "rgb(0, 0, 255)"
         },
         "mode": "lines",
         "showlegend": false,
         "type": "scatter",
         "x": [
          3,
          3.0149121254463545
         ],
         "y": [
          2.020383480825952,
          2
         ]
        },
        {
         "line": {
          "color": "rgb(0, 0, 255)"
         },
         "mode": "lines",
         "showlegend": false,
         "type": "scatter",
         "x": [
          3.25,
          3.380701599130564
         ],
         "y": [
          -1.6786568621209161,
          -1.5
         ]
        },
        {
         "line": {
          "color": "rgb(0, 0, 255)"
         },
         "mode": "lines",
         "showlegend": false,
         "type": "scatter",
         "x": [
          3.380701599130564,
          3.5
         ],
         "y": [
          -1.5,
          -1.33693024341588
         ]
        },
        {
         "line": {
          "color": "rgb(0, 0, 255)"
         },
         "mode": "lines",
         "showlegend": false,
         "type": "scatter",
         "x": [
          3.380701599130564,
          3.5
         ],
         "y": [
          1.5,
          1.33693024341588
         ]
        },
        {
         "line": {
          "color": "rgb(0, 0, 255)"
         },
         "mode": "lines",
         "showlegend": false,
         "type": "scatter",
         "x": [
          3.25,
          3.380701599130564
         ],
         "y": [
          1.6786568621209161,
          1.5
         ]
        },
        {
         "line": {
          "color": "rgb(0, 0, 255)"
         },
         "mode": "lines",
         "showlegend": false,
         "type": "scatter",
         "x": [
          3.5,
          3.5635526475173833
         ],
         "y": [
          -1.33693024341588,
          -1.25
         ]
        },
        {
         "line": {
          "color": "rgb(0, 0, 255)"
         },
         "mode": "lines",
         "showlegend": false,
         "type": "scatter",
         "x": [
          3.5635526475173833,
          3.7317137495926485
         ],
         "y": [
          -1.25,
          -1
         ]
        },
        {
         "line": {
          "color": "rgb(0, 0, 255)"
         },
         "mode": "lines",
         "showlegend": false,
         "type": "scatter",
         "x": [
          3.7317137495926485,
          3.75
         ],
         "y": [
          -1,
          -0.9651400393308807
         ]
        },
        {
         "line": {
          "color": "rgb(0, 0, 255)"
         },
         "mode": "lines",
         "showlegend": false,
         "type": "scatter",
         "x": [
          3.7317137495926485,
          3.75
         ],
         "y": [
          1,
          0.9651400393308807
         ]
        },
        {
         "line": {
          "color": "rgb(0, 0, 255)"
         },
         "mode": "lines",
         "showlegend": false,
         "type": "scatter",
         "x": [
          3.7317137495926485,
          3.5635526475173833
         ],
         "y": [
          1,
          1.25
         ]
        },
        {
         "line": {
          "color": "rgb(0, 0, 255)"
         },
         "mode": "lines",
         "showlegend": false,
         "type": "scatter",
         "x": [
          3.5,
          3.5635526475173833
         ],
         "y": [
          1.33693024341588,
          1.25
         ]
        },
        {
         "line": {
          "color": "rgb(0, 0, 255)"
         },
         "mode": "lines",
         "showlegend": false,
         "type": "scatter",
         "x": [
          3.75,
          3.8534836811576962
         ],
         "y": [
          -0.9651400393308807,
          -0.75
         ]
        },
        {
         "line": {
          "color": "rgb(0, 0, 255)"
         },
         "mode": "lines",
         "showlegend": false,
         "type": "scatter",
         "x": [
          3.8534836811576962,
          3.936287417415203
         ],
         "y": [
          -0.75,
          -0.5
         ]
        },
        {
         "line": {
          "color": "rgb(0, 0, 255)"
         },
         "mode": "lines",
         "showlegend": false,
         "type": "scatter",
         "x": [
          3.936287417415203,
          3.984297220439256
         ],
         "y": [
          -0.5,
          -0.25
         ]
        },
        {
         "line": {
          "color": "rgb(0, 0, 255)"
         },
         "mode": "lines",
         "showlegend": false,
         "type": "scatter",
         "x": [
          3.984297220439256,
          4
         ],
         "y": [
          -0.25,
          0
         ]
        },
        {
         "line": {
          "color": "rgb(0, 0, 255)"
         },
         "mode": "lines",
         "showlegend": false,
         "type": "scatter",
         "x": [
          4,
          3.984297220439256
         ],
         "y": [
          0,
          0.25
         ]
        },
        {
         "line": {
          "color": "rgb(0, 0, 255)"
         },
         "mode": "lines",
         "showlegend": false,
         "type": "scatter",
         "x": [
          3.984297220439256,
          3.936287417415203
         ],
         "y": [
          0.25,
          0.5
         ]
        },
        {
         "line": {
          "color": "rgb(0, 0, 255)"
         },
         "mode": "lines",
         "showlegend": false,
         "type": "scatter",
         "x": [
          3.936287417415203,
          3.8534836811576962
         ],
         "y": [
          0.5,
          0.75
         ]
        },
        {
         "line": {
          "color": "rgb(0, 0, 255)"
         },
         "mode": "lines",
         "showlegend": false,
         "type": "scatter",
         "x": [
          3.75,
          3.8534836811576962
         ],
         "y": [
          0.9651400393308807,
          0.75
         ]
        },
        {
         "line": {
          "color": "rgb(0, 0, 255)"
         },
         "mode": "lines",
         "showlegend": false,
         "type": "scatter",
         "x": [
          -4.553335706391135,
          -4.5
         ],
         "y": [
          -1.75,
          -1.971175518591278
         ]
        },
        {
         "line": {
          "color": "rgb(0, 0, 255)"
         },
         "mode": "lines",
         "showlegend": false,
         "type": "scatter",
         "x": [
          -4.553335706391135,
          -4.591765888899609
         ],
         "y": [
          -1.75,
          -1.5
         ]
        },
        {
         "line": {
          "color": "rgb(0, 0, 255)"
         },
         "mode": "lines",
         "showlegend": false,
         "type": "scatter",
         "x": [
          -4.591765888899609,
          -4.608931337990675
         ],
         "y": [
          -1.5,
          -1.25
         ]
        },
        {
         "line": {
          "color": "rgb(0, 0, 255)"
         },
         "mode": "lines",
         "showlegend": false,
         "type": "scatter",
         "x": [
          -4.608931337990675,
          -4.61
         ],
         "y": [
          -1.25,
          -1
         ]
        },
        {
         "line": {
          "color": "rgb(0, 0, 255)"
         },
         "mode": "lines",
         "showlegend": false,
         "type": "scatter",
         "x": [
          -4.61,
          -4.61
         ],
         "y": [
          -1,
          -0.75
         ]
        },
        {
         "line": {
          "color": "rgb(0, 0, 255)"
         },
         "mode": "lines",
         "showlegend": false,
         "type": "scatter",
         "x": [
          -4.61,
          -4.61
         ],
         "y": [
          -0.75,
          -0.5
         ]
        },
        {
         "line": {
          "color": "rgb(0, 0, 255)"
         },
         "mode": "lines",
         "showlegend": false,
         "type": "scatter",
         "x": [
          -4.61,
          -4.61
         ],
         "y": [
          -0.5,
          -0.25
         ]
        },
        {
         "line": {
          "color": "rgb(0, 0, 255)"
         },
         "mode": "lines",
         "showlegend": false,
         "type": "scatter",
         "x": [
          -4.61,
          -4.61
         ],
         "y": [
          -0.25,
          0
         ]
        },
        {
         "line": {
          "color": "rgb(0, 0, 255)"
         },
         "mode": "lines",
         "showlegend": false,
         "type": "scatter",
         "x": [
          -4.61,
          -4.61
         ],
         "y": [
          0,
          0.25
         ]
        },
        {
         "line": {
          "color": "rgb(0, 0, 255)"
         },
         "mode": "lines",
         "showlegend": false,
         "type": "scatter",
         "x": [
          -4.61,
          -4.61
         ],
         "y": [
          0.25,
          0.5
         ]
        },
        {
         "line": {
          "color": "rgb(0, 0, 255)"
         },
         "mode": "lines",
         "showlegend": false,
         "type": "scatter",
         "x": [
          -4.61,
          -4.61
         ],
         "y": [
          0.5,
          0.75
         ]
        },
        {
         "line": {
          "color": "rgb(0, 0, 255)"
         },
         "mode": "lines",
         "showlegend": false,
         "type": "scatter",
         "x": [
          -4.61,
          -4.61
         ],
         "y": [
          0.75,
          1
         ]
        },
        {
         "line": {
          "color": "rgb(0, 0, 255)"
         },
         "mode": "lines",
         "showlegend": false,
         "type": "scatter",
         "x": [
          -4.61,
          -4.608931337990675
         ],
         "y": [
          1,
          1.25
         ]
        },
        {
         "line": {
          "color": "rgb(0, 0, 255)"
         },
         "mode": "lines",
         "showlegend": false,
         "type": "scatter",
         "x": [
          -4.608931337990675,
          -4.591765888899609
         ],
         "y": [
          1.25,
          1.5
         ]
        },
        {
         "line": {
          "color": "rgb(0, 0, 255)"
         },
         "mode": "lines",
         "showlegend": false,
         "type": "scatter",
         "x": [
          -4.591765888899609,
          -4.553335706391135
         ],
         "y": [
          1.5,
          1.75
         ]
        },
        {
         "line": {
          "color": "rgb(0, 0, 255)"
         },
         "mode": "lines",
         "showlegend": false,
         "type": "scatter",
         "x": [
          -4.553335706391135,
          -4.5
         ],
         "y": [
          1.75,
          1.971175518591279
         ]
        },
        {
         "line": {
          "color": "rgb(0, 0, 255)"
         },
         "mode": "lines",
         "showlegend": false,
         "type": "scatter",
         "x": [
          -4.298727338818247,
          -4.25
         ],
         "y": [
          -2.5,
          -2.591019550370324
         ]
        },
        {
         "line": {
          "color": "rgb(0, 0, 255)"
         },
         "mode": "lines",
         "showlegend": false,
         "type": "scatter",
         "x": [
          -4.298727338818247,
          -4.408513431158737
         ],
         "y": [
          -2.5,
          -2.25
         ]
        },
        {
         "line": {
          "color": "rgb(0, 0, 255)"
         },
         "mode": "lines",
         "showlegend": false,
         "type": "scatter",
         "x": [
          -4.408513431158737,
          -4.492872989269536
         ],
         "y": [
          -2.25,
          -2
         ]
        },
        {
         "line": {
          "color": "rgb(0, 0, 255)"
         },
         "mode": "lines",
         "showlegend": false,
         "type": "scatter",
         "x": [
          -4.5,
          -4.492872989269536
         ],
         "y": [
          -1.971175518591278,
          -2
         ]
        },
        {
         "line": {
          "color": "rgb(0, 0, 255)"
         },
         "mode": "lines",
         "showlegend": false,
         "type": "scatter",
         "x": [
          -4.492872989269536,
          -4.5
         ],
         "y": [
          2,
          1.971175518591279
         ]
        },
        {
         "line": {
          "color": "rgb(0, 0, 255)"
         },
         "mode": "lines",
         "showlegend": false,
         "type": "scatter",
         "x": [
          -4.492872989269536,
          -4.408513431158737
         ],
         "y": [
          2,
          2.25
         ]
        },
        {
         "line": {
          "color": "rgb(0, 0, 255)"
         },
         "mode": "lines",
         "showlegend": false,
         "type": "scatter",
         "x": [
          -4.408513431158737,
          -4.298727338818247
         ],
         "y": [
          2.25,
          2.5
         ]
        },
        {
         "line": {
          "color": "rgb(0, 0, 255)"
         },
         "mode": "lines",
         "showlegend": false,
         "type": "scatter",
         "x": [
          -4.298727338818247,
          -4.25
         ],
         "y": [
          2.5,
          2.5910195503703246
         ]
        },
        {
         "line": {
          "color": "rgb(0, 0, 255)"
         },
         "mode": "lines",
         "showlegend": false,
         "type": "scatter",
         "x": [
          -4.159413320293748,
          -4
         ],
         "y": [
          -2.75,
          -2.9825131070739257
         ]
        },
        {
         "line": {
          "color": "rgb(0, 0, 255)"
         },
         "mode": "lines",
         "showlegend": false,
         "type": "scatter",
         "x": [
          -4.25,
          -4.159413320293748
         ],
         "y": [
          -2.591019550370324,
          -2.75
         ]
        },
        {
         "line": {
          "color": "rgb(0, 0, 255)"
         },
         "mode": "lines",
         "showlegend": false,
         "type": "scatter",
         "x": [
          -4.159413320293748,
          -4.25
         ],
         "y": [
          2.75,
          2.5910195503703246
         ]
        },
        {
         "line": {
          "color": "rgb(0, 0, 255)"
         },
         "mode": "lines",
         "showlegend": false,
         "type": "scatter",
         "x": [
          -4.159413320293748,
          -4
         ],
         "y": [
          2.75,
          2.9825131070739257
         ]
        },
        {
         "line": {
          "color": "rgb(0, 0, 255)"
         },
         "mode": "lines",
         "showlegend": false,
         "type": "scatter",
         "x": [
          -3.771334337915584,
          -3.75
         ],
         "y": [
          -3.25,
          -3.2718979885588384
         ]
        },
        {
         "line": {
          "color": "rgb(0, 0, 255)"
         },
         "mode": "lines",
         "showlegend": false,
         "type": "scatter",
         "x": [
          -3.771334337915584,
          -3.9869470091372285
         ],
         "y": [
          -3.25,
          -3
         ]
        },
        {
         "line": {
          "color": "rgb(0, 0, 255)"
         },
         "mode": "lines",
         "showlegend": false,
         "type": "scatter",
         "x": [
          -4,
          -3.9869470091372285
         ],
         "y": [
          -2.9825131070739257,
          -3
         ]
        },
        {
         "line": {
          "color": "rgb(0, 0, 255)"
         },
         "mode": "lines",
         "showlegend": false,
         "type": "scatter",
         "x": [
          -3.9869470091372285,
          -4
         ],
         "y": [
          3,
          2.9825131070739257
         ]
        },
        {
         "line": {
          "color": "rgb(0, 0, 255)"
         },
         "mode": "lines",
         "showlegend": false,
         "type": "scatter",
         "x": [
          -3.9869470091372285,
          -3.771334337915584
         ],
         "y": [
          3,
          3.25
         ]
        },
        {
         "line": {
          "color": "rgb(0, 0, 255)"
         },
         "mode": "lines",
         "showlegend": false,
         "type": "scatter",
         "x": [
          -3.771334337915584,
          -3.75
         ],
         "y": [
          3.25,
          3.2718979885588393
         ]
        },
        {
         "line": {
          "color": "rgb(0, 0, 255)"
         },
         "mode": "lines",
         "showlegend": false,
         "type": "scatter",
         "x": [
          -3.75,
          -3.5
         ],
         "y": [
          -3.2718979885588384,
          -3.4997804069433314
         ]
        },
        {
         "line": {
          "color": "rgb(0, 0, 255)"
         },
         "mode": "lines",
         "showlegend": false,
         "type": "scatter",
         "x": [
          -3.75,
          -3.5
         ],
         "y": [
          3.2718979885588393,
          3.499780406943332
         ]
        },
        {
         "line": {
          "color": "rgb(0, 0, 255)"
         },
         "mode": "lines",
         "showlegend": false,
         "type": "scatter",
         "x": [
          -3.4997238289733175,
          -3.25
         ],
         "y": [
          -3.5,
          -3.681284830079312
         ]
        },
        {
         "line": {
          "color": "rgb(0, 0, 255)"
         },
         "mode": "lines",
         "showlegend": false,
         "type": "scatter",
         "x": [
          -3.5,
          -3.4997238289733175
         ],
         "y": [
          -3.4997804069433314,
          -3.5
         ]
        },
        {
         "line": {
          "color": "rgb(0, 0, 255)"
         },
         "mode": "lines",
         "showlegend": false,
         "type": "scatter",
         "x": [
          -3.4997238289733175,
          -3.5
         ],
         "y": [
          3.5,
          3.499780406943332
         ]
        },
        {
         "line": {
          "color": "rgb(0, 0, 255)"
         },
         "mode": "lines",
         "showlegend": false,
         "type": "scatter",
         "x": [
          -3.4997238289733175,
          -3.25
         ],
         "y": [
          3.5,
          3.6812848300793117
         ]
        },
        {
         "line": {
          "color": "rgb(0, 0, 255)"
         },
         "mode": "lines",
         "showlegend": false,
         "type": "scatter",
         "x": [
          -3.1371166697295814,
          -3
         ],
         "y": [
          -3.75,
          -3.8280243098616857
         ]
        },
        {
         "line": {
          "color": "rgb(0, 0, 255)"
         },
         "mode": "lines",
         "showlegend": false,
         "type": "scatter",
         "x": [
          -3.25,
          -3.1371166697295814
         ],
         "y": [
          -3.681284830079312,
          -3.75
         ]
        },
        {
         "line": {
          "color": "rgb(0, 0, 255)"
         },
         "mode": "lines",
         "showlegend": false,
         "type": "scatter",
         "x": [
          -3.1371166697295814,
          -3.25
         ],
         "y": [
          3.75,
          3.6812848300793117
         ]
        },
        {
         "line": {
          "color": "rgb(0, 0, 255)"
         },
         "mode": "lines",
         "showlegend": false,
         "type": "scatter",
         "x": [
          -3.1371166697295814,
          -3
         ],
         "y": [
          3.75,
          3.8280243098616857
         ]
        },
        {
         "line": {
          "color": "rgb(0, 0, 255)"
         },
         "mode": "lines",
         "showlegend": false,
         "type": "scatter",
         "x": [
          -3,
          -2.75
         ],
         "y": [
          -3.8280243098616857,
          -3.944666262790504
         ]
        },
        {
         "line": {
          "color": "rgb(0, 0, 255)"
         },
         "mode": "lines",
         "showlegend": false,
         "type": "scatter",
         "x": [
          -3,
          -2.75
         ],
         "y": [
          3.8280243098616857,
          3.944666262790504
         ]
        },
        {
         "line": {
          "color": "rgb(0, 0, 255)"
         },
         "mode": "lines",
         "showlegend": false,
         "type": "scatter",
         "x": [
          -2.599314840829201,
          -2.5
         ],
         "y": [
          -4,
          -4.03537267595544
         ]
        },
        {
         "line": {
          "color": "rgb(0, 0, 255)"
         },
         "mode": "lines",
         "showlegend": false,
         "type": "scatter",
         "x": [
          -2.75,
          -2.599314840829201
         ],
         "y": [
          -3.944666262790504,
          -4
         ]
        },
        {
         "line": {
          "color": "rgb(0, 0, 255)"
         },
         "mode": "lines",
         "showlegend": false,
         "type": "scatter",
         "x": [
          -2.599314840829201,
          -2.75
         ],
         "y": [
          4,
          3.944666262790504
         ]
        },
        {
         "line": {
          "color": "rgb(0, 0, 255)"
         },
         "mode": "lines",
         "showlegend": false,
         "type": "scatter",
         "x": [
          -2.599314840829201,
          -2.5
         ],
         "y": [
          4,
          4.03537267595544
         ]
        },
        {
         "line": {
          "color": "rgb(0, 0, 255)"
         },
         "mode": "lines",
         "showlegend": false,
         "type": "scatter",
         "x": [
          -2.5,
          -2.25
         ],
         "y": [
          -4.03537267595544,
          -4.117579883162647
         ]
        },
        {
         "line": {
          "color": "rgb(0, 0, 255)"
         },
         "mode": "lines",
         "showlegend": false,
         "type": "scatter",
         "x": [
          -2.5,
          -2.25
         ],
         "y": [
          4.03537267595544,
          4.117579883162648
         ]
        },
        {
         "line": {
          "color": "rgb(0, 0, 255)"
         },
         "mode": "lines",
         "showlegend": false,
         "type": "scatter",
         "x": [
          -2.25,
          -2
         ],
         "y": [
          -4.117579883162647,
          -4.199787090369854
         ]
        },
        {
         "line": {
          "color": "rgb(0, 0, 255)"
         },
         "mode": "lines",
         "showlegend": false,
         "type": "scatter",
         "x": [
          -2.25,
          -2
         ],
         "y": [
          4.117579883162648,
          4.199787090369854
         ]
        },
        {
         "line": {
          "color": "rgb(0, 0, 255)"
         },
         "mode": "lines",
         "showlegend": false,
         "type": "scatter",
         "x": [
          -1.8472977268781872,
          -1.75
         ],
         "y": [
          -4.25,
          -4.281994297577062
         ]
        },
        {
         "line": {
          "color": "rgb(0, 0, 255)"
         },
         "mode": "lines",
         "showlegend": false,
         "type": "scatter",
         "x": [
          -2,
          -1.8472977268781872
         ],
         "y": [
          -4.199787090369854,
          -4.25
         ]
        },
        {
         "line": {
          "color": "rgb(0, 0, 255)"
         },
         "mode": "lines",
         "showlegend": false,
         "type": "scatter",
         "x": [
          -1.8472977268781872,
          -2
         ],
         "y": [
          4.25,
          4.199787090369854
         ]
        },
        {
         "line": {
          "color": "rgb(0, 0, 255)"
         },
         "mode": "lines",
         "showlegend": false,
         "type": "scatter",
         "x": [
          -1.8472977268781872,
          -1.75
         ],
         "y": [
          4.25,
          4.281994297577061
         ]
        },
        {
         "line": {
          "color": "rgb(0, 0, 255)"
         },
         "mode": "lines",
         "showlegend": false,
         "type": "scatter",
         "x": [
          -1.75,
          -1.5
         ],
         "y": [
          -4.281994297577062,
          -4.364201504784269
         ]
        },
        {
         "line": {
          "color": "rgb(0, 0, 255)"
         },
         "mode": "lines",
         "showlegend": false,
         "type": "scatter",
         "x": [
          -1.75,
          -1.5
         ],
         "y": [
          4.281994297577061,
          4.364201504784269
         ]
        },
        {
         "line": {
          "color": "rgb(0, 0, 255)"
         },
         "mode": "lines",
         "showlegend": false,
         "type": "scatter",
         "x": [
          -1.5,
          -1.25
         ],
         "y": [
          -4.364201504784269,
          -4.4464087119914755
         ]
        },
        {
         "line": {
          "color": "rgb(0, 0, 255)"
         },
         "mode": "lines",
         "showlegend": false,
         "type": "scatter",
         "x": [
          -1.5,
          -1.25
         ],
         "y": [
          4.364201504784269,
          4.4464087119914755
         ]
        },
        {
         "line": {
          "color": "rgb(0, 0, 255)"
         },
         "mode": "lines",
         "showlegend": false,
         "type": "scatter",
         "x": [
          -1.0870237542754468,
          -1
         ],
         "y": [
          -4.5,
          -4.528615919198683
         ]
        },
        {
         "line": {
          "color": "rgb(0, 0, 255)"
         },
         "mode": "lines",
         "showlegend": false,
         "type": "scatter",
         "x": [
          -1.25,
          -1.0870237542754468
         ],
         "y": [
          -4.4464087119914755,
          -4.5
         ]
        },
        {
         "line": {
          "color": "rgb(0, 0, 255)"
         },
         "mode": "lines",
         "showlegend": false,
         "type": "scatter",
         "x": [
          -1.0870237542754468,
          -1.25
         ],
         "y": [
          4.5,
          4.4464087119914755
         ]
        },
        {
         "line": {
          "color": "rgb(0, 0, 255)"
         },
         "mode": "lines",
         "showlegend": false,
         "type": "scatter",
         "x": [
          -1.0870237542754468,
          -1
         ],
         "y": [
          4.5,
          4.528615919198684
         ]
        },
        {
         "line": {
          "color": "rgb(0, 0, 255)"
         },
         "mode": "lines",
         "showlegend": false,
         "type": "scatter",
         "x": [
          -1,
          -0.75
         ],
         "y": [
          -4.528615919198683,
          -4.61082312640589
         ]
        },
        {
         "line": {
          "color": "rgb(0, 0, 255)"
         },
         "mode": "lines",
         "showlegend": false,
         "type": "scatter",
         "x": [
          -1,
          -0.75
         ],
         "y": [
          4.528615919198684,
          4.61082312640589
         ]
        },
        {
         "line": {
          "color": "rgb(0, 0, 255)"
         },
         "mode": "lines",
         "showlegend": false,
         "type": "scatter",
         "x": [
          -0.75,
          -0.5
         ],
         "y": [
          -4.61082312640589,
          -4.693030333613098
         ]
        },
        {
         "line": {
          "color": "rgb(0, 0, 255)"
         },
         "mode": "lines",
         "showlegend": false,
         "type": "scatter",
         "x": [
          -0.75,
          -0.5
         ],
         "y": [
          4.61082312640589,
          4.693030333613098
         ]
        },
        {
         "line": {
          "color": "rgb(0, 0, 255)"
         },
         "mode": "lines",
         "showlegend": false,
         "type": "scatter",
         "x": [
          -0.32472399443364,
          -0.25
         ],
         "y": [
          -4.75,
          -4.774018229909625
         ]
        },
        {
         "line": {
          "color": "rgb(0, 0, 255)"
         },
         "mode": "lines",
         "showlegend": false,
         "type": "scatter",
         "x": [
          -0.5,
          -0.32472399443364
         ],
         "y": [
          -4.693030333613098,
          -4.75
         ]
        },
        {
         "line": {
          "color": "rgb(0, 0, 255)"
         },
         "mode": "lines",
         "showlegend": false,
         "type": "scatter",
         "x": [
          -0.32472399443364,
          -0.5
         ],
         "y": [
          4.75,
          4.693030333613098
         ]
        },
        {
         "line": {
          "color": "rgb(0, 0, 255)"
         },
         "mode": "lines",
         "showlegend": false,
         "type": "scatter",
         "x": [
          -0.32472399443364,
          -0.25
         ],
         "y": [
          4.75,
          4.774018229909625
         ]
        },
        {
         "line": {
          "color": "rgb(0, 0, 255)"
         },
         "mode": "lines",
         "showlegend": false,
         "type": "scatter",
         "x": [
          -0.25,
          0
         ],
         "y": [
          -4.774018229909625,
          -4.837231045450126
         ]
        },
        {
         "line": {
          "color": "rgb(0, 0, 255)"
         },
         "mode": "lines",
         "showlegend": false,
         "type": "scatter",
         "x": [
          -0.25,
          0
         ],
         "y": [
          4.774018229909625,
          4.837231045450126
         ]
        },
        {
         "line": {
          "color": "rgb(0, 0, 255)"
         },
         "mode": "lines",
         "showlegend": false,
         "type": "scatter",
         "x": [
          0,
          0.25
         ],
         "y": [
          -4.837231045450126,
          -4.878283779810838
         ]
        },
        {
         "line": {
          "color": "rgb(0, 0, 255)"
         },
         "mode": "lines",
         "showlegend": false,
         "type": "scatter",
         "x": [
          0,
          0.25
         ],
         "y": [
          4.837231045450126,
          4.878283779810838
         ]
        },
        {
         "line": {
          "color": "rgb(0, 0, 255)"
         },
         "mode": "lines",
         "showlegend": false,
         "type": "scatter",
         "x": [
          0.25,
          0.5
         ],
         "y": [
          -4.878283779810838,
          -4.897979211443644
         ]
        },
        {
         "line": {
          "color": "rgb(0, 0, 255)"
         },
         "mode": "lines",
         "showlegend": false,
         "type": "scatter",
         "x": [
          0.25,
          0.5
         ],
         "y": [
          4.878283779810838,
          4.897979211443644
         ]
        },
        {
         "line": {
          "color": "rgb(0, 0, 255)"
         },
         "mode": "lines",
         "showlegend": false,
         "type": "scatter",
         "x": [
          0.5,
          0.75
         ],
         "y": [
          -4.897979211443644,
          -4.896725956509328
         ]
        },
        {
         "line": {
          "color": "rgb(0, 0, 255)"
         },
         "mode": "lines",
         "showlegend": false,
         "type": "scatter",
         "x": [
          0.5,
          0.75
         ],
         "y": [
          4.897979211443644,
          4.896725956509329
         ]
        },
        {
         "line": {
          "color": "rgb(0, 0, 255)"
         },
         "mode": "lines",
         "showlegend": false,
         "type": "scatter",
         "x": [
          0.75,
          1
         ],
         "y": [
          -4.896725956509328,
          -4.87449753244486
         ]
        },
        {
         "line": {
          "color": "rgb(0, 0, 255)"
         },
         "mode": "lines",
         "showlegend": false,
         "type": "scatter",
         "x": [
          0.75,
          1
         ],
         "y": [
          4.896725956509329,
          4.87449753244486
         ]
        },
        {
         "line": {
          "color": "rgb(0, 0, 255)"
         },
         "mode": "lines",
         "showlegend": false,
         "type": "scatter",
         "x": [
          1,
          1.25
         ],
         "y": [
          -4.87449753244486,
          -4.8308350639133195
         ]
        },
        {
         "line": {
          "color": "rgb(0, 0, 255)"
         },
         "mode": "lines",
         "showlegend": false,
         "type": "scatter",
         "x": [
          1,
          1.25
         ],
         "y": [
          4.87449753244486,
          4.8308350639133195
         ]
        },
        {
         "line": {
          "color": "rgb(0, 0, 255)"
         },
         "mode": "lines",
         "showlegend": false,
         "type": "scatter",
         "x": [
          1.25,
          1.5
         ],
         "y": [
          -4.8308350639133195,
          -4.764893007706338
         ]
        },
        {
         "line": {
          "color": "rgb(0, 0, 255)"
         },
         "mode": "lines",
         "showlegend": false,
         "type": "scatter",
         "x": [
          1.25,
          1.5
         ],
         "y": [
          4.8308350639133195,
          4.764893007706338
         ]
        },
        {
         "line": {
          "color": "rgb(0, 0, 255)"
         },
         "mode": "lines",
         "showlegend": false,
         "type": "scatter",
         "x": [
          1.5,
          1.5425577346860706
         ],
         "y": [
          -4.764893007706338,
          -4.75
         ]
        },
        {
         "line": {
          "color": "rgb(0, 0, 255)"
         },
         "mode": "lines",
         "showlegend": false,
         "type": "scatter",
         "x": [
          1.5425577346860706,
          1.75
         ],
         "y": [
          -4.75,
          -4.6746055974286875
         ]
        },
        {
         "line": {
          "color": "rgb(0, 0, 255)"
         },
         "mode": "lines",
         "showlegend": false,
         "type": "scatter",
         "x": [
          1.5425577346860706,
          1.75
         ],
         "y": [
          4.75,
          4.6746055974286875
         ]
        },
        {
         "line": {
          "color": "rgb(0, 0, 255)"
         },
         "mode": "lines",
         "showlegend": false,
         "type": "scatter",
         "x": [
          1.5,
          1.5425577346860706
         ],
         "y": [
          4.764893007706338,
          4.75
         ]
        },
        {
         "line": {
          "color": "rgb(0, 0, 255)"
         },
         "mode": "lines",
         "showlegend": false,
         "type": "scatter",
         "x": [
          1.75,
          2
         ],
         "y": [
          -4.6746055974286875,
          -4.5581185838401375
         ]
        },
        {
         "line": {
          "color": "rgb(0, 0, 255)"
         },
         "mode": "lines",
         "showlegend": false,
         "type": "scatter",
         "x": [
          1.75,
          2
         ],
         "y": [
          4.6746055974286875,
          4.5581185838401375
         ]
        },
        {
         "line": {
          "color": "rgb(0, 0, 255)"
         },
         "mode": "lines",
         "showlegend": false,
         "type": "scatter",
         "x": [
          2,
          2.1028816909867984
         ],
         "y": [
          -4.5581185838401375,
          -4.5
         ]
        },
        {
         "line": {
          "color": "rgb(0, 0, 255)"
         },
         "mode": "lines",
         "showlegend": false,
         "type": "scatter",
         "x": [
          2.1028816909867984,
          2.25
         ],
         "y": [
          -4.5,
          -4.411180337669605
         ]
        },
        {
         "line": {
          "color": "rgb(0, 0, 255)"
         },
         "mode": "lines",
         "showlegend": false,
         "type": "scatter",
         "x": [
          2.1028816909867984,
          2.25
         ],
         "y": [
          4.5,
          4.411180337669604
         ]
        },
        {
         "line": {
          "color": "rgb(0, 0, 255)"
         },
         "mode": "lines",
         "showlegend": false,
         "type": "scatter",
         "x": [
          2,
          2.1028816909867984
         ],
         "y": [
          4.5581185838401375,
          4.5
         ]
        },
        {
         "line": {
          "color": "rgb(0, 0, 255)"
         },
         "mode": "lines",
         "showlegend": false,
         "type": "scatter",
         "x": [
          2.25,
          2.4737995191662243
         ],
         "y": [
          -4.411180337669605,
          -4.25
         ]
        },
        {
         "line": {
          "color": "rgb(0, 0, 255)"
         },
         "mode": "lines",
         "showlegend": false,
         "type": "scatter",
         "x": [
          2.4737995191662243,
          2.5
         ],
         "y": [
          -4.25,
          -4.229359067172861
         ]
        },
        {
         "line": {
          "color": "rgb(0, 0, 255)"
         },
         "mode": "lines",
         "showlegend": false,
         "type": "scatter",
         "x": [
          2.4737995191662243,
          2.5
         ],
         "y": [
          4.25,
          4.229359067172862
         ]
        },
        {
         "line": {
          "color": "rgb(0, 0, 255)"
         },
         "mode": "lines",
         "showlegend": false,
         "type": "scatter",
         "x": [
          2.25,
          2.4737995191662243
         ],
         "y": [
          4.411180337669604,
          4.25
         ]
        },
        {
         "line": {
          "color": "rgb(0, 0, 255)"
         },
         "mode": "lines",
         "showlegend": false,
         "type": "scatter",
         "x": [
          2.5,
          2.75
         ],
         "y": [
          -4.229359067172861,
          -4.002406580119276
         ]
        },
        {
         "line": {
          "color": "rgb(0, 0, 255)"
         },
         "mode": "lines",
         "showlegend": false,
         "type": "scatter",
         "x": [
          2.5,
          2.75
         ],
         "y": [
          4.229359067172862,
          4.002406580119276
         ]
        },
        {
         "line": {
          "color": "rgb(0, 0, 255)"
         },
         "mode": "lines",
         "showlegend": false,
         "type": "scatter",
         "x": [
          2.75,
          2.7523652834264105
         ],
         "y": [
          -4.002406580119276,
          -4
         ]
        },
        {
         "line": {
          "color": "rgb(0, 0, 255)"
         },
         "mode": "lines",
         "showlegend": false,
         "type": "scatter",
         "x": [
          2.7523652834264105,
          2.9711316491867983
         ],
         "y": [
          -4,
          -3.75
         ]
        },
        {
         "line": {
          "color": "rgb(0, 0, 255)"
         },
         "mode": "lines",
         "showlegend": false,
         "type": "scatter",
         "x": [
          2.9711316491867983,
          3
         ],
         "y": [
          -3.75,
          -3.712429663975504
         ]
        },
        {
         "line": {
          "color": "rgb(0, 0, 255)"
         },
         "mode": "lines",
         "showlegend": false,
         "type": "scatter",
         "x": [
          2.9711316491867983,
          3
         ],
         "y": [
          3.75,
          3.712429663975504
         ]
        },
        {
         "line": {
          "color": "rgb(0, 0, 255)"
         },
         "mode": "lines",
         "showlegend": false,
         "type": "scatter",
         "x": [
          2.9711316491867983,
          2.7523652834264105
         ],
         "y": [
          3.75,
          4
         ]
        },
        {
         "line": {
          "color": "rgb(0, 0, 255)"
         },
         "mode": "lines",
         "showlegend": false,
         "type": "scatter",
         "x": [
          2.75,
          2.7523652834264105
         ],
         "y": [
          4.002406580119276,
          4
         ]
        },
        {
         "line": {
          "color": "rgb(0, 0, 255)"
         },
         "mode": "lines",
         "showlegend": false,
         "type": "scatter",
         "x": [
          3,
          3.1565787144853203
         ],
         "y": [
          -3.712429663975504,
          -3.5
         ]
        },
        {
         "line": {
          "color": "rgb(0, 0, 255)"
         },
         "mode": "lines",
         "showlegend": false,
         "type": "scatter",
         "x": [
          3.1565787144853203,
          3.25
         ],
         "y": [
          -3.5,
          -3.372301839943964
         ]
        },
        {
         "line": {
          "color": "rgb(0, 0, 255)"
         },
         "mode": "lines",
         "showlegend": false,
         "type": "scatter",
         "x": [
          3.1565787144853203,
          3.25
         ],
         "y": [
          3.5,
          3.3723018399439635
         ]
        },
        {
         "line": {
          "color": "rgb(0, 0, 255)"
         },
         "mode": "lines",
         "showlegend": false,
         "type": "scatter",
         "x": [
          3,
          3.1565787144853203
         ],
         "y": [
          3.712429663975504,
          3.5
         ]
        },
        {
         "line": {
          "color": "rgb(0, 0, 255)"
         },
         "mode": "lines",
         "showlegend": false,
         "type": "scatter",
         "x": [
          3.25,
          3.339473451327427
         ],
         "y": [
          -3.372301839943964,
          -3.25
         ]
        },
        {
         "line": {
          "color": "rgb(0, 0, 255)"
         },
         "mode": "lines",
         "showlegend": false,
         "type": "scatter",
         "x": [
          3.339473451327427,
          3.5
         ],
         "y": [
          -3.25,
          -3.030575221238928
         ]
        },
        {
         "line": {
          "color": "rgb(0, 0, 255)"
         },
         "mode": "lines",
         "showlegend": false,
         "type": "scatter",
         "x": [
          3.339473451327427,
          3.5
         ],
         "y": [
          3.25,
          3.0305752212389283
         ]
        },
        {
         "line": {
          "color": "rgb(0, 0, 255)"
         },
         "mode": "lines",
         "showlegend": false,
         "type": "scatter",
         "x": [
          3.25,
          3.339473451327427
         ],
         "y": [
          3.3723018399439635,
          3.25
         ]
        },
        {
         "line": {
          "color": "rgb(0, 0, 255)"
         },
         "mode": "lines",
         "showlegend": false,
         "type": "scatter",
         "x": [
          3.5,
          3.5223681881695317
         ],
         "y": [
          -3.030575221238928,
          -3
         ]
        },
        {
         "line": {
          "color": "rgb(0, 0, 255)"
         },
         "mode": "lines",
         "showlegend": false,
         "type": "scatter",
         "x": [
          3.5223681881695317,
          3.7052629250116365
         ],
         "y": [
          -3,
          -2.75
         ]
        },
        {
         "line": {
          "color": "rgb(0, 0, 255)"
         },
         "mode": "lines",
         "showlegend": false,
         "type": "scatter",
         "x": [
          3.7052629250116365,
          3.75
         ],
         "y": [
          -2.75,
          -2.6888486025338922
         ]
        },
        {
         "line": {
          "color": "rgb(0, 0, 255)"
         },
         "mode": "lines",
         "showlegend": false,
         "type": "scatter",
         "x": [
          3.7052629250116365,
          3.75
         ],
         "y": [
          2.75,
          2.6888486025338914
         ]
        },
        {
         "line": {
          "color": "rgb(0, 0, 255)"
         },
         "mode": "lines",
         "showlegend": false,
         "type": "scatter",
         "x": [
          3.7052629250116365,
          3.5223681881695317
         ],
         "y": [
          2.75,
          3
         ]
        },
        {
         "line": {
          "color": "rgb(0, 0, 255)"
         },
         "mode": "lines",
         "showlegend": false,
         "type": "scatter",
         "x": [
          3.5,
          3.5223681881695317
         ],
         "y": [
          3.0305752212389283,
          3
         ]
        },
        {
         "line": {
          "color": "rgb(0, 0, 255)"
         },
         "mode": "lines",
         "showlegend": false,
         "type": "scatter",
         "x": [
          3.75,
          3.8881576618537412
         ],
         "y": [
          -2.6888486025338922,
          -2.5
         ]
        },
        {
         "line": {
          "color": "rgb(0, 0, 255)"
         },
         "mode": "lines",
         "showlegend": false,
         "type": "scatter",
         "x": [
          3.8881576618537412,
          4
         ],
         "y": [
          -2.5,
          -2.3471219838288557
         ]
        },
        {
         "line": {
          "color": "rgb(0, 0, 255)"
         },
         "mode": "lines",
         "showlegend": false,
         "type": "scatter",
         "x": [
          3.8881576618537412,
          4
         ],
         "y": [
          2.5,
          2.347121983828856
         ]
        },
        {
         "line": {
          "color": "rgb(0, 0, 255)"
         },
         "mode": "lines",
         "showlegend": false,
         "type": "scatter",
         "x": [
          3.75,
          3.8881576618537412
         ],
         "y": [
          2.6888486025338914,
          2.5
         ]
        },
        {
         "line": {
          "color": "rgb(0, 0, 255)"
         },
         "mode": "lines",
         "showlegend": false,
         "type": "scatter",
         "x": [
          4,
          4.071052398695848
         ],
         "y": [
          -2.3471219838288557,
          -2.25
         ]
        },
        {
         "line": {
          "color": "rgb(0, 0, 255)"
         },
         "mode": "lines",
         "showlegend": false,
         "type": "scatter",
         "x": [
          4.071052398695848,
          4.25
         ],
         "y": [
          -2.25,
          -2.00539536512382
         ]
        },
        {
         "line": {
          "color": "rgb(0, 0, 255)"
         },
         "mode": "lines",
         "showlegend": false,
         "type": "scatter",
         "x": [
          4.071052398695848,
          4.25
         ],
         "y": [
          2.25,
          2.005395365123819
         ]
        },
        {
         "line": {
          "color": "rgb(0, 0, 255)"
         },
         "mode": "lines",
         "showlegend": false,
         "type": "scatter",
         "x": [
          4,
          4.071052398695848
         ],
         "y": [
          2.347121983828856,
          2.25
         ]
        },
        {
         "line": {
          "color": "rgb(0, 0, 255)"
         },
         "mode": "lines",
         "showlegend": false,
         "type": "scatter",
         "x": [
          4.25,
          4.253947135537953
         ],
         "y": [
          -2.00539536512382,
          -2
         ]
        },
        {
         "line": {
          "color": "rgb(0, 0, 255)"
         },
         "mode": "lines",
         "showlegend": false,
         "type": "scatter",
         "x": [
          4.253947135537953,
          4.4362278551284895
         ],
         "y": [
          -2,
          -1.75
         ]
        },
        {
         "line": {
          "color": "rgb(0, 0, 255)"
         },
         "mode": "lines",
         "showlegend": false,
         "type": "scatter",
         "x": [
          4.4362278551284895,
          4.5
         ],
         "y": [
          -1.75,
          -1.6551891475172633
         ]
        },
        {
         "line": {
          "color": "rgb(0, 0, 255)"
         },
         "mode": "lines",
         "showlegend": false,
         "type": "scatter",
         "x": [
          4.4362278551284895,
          4.5
         ],
         "y": [
          1.75,
          1.6551891475172633
         ]
        },
        {
         "line": {
          "color": "rgb(0, 0, 255)"
         },
         "mode": "lines",
         "showlegend": false,
         "type": "scatter",
         "x": [
          4.4362278551284895,
          4.253947135537953
         ],
         "y": [
          1.75,
          2
         ]
        },
        {
         "line": {
          "color": "rgb(0, 0, 255)"
         },
         "mode": "lines",
         "showlegend": false,
         "type": "scatter",
         "x": [
          4.25,
          4.253947135537953
         ],
         "y": [
          2.005395365123819,
          2
         ]
        },
        {
         "line": {
          "color": "rgb(0, 0, 255)"
         },
         "mode": "lines",
         "showlegend": false,
         "type": "scatter",
         "x": [
          4.5,
          4.597371176775292
         ],
         "y": [
          -1.6551891475172633,
          -1.5
         ]
        },
        {
         "line": {
          "color": "rgb(0, 0, 255)"
         },
         "mode": "lines",
         "showlegend": false,
         "type": "scatter",
         "x": [
          4.597371176775292,
          4.727000827048325
         ],
         "y": [
          -1.5,
          -1.25
         ]
        },
        {
         "line": {
          "color": "rgb(0, 0, 255)"
         },
         "mode": "lines",
         "showlegend": false,
         "type": "scatter",
         "x": [
          4.727000827048325,
          4.75
         ],
         "y": [
          -1.25,
          -1.1951256523171345
         ]
        },
        {
         "line": {
          "color": "rgb(0, 0, 255)"
         },
         "mode": "lines",
         "showlegend": false,
         "type": "scatter",
         "x": [
          4.727000827048325,
          4.75
         ],
         "y": [
          1.25,
          1.1951256523171345
         ]
        },
        {
         "line": {
          "color": "rgb(0, 0, 255)"
         },
         "mode": "lines",
         "showlegend": false,
         "type": "scatter",
         "x": [
          4.727000827048325,
          4.597371176775292
         ],
         "y": [
          1.25,
          1.5
         ]
        },
        {
         "line": {
          "color": "rgb(0, 0, 255)"
         },
         "mode": "lines",
         "showlegend": false,
         "type": "scatter",
         "x": [
          4.5,
          4.597371176775292
         ],
         "y": [
          1.6551891475172633,
          1.5
         ]
        },
        {
         "line": {
          "color": "rgb(0, 0, 255)"
         },
         "mode": "lines",
         "showlegend": false,
         "type": "scatter",
         "x": [
          4.75,
          4.828170461197214
         ],
         "y": [
          -1.1951256523171345,
          -1
         ]
        },
        {
         "line": {
          "color": "rgb(0, 0, 255)"
         },
         "mode": "lines",
         "showlegend": false,
         "type": "scatter",
         "x": [
          4.828170461197214,
          4.904575459256678
         ],
         "y": [
          -1,
          -0.75
         ]
        },
        {
         "line": {
          "color": "rgb(0, 0, 255)"
         },
         "mode": "lines",
         "showlegend": false,
         "type": "scatter",
         "x": [
          4.904575459256678,
          4.957996459671634
         ],
         "y": [
          -0.75,
          -0.5
         ]
        },
        {
         "line": {
          "color": "rgb(0, 0, 255)"
         },
         "mode": "lines",
         "showlegend": false,
         "type": "scatter",
         "x": [
          4.957996459671634,
          4.989562041373791
         ],
         "y": [
          -0.5,
          -0.25
         ]
        },
        {
         "line": {
          "color": "rgb(0, 0, 255)"
         },
         "mode": "lines",
         "showlegend": false,
         "type": "scatter",
         "x": [
          4.989562041373791,
          5
         ],
         "y": [
          -0.25,
          0
         ]
        },
        {
         "line": {
          "color": "rgb(0, 0, 255)"
         },
         "mode": "lines",
         "showlegend": false,
         "type": "scatter",
         "x": [
          5,
          4.989562041373791
         ],
         "y": [
          0,
          0.25
         ]
        },
        {
         "line": {
          "color": "rgb(0, 0, 255)"
         },
         "mode": "lines",
         "showlegend": false,
         "type": "scatter",
         "x": [
          4.989562041373791,
          4.957996459671634
         ],
         "y": [
          0.25,
          0.5
         ]
        },
        {
         "line": {
          "color": "rgb(0, 0, 255)"
         },
         "mode": "lines",
         "showlegend": false,
         "type": "scatter",
         "x": [
          4.957996459671634,
          4.904575459256678
         ],
         "y": [
          0.5,
          0.75
         ]
        },
        {
         "line": {
          "color": "rgb(0, 0, 255)"
         },
         "mode": "lines",
         "showlegend": false,
         "type": "scatter",
         "x": [
          4.904575459256678,
          4.828170461197214
         ],
         "y": [
          0.75,
          1
         ]
        },
        {
         "line": {
          "color": "rgb(0, 0, 255)"
         },
         "mode": "lines",
         "showlegend": false,
         "type": "scatter",
         "x": [
          4.75,
          4.828170461197214
         ],
         "y": [
          1.1951256523171345,
          1
         ]
        }
       ],
       "layout": {
        "height": 500,
        "margin": {
         "b": 25,
         "l": 25,
         "r": 25,
         "t": 25
        },
        "paper_bgcolor": "LightSteelBlue",
        "template": {
         "data": {
          "bar": [
           {
            "error_x": {
             "color": "#2a3f5f"
            },
            "error_y": {
             "color": "#2a3f5f"
            },
            "marker": {
             "line": {
              "color": "#E5ECF6",
              "width": 0.5
             },
             "pattern": {
              "fillmode": "overlay",
              "size": 10,
              "solidity": 0.2
             }
            },
            "type": "bar"
           }
          ],
          "barpolar": [
           {
            "marker": {
             "line": {
              "color": "#E5ECF6",
              "width": 0.5
             },
             "pattern": {
              "fillmode": "overlay",
              "size": 10,
              "solidity": 0.2
             }
            },
            "type": "barpolar"
           }
          ],
          "carpet": [
           {
            "aaxis": {
             "endlinecolor": "#2a3f5f",
             "gridcolor": "white",
             "linecolor": "white",
             "minorgridcolor": "white",
             "startlinecolor": "#2a3f5f"
            },
            "baxis": {
             "endlinecolor": "#2a3f5f",
             "gridcolor": "white",
             "linecolor": "white",
             "minorgridcolor": "white",
             "startlinecolor": "#2a3f5f"
            },
            "type": "carpet"
           }
          ],
          "choropleth": [
           {
            "colorbar": {
             "outlinewidth": 0,
             "ticks": ""
            },
            "type": "choropleth"
           }
          ],
          "contour": [
           {
            "colorbar": {
             "outlinewidth": 0,
             "ticks": ""
            },
            "colorscale": [
             [
              0,
              "#0d0887"
             ],
             [
              0.1111111111111111,
              "#46039f"
             ],
             [
              0.2222222222222222,
              "#7201a8"
             ],
             [
              0.3333333333333333,
              "#9c179e"
             ],
             [
              0.4444444444444444,
              "#bd3786"
             ],
             [
              0.5555555555555556,
              "#d8576b"
             ],
             [
              0.6666666666666666,
              "#ed7953"
             ],
             [
              0.7777777777777778,
              "#fb9f3a"
             ],
             [
              0.8888888888888888,
              "#fdca26"
             ],
             [
              1,
              "#f0f921"
             ]
            ],
            "type": "contour"
           }
          ],
          "contourcarpet": [
           {
            "colorbar": {
             "outlinewidth": 0,
             "ticks": ""
            },
            "type": "contourcarpet"
           }
          ],
          "heatmap": [
           {
            "colorbar": {
             "outlinewidth": 0,
             "ticks": ""
            },
            "colorscale": [
             [
              0,
              "#0d0887"
             ],
             [
              0.1111111111111111,
              "#46039f"
             ],
             [
              0.2222222222222222,
              "#7201a8"
             ],
             [
              0.3333333333333333,
              "#9c179e"
             ],
             [
              0.4444444444444444,
              "#bd3786"
             ],
             [
              0.5555555555555556,
              "#d8576b"
             ],
             [
              0.6666666666666666,
              "#ed7953"
             ],
             [
              0.7777777777777778,
              "#fb9f3a"
             ],
             [
              0.8888888888888888,
              "#fdca26"
             ],
             [
              1,
              "#f0f921"
             ]
            ],
            "type": "heatmap"
           }
          ],
          "heatmapgl": [
           {
            "colorbar": {
             "outlinewidth": 0,
             "ticks": ""
            },
            "colorscale": [
             [
              0,
              "#0d0887"
             ],
             [
              0.1111111111111111,
              "#46039f"
             ],
             [
              0.2222222222222222,
              "#7201a8"
             ],
             [
              0.3333333333333333,
              "#9c179e"
             ],
             [
              0.4444444444444444,
              "#bd3786"
             ],
             [
              0.5555555555555556,
              "#d8576b"
             ],
             [
              0.6666666666666666,
              "#ed7953"
             ],
             [
              0.7777777777777778,
              "#fb9f3a"
             ],
             [
              0.8888888888888888,
              "#fdca26"
             ],
             [
              1,
              "#f0f921"
             ]
            ],
            "type": "heatmapgl"
           }
          ],
          "histogram": [
           {
            "marker": {
             "pattern": {
              "fillmode": "overlay",
              "size": 10,
              "solidity": 0.2
             }
            },
            "type": "histogram"
           }
          ],
          "histogram2d": [
           {
            "colorbar": {
             "outlinewidth": 0,
             "ticks": ""
            },
            "colorscale": [
             [
              0,
              "#0d0887"
             ],
             [
              0.1111111111111111,
              "#46039f"
             ],
             [
              0.2222222222222222,
              "#7201a8"
             ],
             [
              0.3333333333333333,
              "#9c179e"
             ],
             [
              0.4444444444444444,
              "#bd3786"
             ],
             [
              0.5555555555555556,
              "#d8576b"
             ],
             [
              0.6666666666666666,
              "#ed7953"
             ],
             [
              0.7777777777777778,
              "#fb9f3a"
             ],
             [
              0.8888888888888888,
              "#fdca26"
             ],
             [
              1,
              "#f0f921"
             ]
            ],
            "type": "histogram2d"
           }
          ],
          "histogram2dcontour": [
           {
            "colorbar": {
             "outlinewidth": 0,
             "ticks": ""
            },
            "colorscale": [
             [
              0,
              "#0d0887"
             ],
             [
              0.1111111111111111,
              "#46039f"
             ],
             [
              0.2222222222222222,
              "#7201a8"
             ],
             [
              0.3333333333333333,
              "#9c179e"
             ],
             [
              0.4444444444444444,
              "#bd3786"
             ],
             [
              0.5555555555555556,
              "#d8576b"
             ],
             [
              0.6666666666666666,
              "#ed7953"
             ],
             [
              0.7777777777777778,
              "#fb9f3a"
             ],
             [
              0.8888888888888888,
              "#fdca26"
             ],
             [
              1,
              "#f0f921"
             ]
            ],
            "type": "histogram2dcontour"
           }
          ],
          "mesh3d": [
           {
            "colorbar": {
             "outlinewidth": 0,
             "ticks": ""
            },
            "type": "mesh3d"
           }
          ],
          "parcoords": [
           {
            "line": {
             "colorbar": {
              "outlinewidth": 0,
              "ticks": ""
             }
            },
            "type": "parcoords"
           }
          ],
          "pie": [
           {
            "automargin": true,
            "type": "pie"
           }
          ],
          "scatter": [
           {
            "fillpattern": {
             "fillmode": "overlay",
             "size": 10,
             "solidity": 0.2
            },
            "type": "scatter"
           }
          ],
          "scatter3d": [
           {
            "line": {
             "colorbar": {
              "outlinewidth": 0,
              "ticks": ""
             }
            },
            "marker": {
             "colorbar": {
              "outlinewidth": 0,
              "ticks": ""
             }
            },
            "type": "scatter3d"
           }
          ],
          "scattercarpet": [
           {
            "marker": {
             "colorbar": {
              "outlinewidth": 0,
              "ticks": ""
             }
            },
            "type": "scattercarpet"
           }
          ],
          "scattergeo": [
           {
            "marker": {
             "colorbar": {
              "outlinewidth": 0,
              "ticks": ""
             }
            },
            "type": "scattergeo"
           }
          ],
          "scattergl": [
           {
            "marker": {
             "colorbar": {
              "outlinewidth": 0,
              "ticks": ""
             }
            },
            "type": "scattergl"
           }
          ],
          "scattermapbox": [
           {
            "marker": {
             "colorbar": {
              "outlinewidth": 0,
              "ticks": ""
             }
            },
            "type": "scattermapbox"
           }
          ],
          "scatterpolar": [
           {
            "marker": {
             "colorbar": {
              "outlinewidth": 0,
              "ticks": ""
             }
            },
            "type": "scatterpolar"
           }
          ],
          "scatterpolargl": [
           {
            "marker": {
             "colorbar": {
              "outlinewidth": 0,
              "ticks": ""
             }
            },
            "type": "scatterpolargl"
           }
          ],
          "scatterternary": [
           {
            "marker": {
             "colorbar": {
              "outlinewidth": 0,
              "ticks": ""
             }
            },
            "type": "scatterternary"
           }
          ],
          "surface": [
           {
            "colorbar": {
             "outlinewidth": 0,
             "ticks": ""
            },
            "colorscale": [
             [
              0,
              "#0d0887"
             ],
             [
              0.1111111111111111,
              "#46039f"
             ],
             [
              0.2222222222222222,
              "#7201a8"
             ],
             [
              0.3333333333333333,
              "#9c179e"
             ],
             [
              0.4444444444444444,
              "#bd3786"
             ],
             [
              0.5555555555555556,
              "#d8576b"
             ],
             [
              0.6666666666666666,
              "#ed7953"
             ],
             [
              0.7777777777777778,
              "#fb9f3a"
             ],
             [
              0.8888888888888888,
              "#fdca26"
             ],
             [
              1,
              "#f0f921"
             ]
            ],
            "type": "surface"
           }
          ],
          "table": [
           {
            "cells": {
             "fill": {
              "color": "#EBF0F8"
             },
             "line": {
              "color": "white"
             }
            },
            "header": {
             "fill": {
              "color": "#C8D4E3"
             },
             "line": {
              "color": "white"
             }
            },
            "type": "table"
           }
          ]
         },
         "layout": {
          "annotationdefaults": {
           "arrowcolor": "#2a3f5f",
           "arrowhead": 0,
           "arrowwidth": 1
          },
          "autotypenumbers": "strict",
          "coloraxis": {
           "colorbar": {
            "outlinewidth": 0,
            "ticks": ""
           }
          },
          "colorscale": {
           "diverging": [
            [
             0,
             "#8e0152"
            ],
            [
             0.1,
             "#c51b7d"
            ],
            [
             0.2,
             "#de77ae"
            ],
            [
             0.3,
             "#f1b6da"
            ],
            [
             0.4,
             "#fde0ef"
            ],
            [
             0.5,
             "#f7f7f7"
            ],
            [
             0.6,
             "#e6f5d0"
            ],
            [
             0.7,
             "#b8e186"
            ],
            [
             0.8,
             "#7fbc41"
            ],
            [
             0.9,
             "#4d9221"
            ],
            [
             1,
             "#276419"
            ]
           ],
           "sequential": [
            [
             0,
             "#0d0887"
            ],
            [
             0.1111111111111111,
             "#46039f"
            ],
            [
             0.2222222222222222,
             "#7201a8"
            ],
            [
             0.3333333333333333,
             "#9c179e"
            ],
            [
             0.4444444444444444,
             "#bd3786"
            ],
            [
             0.5555555555555556,
             "#d8576b"
            ],
            [
             0.6666666666666666,
             "#ed7953"
            ],
            [
             0.7777777777777778,
             "#fb9f3a"
            ],
            [
             0.8888888888888888,
             "#fdca26"
            ],
            [
             1,
             "#f0f921"
            ]
           ],
           "sequentialminus": [
            [
             0,
             "#0d0887"
            ],
            [
             0.1111111111111111,
             "#46039f"
            ],
            [
             0.2222222222222222,
             "#7201a8"
            ],
            [
             0.3333333333333333,
             "#9c179e"
            ],
            [
             0.4444444444444444,
             "#bd3786"
            ],
            [
             0.5555555555555556,
             "#d8576b"
            ],
            [
             0.6666666666666666,
             "#ed7953"
            ],
            [
             0.7777777777777778,
             "#fb9f3a"
            ],
            [
             0.8888888888888888,
             "#fdca26"
            ],
            [
             1,
             "#f0f921"
            ]
           ]
          },
          "colorway": [
           "#636efa",
           "#EF553B",
           "#00cc96",
           "#ab63fa",
           "#FFA15A",
           "#19d3f3",
           "#FF6692",
           "#B6E880",
           "#FF97FF",
           "#FECB52"
          ],
          "font": {
           "color": "#2a3f5f"
          },
          "geo": {
           "bgcolor": "white",
           "lakecolor": "white",
           "landcolor": "#E5ECF6",
           "showlakes": true,
           "showland": true,
           "subunitcolor": "white"
          },
          "hoverlabel": {
           "align": "left"
          },
          "hovermode": "closest",
          "mapbox": {
           "style": "light"
          },
          "paper_bgcolor": "white",
          "plot_bgcolor": "#E5ECF6",
          "polar": {
           "angularaxis": {
            "gridcolor": "white",
            "linecolor": "white",
            "ticks": ""
           },
           "bgcolor": "#E5ECF6",
           "radialaxis": {
            "gridcolor": "white",
            "linecolor": "white",
            "ticks": ""
           }
          },
          "scene": {
           "xaxis": {
            "backgroundcolor": "#E5ECF6",
            "gridcolor": "white",
            "gridwidth": 2,
            "linecolor": "white",
            "showbackground": true,
            "ticks": "",
            "zerolinecolor": "white"
           },
           "yaxis": {
            "backgroundcolor": "#E5ECF6",
            "gridcolor": "white",
            "gridwidth": 2,
            "linecolor": "white",
            "showbackground": true,
            "ticks": "",
            "zerolinecolor": "white"
           },
           "zaxis": {
            "backgroundcolor": "#E5ECF6",
            "gridcolor": "white",
            "gridwidth": 2,
            "linecolor": "white",
            "showbackground": true,
            "ticks": "",
            "zerolinecolor": "white"
           }
          },
          "shapedefaults": {
           "line": {
            "color": "#2a3f5f"
           }
          },
          "ternary": {
           "aaxis": {
            "gridcolor": "white",
            "linecolor": "white",
            "ticks": ""
           },
           "baxis": {
            "gridcolor": "white",
            "linecolor": "white",
            "ticks": ""
           },
           "bgcolor": "#E5ECF6",
           "caxis": {
            "gridcolor": "white",
            "linecolor": "white",
            "ticks": ""
           }
          },
          "title": {
           "x": 0.05
          },
          "xaxis": {
           "automargin": true,
           "gridcolor": "white",
           "linecolor": "white",
           "ticks": "",
           "title": {
            "standoff": 15
           },
           "zerolinecolor": "white",
           "zerolinewidth": 2
          },
          "yaxis": {
           "automargin": true,
           "gridcolor": "white",
           "linecolor": "white",
           "ticks": "",
           "title": {
            "standoff": 15
           },
           "zerolinecolor": "white",
           "zerolinewidth": 2
          }
         }
        },
        "width": 500,
        "xaxis": {
         "dtick": 1
        },
        "yaxis": {
         "dtick": 1
        }
       }
      }
     },
     "metadata": {},
     "output_type": "display_data"
    }
   ],
   "source": [
    "n = 50\n",
    "blank = (n, n)\n",
    "\n",
    "# Coordenadas de los puntos del polígono \n",
    "x = [0.61, 2, 0.61, -1.61, -1.61]  \n",
    "y = [1.9, 0, -1.9, -1.17, 1.17] \n",
    "\n",
    "fig = go.Figure()\n",
    "fig.add_trace(go.Scatter(x=x + [x[0]], y=y + [y[0]], mode='lines', showlegend=False))\n",
    "c=1\n",
    "marching_squares(distanciaAPoligono, blank)\n",
    "c=2\n",
    "marching_squares(distanciaAPoligono, blank)\n",
    "c=3\n",
    "marching_squares(distanciaAPoligono, blank)\n",
    "\n",
    "fig.update_layout(\n",
    "        margin=dict(l=25, r=25, t=25, b=25),\n",
    "        paper_bgcolor=\"LightSteelBlue\", width=500, height=500)\n",
    "fig.update_xaxes(dtick=1)\n",
    "fig.update_yaxes(dtick=1)\n",
    "fig.show()"
   ]
  },
  {
   "attachments": {},
   "cell_type": "markdown",
   "metadata": {},
   "source": [
    "## Marching Tethra"
   ]
  },
  {
   "cell_type": "markdown",
   "metadata": {},
   "source": [
    "Funciones utiles"
   ]
  },
  {
   "cell_type": "code",
   "execution_count": 72,
   "metadata": {},
   "outputs": [],
   "source": [
    "# Dado el indice del cubo te dice la posicion de la arista \n",
    "def t_tetra(tetra):\n",
    "    if(tetra == 0):\n",
    "        return np.array([0,0,0])\n",
    "    if(tetra == 1):\n",
    "        return np.array([1,0,0])\n",
    "    if(tetra == 2):\n",
    "        return np.array([0,1,0])\n",
    "    if(tetra == 3):\n",
    "        return np.array([1,1,0])\n",
    "    if(tetra == 4):\n",
    "        return np.array([0,0,1])\n",
    "    if(tetra == 5):\n",
    "        return np.array([1,0,1])\n",
    "    if(tetra == 6):\n",
    "        return np.array([0,1,1])\n",
    "    if(tetra == 7):\n",
    "        return np.array([1,1,1])\n",
    "    \n",
    "def move_point(p_inicial, p_objetivo, d):\n",
    "    # Calcula el vector entre el punto inicial y el punto objetivo\n",
    "    vec_dir = p_objetivo - p_inicial\n",
    "    # Normaliza el vector de dirección\n",
    "    vec_uni = vec_dir/np.linalg.norm(vec_dir)\n",
    "    # Calcula el vector de desplazamiento multiplicando la dirección por la distancia \"d\"\n",
    "    vec_desplazamiento = d*vec_uni\n",
    "    # Calcula las coordenadas del nuevo punto sumando el vector de desplazamiento al punto inicial\n",
    "    nuevo_punto = p_inicial + vec_desplazamiento\n",
    "\n",
    "    return nuevo_punto"
   ]
  },
  {
   "cell_type": "code",
   "execution_count": 216,
   "metadata": {},
   "outputs": [],
   "source": [
    "\n",
    "def marching_t(func, dim, num_div, file_n: str = 'output.obj', isovalue: float = 0):\n",
    "    height = 2*dim[0]*num_div + 2\n",
    "    width = 2*dim[1]*num_div + 2\n",
    "    deep = 2*dim[2]*num_div + 2\n",
    "\n",
    "    grid = np.zeros((width, height, deep))\n",
    "    f = np.zeros((width, height, deep, 3))\n",
    "\n",
    "    for i in range(width-1):\n",
    "        for j in range(height-1):\n",
    "            for k in range(deep-1):\n",
    "                x = 1/num_div * (i+1 - width//2)\n",
    "                y = 1/num_div * (j+1 - height//2)\n",
    "                z = 1/num_div * (k+1 - deep//2)\n",
    "                grid[i][j][k] = func(x, y, z)\n",
    "                \n",
    "                # Guarda los valores que dieron ese resultado\n",
    "                f[i][j][k] = np.array([x,y,z])\n",
    "    \"\"\"print(\"grid\")\n",
    "    for i in range(width):\n",
    "        print(\"\\n\")\n",
    "        for j in range(height):\n",
    "            for k in range(deep):\n",
    "                x=f[i][j][k][0]\n",
    "                y=f[i][j][k][1]\n",
    "                z=f[i][j][k][2]\n",
    "                print(\"f(\", x,y,z, \")= \",grid[i][j][k])\"\"\"\n",
    "    \n",
    "    # Son los indices de cada cubo que componen a los tetraedros\n",
    "    cube = [[2,0,3,7], [0,1,3,7],[0,7,5,1],[0,7,4,5],[0,4,7,6], [0,6,7,2]]\n",
    "    #cube = [[0,1,3,7], [1,2,3,7],[1,7,6,2],[1,7,5,6],[1,5,7,4], [1,4,7,0]]\n",
    "\n",
    "    vertex = []\n",
    "    face = []\n",
    "\n",
    "    # Agrega un vertice a la lista y nos dice que numero de vertice fue\n",
    "    def add_vertex(vertice):\n",
    "         vertex.append(vertice)\n",
    "         return len(vertex)\n",
    "    \n",
    "    # Nos da la distancia del punto a al valor deseado, sabiendo que el valor deseado esta entre a y b\n",
    "    def lin_inter(a: float, b: float) -> float:\n",
    "        return abs((isovalue - a)/(a - b))\n",
    "    \n",
    "\n",
    "    def move(i, j, dist):\n",
    "            p_0 = f[w][h][d]\n",
    "            p_inicial = (p_0 + t_tetra(i)/num_div)\n",
    "            p_objetivo = (p_0 + t_tetra(j)/num_div)\n",
    "\n",
    "            return move_point(p_inicial, p_objetivo, dist/num_div)\n",
    "\n",
    "    for w in range(width - 1):\n",
    "        for h in range(height - 1):\n",
    "            for d in range(deep - 1):\n",
    "                # Vertices del cubo\n",
    "                c = [\n",
    "                     grid[w][h][d],             #(0,0,0)\n",
    "                     grid[w+1][h][d],           #(1,0,0)\n",
    "                     grid[w][h + 1][d],         #(0,1,0)\n",
    "                     grid[w + 1][h + 1][d],     #(1,1,0)\n",
    "                     grid[w][h][d + 1],         #(0,0,1)\n",
    "                     grid[w+1][h][d + 1],       #(1,0,1)\n",
    "                     grid[w][h + 1][d + 1],     #(0,1,1)\n",
    "                     grid[w + 1][h + 1][d + 1]  #(1,1,1)\n",
    "                    ]\n",
    "\n",
    "                for tetra in cube:\n",
    "                    cell = [0, 0, 0, 0]\n",
    "                    # Vemos el valor de cada vertice del tetrahedro\n",
    "                    c0 = c[tetra[0]]\n",
    "                    c1 = c[tetra[1]]\n",
    "                    c2 = c[tetra[2]]\n",
    "                    c3 = c[tetra[3]]\n",
    "                    v0 = 0\n",
    "                    v1 = 0\n",
    "                    v2 = 0\n",
    "                    flag_1=0\n",
    "\n",
    "                    #Si son menores a nuestro umbral, entonces el vertice esta dentro de la figura\n",
    "                    if c0 < isovalue: cell[0] = 1\n",
    "                    if c1 < isovalue: cell[1] = 1\n",
    "                    if c2 < isovalue: cell[2] = 1\n",
    "                    if c3 < isovalue: cell[3] = 1\n",
    "\n",
    "                    if cell == [0, 0, 0, 0] or cell == [1, 1, 1, 1]:\n",
    "                        pass\n",
    "                    elif(len(vertex)>=305 and len(vertex)<335):\n",
    "                        print(len(vertex))\n",
    "                        print(tetra)\n",
    "                        print(f[w][h][d])\n",
    "                        print(c0,c1,c2,c3)\n",
    "                        print(cell)\n",
    "                        flag_1=1\n",
    "                    if cell == [1, 0, 0, 0] or cell == [0, 1, 1, 1]:\n",
    "                        d1 = lin_inter(c0, c1)\n",
    "                        d2 = lin_inter(c0, c2)\n",
    "                        d3 = lin_inter(c0, c3)\n",
    "\n",
    "                        v0 = add_vertex(move(tetra[0], tetra[1], d1))\n",
    "                        v1 = add_vertex(move(tetra[0], tetra[2], d2))\n",
    "                        v2 = add_vertex(move(tetra[0], tetra[3], d3))\n",
    "                        \n",
    "                        if cell == [1, 0, 0, 0]:\n",
    "                            face.append([v0, v1, v2])\n",
    "                        else:\n",
    "                            face.append([v2, v1, v0]) \n",
    "                    if cell == [0, 1, 0, 0] or cell == [1, 0, 1, 1]:\n",
    "                        d1 = lin_inter(c1, c0)\n",
    "                        d2 = lin_inter(c1, c2)\n",
    "                        d3 = lin_inter(c1, c3)\n",
    "\n",
    "                        if cell == [0, 1, 0, 0]:\n",
    "                            if flag_1:\n",
    "                                print(\"1\")\n",
    "                            v0 = add_vertex(move(tetra[0], tetra[1], 1-d1))\n",
    "                            v1 = add_vertex(move(tetra[2], tetra[1], 1-d2))\n",
    "                            v2 = add_vertex(move(tetra[3], tetra[1], 1-d3))\n",
    "                            face.append([v2, v1, v0])\n",
    "                        else:\n",
    "                            if flag_1:\n",
    "                                print(\"2\")\n",
    "                            v0 = add_vertex(move(tetra[1], tetra[0], d1))\n",
    "                            v1 = add_vertex(move(tetra[1], tetra[2], d2))\n",
    "                            v2 = add_vertex(move(tetra[1], tetra[3], d3))\n",
    "                            face.append([v0, v1, v2])\n",
    "                    \n",
    "                    if cell == [0, 0, 1, 0] or cell == [1, 1, 0, 1]:\n",
    "                        d1 = lin_inter(c2, c0)\n",
    "                        d2 = lin_inter(c2, c1)\n",
    "                        d3 = lin_inter(c2, c3)\n",
    "\n",
    "                        v0 = add_vertex(move(tetra[0], tetra[2], 1-d1))\n",
    "                        v1 = add_vertex(move(tetra[1], tetra[2], 1-d2))\n",
    "                        v2 = add_vertex(move(tetra[3], tetra[2], 1-d3))\n",
    "\n",
    "                        if cell == [0, 0, 1, 0]:\n",
    "                            face.append([v0, v1, v2])\n",
    "                        else:\n",
    "                            face.append([v2, v1, v0])\n",
    "                    if cell == [0, 0, 0, 1] or cell == [1, 1, 1, 0]:\n",
    "                        d1 = lin_inter(c3, c0)\n",
    "                        d2 = lin_inter(c3, c1)\n",
    "                        d3 = lin_inter(c3, c2)\n",
    "\n",
    "\n",
    "                        if cell == [0, 0, 0, 1]:\n",
    "                            if flag_1:\n",
    "                                print(\"0001\")\n",
    "                            v0 = add_vertex(move(tetra[0], tetra[3], 1-d1))\n",
    "                            v1 = add_vertex(move(tetra[1], tetra[3], 1-d2))\n",
    "                            v2 = add_vertex(move(tetra[2], tetra[3], 1-d3))\n",
    "                            face.append([v0, v2, v1])\n",
    "                        else:\n",
    "                            if flag_1:\n",
    "                                print(\"1110\")\n",
    "                            v0 = add_vertex(move(tetra[0], tetra[3], 1-d1))\n",
    "                            v1 = add_vertex(move(tetra[1], tetra[3], 1-d2))\n",
    "                            v2 = add_vertex(move(tetra[2], tetra[3], 1-d3))\n",
    "                            face.append([v1, v2, v0])\n",
    "                    if cell == [1, 1, 0, 0] or cell == [0, 0, 1, 1]:\n",
    "                        d1 = lin_inter(c0, c2)\n",
    "                        d2 = lin_inter(c0, c3)\n",
    "                        d3 = lin_inter(c1, c2)\n",
    "                        d4 = lin_inter(c1, c3)\n",
    "\n",
    "                        v0 = add_vertex(move(tetra[0], tetra[2], d1))\n",
    "                        v1 = add_vertex(move(tetra[0], tetra[3], d2))\n",
    "                        v2 = add_vertex(move(tetra[1], tetra[2], d3))\n",
    "                        v3 = add_vertex(move(tetra[1], tetra[3], d4))\n",
    "\n",
    "                        if cell == [1, 1, 0, 0]:\n",
    "                            face.append([v1, v3, v0])\n",
    "                            face.append([v0, v3, v2])\n",
    "                        else:\n",
    "                            face.append([v0, v3, v1])\n",
    "                            face.append([v2, v3, v0])\n",
    "                    if cell == [1, 0, 1, 0] or cell == [0, 1, 0, 1]:\n",
    "                        d1 = lin_inter(c0, c1)\n",
    "                        d2 = lin_inter(c0, c3)\n",
    "                        d3 = lin_inter(c2, c1)\n",
    "                        d4 = lin_inter(c2, c3)\n",
    "\n",
    "                        if cell == [1, 0, 1, 0]:\n",
    "                            if flag_1:\n",
    "                                print(\"1\")\n",
    "                            v0 = add_vertex(move(tetra[0], tetra[1], d1))\n",
    "                            v1 = add_vertex(move(tetra[0], tetra[3], d2))\n",
    "                            v2 = add_vertex(move(tetra[2], tetra[1], d3))\n",
    "                            v3 = add_vertex(move(tetra[2], tetra[3], d4))\n",
    "                            face.append([v0, v2, v3])\n",
    "                            face.append([v0, v3, v1])\n",
    "                        else:\n",
    "                            if flag_1:\n",
    "                                print(\"2\")\n",
    "                            v0 = add_vertex(move(tetra[0], tetra[1], d1))\n",
    "                            v1 = add_vertex(move(tetra[0], tetra[3], d2))\n",
    "                            v2 = add_vertex(move(tetra[1], tetra[2], 1-d3))\n",
    "                            v3 = add_vertex(move(tetra[3], tetra[2], 1-d4))\n",
    "                            face.append([v3, v2, v0])\n",
    "                            face.append([v1, v3, v0])\n",
    "                    if cell == [1, 0, 0, 1] or cell == [0, 1, 1, 0]:\n",
    "                        d1 = lin_inter(c0, c2)\n",
    "                        d2 = lin_inter(c0, c1)\n",
    "                        d3 = lin_inter(c3, c2)\n",
    "                        d4 = lin_inter(c3, c1)\n",
    "\n",
    "\n",
    "                        if cell == [1, 0, 0, 1]:\n",
    "                            if flag_1:\n",
    "                                print(\"1001\")\n",
    "                            v0 = add_vertex(move(tetra[0], tetra[2], d1))\n",
    "                            v1 = add_vertex(move(tetra[0], tetra[1], d2))\n",
    "                            v2 = add_vertex(move(tetra[3], tetra[2], d3))\n",
    "                            v3 = add_vertex(move(tetra[3], tetra[1], d4))\n",
    "                            face.append([v3, v1, v0])\n",
    "                            face.append([v2, v3, v0])\n",
    "                        else:\n",
    "                            if flag_1:\n",
    "                                print(\"0110\")\n",
    "                            v0 = add_vertex(move(tetra[0], tetra[2], d1))\n",
    "                            v1 = add_vertex(move(tetra[0], tetra[1], d2))\n",
    "                            v2 = add_vertex(move(tetra[3], tetra[2], d3))\n",
    "                            v3 = add_vertex(move(tetra[3], tetra[1], d4))\n",
    "                            face.append([v0, v1, v3])\n",
    "                            face.append([v0, v3, v2]) \n",
    "                    \n",
    "    with open(file_n, 'w') as obj_file:\n",
    "            for v in vertex:\n",
    "                obj_file.write(f\"v {v[0]} {v[1]} {v[2]}\\n\")\n",
    "            for f in face:\n",
    "                obj_file.write(f\"f {' '.join(map(str, f))}\\n\")"
   ]
  },
  {
   "cell_type": "code",
   "execution_count": 12,
   "metadata": {},
   "outputs": [],
   "source": [
    "def esfera(x, y, z, r=1):\n",
    "    return (np.sqrt(x**2 + y**2 + z**2) - r)"
   ]
  },
  {
   "cell_type": "code",
   "execution_count": 217,
   "metadata": {},
   "outputs": [
    {
     "name": "stdout",
     "output_type": "stream",
     "text": [
      "306\n",
      "[2, 0, 3, 7]\n",
      "[-0.5 -0.5 -1. ]\n",
      "0.1180339887498949 0.22474487139158894 0.0 -0.5\n",
      "[0, 0, 0, 1]\n",
      "0001\n",
      "309\n",
      "[0, 1, 3, 7]\n",
      "[-0.5 -0.5 -1. ]\n",
      "0.22474487139158894 0.1180339887498949 0.0 -0.5\n",
      "[0, 0, 0, 1]\n",
      "0001\n",
      "312\n",
      "[0, 7, 5, 1]\n",
      "[-0.5 -0.5 -1. ]\n",
      "0.22474487139158894 -0.5 -0.2928932188134524 0.1180339887498949\n",
      "[0, 1, 1, 0]\n",
      "0110\n",
      "316\n",
      "[0, 7, 4, 5]\n",
      "[-0.5 -0.5 -1. ]\n",
      "0.22474487139158894 -0.5 -0.1339745962155614 -0.2928932188134524\n",
      "[0, 1, 1, 1]\n",
      "319\n",
      "[0, 4, 7, 6]\n",
      "[-0.5 -0.5 -1. ]\n",
      "0.22474487139158894 -0.1339745962155614 -0.5 -0.2928932188134524\n",
      "[0, 1, 1, 1]\n",
      "322\n",
      "[0, 6, 7, 2]\n",
      "[-0.5 -0.5 -1. ]\n",
      "0.22474487139158894 -0.2928932188134524 -0.5 0.1180339887498949\n",
      "[0, 1, 1, 0]\n",
      "0110\n",
      "326\n",
      "[2, 0, 3, 7]\n",
      "[-0.5 -0.5  0.5]\n",
      "-0.2928932188134524 -0.1339745962155614 -0.5 0.0\n",
      "[1, 1, 1, 0]\n",
      "1110\n",
      "329\n",
      "[0, 1, 3, 7]\n",
      "[-0.5 -0.5  0.5]\n",
      "-0.1339745962155614 -0.2928932188134524 -0.5 0.0\n",
      "[1, 1, 1, 0]\n",
      "1110\n",
      "332\n",
      "[0, 7, 5, 1]\n",
      "[-0.5 -0.5  0.5]\n",
      "-0.1339745962155614 0.0 0.1180339887498949 -0.2928932188134524\n",
      "[1, 0, 0, 1]\n",
      "1001\n"
     ]
    }
   ],
   "source": [
    "# Espacio del plano a recorrer\n",
    "n = 2 \n",
    "dim = (n, n, n)\n",
    "# n_div: divisiones por unidad\n",
    "marching_t(esfera, dim, num_div=2, file_n='n1.obj', isovalue=0)"
   ]
  },
  {
   "cell_type": "code",
   "execution_count": 33,
   "metadata": {},
   "outputs": [],
   "source": [
    "isovalue = 0\n",
    "def lin_inter(a: float, b: float) -> float:\n",
    "        return abs((isovalue - a)/(a - b))\n",
    "\n",
    "num_div = 2\n",
    "def move(i, j, dist, p_0):\n",
    "        p_inicial = (p_0 + t_tetra(i)/num_div)\n",
    "        p_objetivo = (p_0 + t_tetra(j)/num_div)\n",
    "\n",
    "        return move_point(p_inicial, p_objetivo, dist/num_div)"
   ]
  },
  {
   "cell_type": "code",
   "execution_count": 85,
   "metadata": {},
   "outputs": [
    {
     "name": "stdout",
     "output_type": "stream",
     "text": [
      "[-1.  -0.5 -0.5] [-1.  -0.5  0. ] [-0.5  0.   0. ] [-1.  0.  0.]\n",
      "0.22474487139158894 0.1180339887498949 -0.5 0.0\n",
      "0.6898979485566358 0.8090169943749473 1.0\n",
      " \n",
      "[-0.91048125 -0.41048125 -0.41048125]\n"
     ]
    }
   ],
   "source": [
    "#98, 99, 100\n",
    "num_div=2\n",
    "p_0 = np.array([-1.,  -0.5, -0.5])\n",
    "tetra = [0, 4, 7, 6]\n",
    "p1 = p_0 + t_tetra(tetra[0])/num_div\n",
    "p2 = p_0 + t_tetra(tetra[1])/num_div\n",
    "p3 = p_0 + t_tetra(tetra[2])/num_div\n",
    "p4 = p_0 + t_tetra(tetra[3])/num_div\n",
    "\n",
    "print(p1,p2,p3,p4)\n",
    "\n",
    "c0 = esfera(p1[0],p1[1],p1[2])\n",
    "c1 = esfera(p2[0],p2[1],p2[2])\n",
    "c2 = esfera(p3[0],p3[1],p3[2])\n",
    "c3 = esfera(p4[0],p4[1],p4[2])\n",
    "\n",
    "print(c0,c1,c2,c3)\n",
    "# Deberian ser 0.22474487139158894 0.1180339887498949 -0.5 0.0\n",
    "\n",
    "cell = [0, 0, 1, 0]\n",
    "\n",
    "\n",
    "d1 = lin_inter(c2, c0)\n",
    "d2 = lin_inter(c2, c1)\n",
    "d3 = lin_inter(c2, c3)\n",
    "\n",
    "print(d1,d2,d3)\n",
    "\n",
    "print(\" \")\n",
    "#El problema es con v0\n",
    "v0 = move(tetra[0], tetra[2], 1-d1, p_0)\n",
    "#v1 = move(tetra[2], tetra[1], d2, p_0)\n",
    "#v2 = move(tetra[2], tetra[3], d3, p_0)\n",
    "print(v0)\n",
    "\n",
    "\n"
   ]
  },
  {
   "cell_type": "code",
   "execution_count": 82,
   "metadata": {},
   "outputs": [
    {
     "name": "stdout",
     "output_type": "stream",
     "text": [
      "[-1.  -0.5 -0.5] [-0.5  0.   0. ] [-1.  -0.5  0. ] [-0.5 -0.5  0. ]\n",
      "0.22474487139158894 -0.5 0.1180339887498949 -0.2928932188134524\n",
      "0.3101020514433643 0.43417375120630197 0.19098300562505266 0.28723819347420343\n",
      " \n",
      "[-0.91048125 -0.41048125 -0.41048125]\n"
     ]
    }
   ],
   "source": [
    "#94\n",
    "num_div=2\n",
    "p_0 = np.array([-1.,  -0.5, -0.5])\n",
    "tetra = [0, 7, 4, 5]\n",
    "p1 = p_0 + t_tetra(tetra[0])/num_div\n",
    "p2 = p_0 + t_tetra(tetra[1])/num_div\n",
    "p3 = p_0 + t_tetra(tetra[2])/num_div\n",
    "p4 = p_0 + t_tetra(tetra[3])/num_div\n",
    "\n",
    "print(p1,p2,p3,p4)\n",
    "\n",
    "c0 = esfera(p1[0],p1[1],p1[2])\n",
    "c1 = esfera(p2[0],p2[1],p2[2])\n",
    "c2 = esfera(p3[0],p3[1],p3[2])\n",
    "c3 = esfera(p4[0],p4[1],p4[2])\n",
    "\n",
    "print(c0,c1,c2,c3)\n",
    "#0.22474487139158894 -0.5 0.1180339887498949 -0.2928932188134524\n",
    "\n",
    "cell = [0, 1, 0, 1]\n",
    "\n",
    "d1 = lin_inter(c0, c1)\n",
    "d2 = lin_inter(c0, c3)\n",
    "d3 = lin_inter(c2, c1)\n",
    "d4 = lin_inter(c2, c3)\n",
    "\n",
    "print(d1,d2,d3,d4)\n",
    "\n",
    "print(\" \")\n",
    "\n",
    "#El problema es con v0 tambien\n",
    "v0 = move(tetra[0], tetra[1], d1, p_0)\n",
    "#v1 = move(tetra[0], tetra[3], d2, p_0)\n",
    "#v2 = move(tetra[2], tetra[1], d3, p_0)\n",
    "#v3 = move(tetra[2], tetra[3], d4, p_0)\n",
    "\n",
    "\n",
    "print(v0)"
   ]
  },
  {
   "cell_type": "code",
   "execution_count": 66,
   "metadata": {},
   "outputs": [],
   "source": [
    "def move_point(p_inicial, p_objetivo, d):\n",
    "    # Calcula el vector entre el punto inicial y el punto objetivo\n",
    "    vec_dir = p_objetivo - p_inicial\n",
    "    print(\"vec_dir: \",vec_dir)\n",
    "    # Normaliza el vector de dirección\n",
    "    vec_uni = vec_dir/np.linalg.norm(vec_dir)\n",
    "    print(\"vec_uni: \",vec_uni)\n",
    "    # Calcula el vector de desplazamiento multiplicando la dirección por la distancia \"d\"\n",
    "    vec_desplazamiento = d*vec_uni\n",
    "    print(\"vec_des: \",vec_desplazamiento)\n",
    "    # Calcula las coordenadas del nuevo punto sumando el vector de desplazamiento al punto inicial\n",
    "    nuevo_punto = p_inicial + vec_desplazamiento\n",
    "    print(\"nuevo_punto: \",nuevo_punto)\n",
    "\n",
    "    return nuevo_punto"
   ]
  }
 ],
 "metadata": {
  "kernelspec": {
   "display_name": "Python 3",
   "language": "python",
   "name": "python3"
  },
  "language_info": {
   "codemirror_mode": {
    "name": "ipython",
    "version": 3
   },
   "file_extension": ".py",
   "mimetype": "text/x-python",
   "name": "python",
   "nbconvert_exporter": "python",
   "pygments_lexer": "ipython3",
   "version": "3.9.13"
  },
  "orig_nbformat": 4
 },
 "nbformat": 4,
 "nbformat_minor": 2
}
